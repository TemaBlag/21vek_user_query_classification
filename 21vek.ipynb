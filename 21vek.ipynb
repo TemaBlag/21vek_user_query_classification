{
  "cells": [
    {
      "cell_type": "markdown",
      "source": [
        "## Data Ingestion"
      ],
      "metadata": {
        "id": "8IopVRIn3lS1"
      }
    },
    {
      "cell_type": "code",
      "execution_count": null,
      "metadata": {
        "id": "b894FG3DkmvE"
      },
      "outputs": [],
      "source": [
        "# ! wget https://raw.githubusercontent.com/TemaBlag/21vek_user_query_classification/main/data/categories.csv\n",
        "# ! wget https://raw.githubusercontent.com/TemaBlag/21vek_user_query_classification/main/data/sample_submission.csv\n",
        "# ! wget https://raw.githubusercontent.com/TemaBlag/21vek_user_query_classification/main/data/train.csv\n",
        "# ! wget https://raw.githubusercontent.com/TemaBlag/21vek_user_query_classification/main/data/test.csv"
      ]
    },
    {
      "cell_type": "code",
      "source": [
        "# ! pip install pymorphy2 fasttext huggingface_hub inspect2"
      ],
      "metadata": {
        "id": "hK1kAjddGQsf"
      },
      "execution_count": null,
      "outputs": []
    },
    {
      "cell_type": "code",
      "execution_count": null,
      "metadata": {
        "id": "PA8cLXVET6PP"
      },
      "outputs": [],
      "source": [
        "import pandas as pd\n",
        "import numpy as np\n",
        "import seaborn as sns\n",
        "import matplotlib.pyplot as plt\n",
        "import re\n",
        "from collections import Counter\n",
        "import os\n",
        "from huggingface_hub import login\n",
        "import getpass\n",
        "import pymorphy2\n",
        "from sklearn.model_selection import train_test_split, StratifiedKFold\n",
        "from sklearn.feature_extraction.text import TfidfVectorizer\n",
        "from sklearn.linear_model import LogisticRegression\n",
        "from sklearn.svm import LinearSVC\n",
        "from sklearn.naive_bayes import MultinomialNB\n",
        "from sklearn.pipeline import Pipeline\n",
        "from sklearn.metrics import f1_score, classification_report, confusion_matrix\n",
        "from sklearn.utils.class_weight import compute_class_weight\n",
        "import fasttext\n",
        "import torch\n",
        "import torch.nn as nn\n",
        "from torch.utils.data import Dataset, DataLoader\n",
        "from transformers import AutoTokenizer, AutoModel, get_linear_schedule_with_warmup\n",
        "from torch.optim import AdamW\n",
        "import inspect2\n",
        "import pymorphy2.units.base\n",
        "from tqdm.notebook import tqdm\n",
        "\n",
        "seed = 42\n",
        "np.random.seed(seed)\n",
        "torch.manual_seed(seed)\n",
        "if torch.cuda.is_available():\n",
        "    torch.cuda.manual_seed_all(seed)\n",
        "pymorphy2.units.base.inspect = inspect2"
      ]
    },
    {
      "cell_type": "code",
      "source": [
        "os.environ[\"HF_TOKEN\"] = getpass.getpass(\"Введите ваш Hugging Face токен: \")\n",
        "login(token=os.getenv(\"HF_TOKEN\"))"
      ],
      "metadata": {
        "colab": {
          "base_uri": "https://localhost:8080/"
        },
        "id": "R_FaE6yxGyKG",
        "outputId": "b0e9c6a7-8cc7-4e80-c614-e631acbb4615"
      },
      "execution_count": null,
      "outputs": [
        {
          "name": "stdout",
          "output_type": "stream",
          "text": [
            "Введите ваш Hugging Face токен: ··········\n"
          ]
        },
        {
          "output_type": "stream",
          "name": "stderr",
          "text": [
            "Note: Environment variable`HF_TOKEN` is set and is the current active token independently from the token you've just configured.\n",
            "WARNING:huggingface_hub._login:Note: Environment variable`HF_TOKEN` is set and is the current active token independently from the token you've just configured.\n"
          ]
        }
      ]
    },
    {
      "cell_type": "code",
      "execution_count": null,
      "metadata": {
        "id": "QwneL4cGT6Z2"
      },
      "outputs": [],
      "source": [
        "df_categories = pd.read_csv('categories.csv')\n",
        "df_test = pd.read_csv('test.csv')\n",
        "df_train = pd.read_csv('train.csv')\n",
        "df_sample_subm = pd.read_csv('sample_submission.csv')"
      ]
    },
    {
      "cell_type": "code",
      "execution_count": null,
      "metadata": {
        "colab": {
          "base_uri": "https://localhost:8080/",
          "height": 204
        },
        "id": "X4J1zyiUUx82",
        "outputId": "51841086-0664-4ed3-f1fc-2ef0b485332e"
      },
      "outputs": [
        {
          "output_type": "execute_result",
          "data": {
            "text/plain": [
              "   ID  CategoryID                                    Query\n",
              "0   1           1                                  edifier\n",
              "1   2           2        умная колонка яндекс станция лайт\n",
              "2   3           3                      чехол iphone 14 pro\n",
              "3   4           4                                      zte\n",
              "4   5           5  ноутбук huawei matebook b3-520 53012kfg"
            ],
            "text/html": [
              "\n",
              "  <div id=\"df-424384a6-56a5-4031-b820-435a5c7aeaa2\" class=\"colab-df-container\">\n",
              "    <div>\n",
              "<style scoped>\n",
              "    .dataframe tbody tr th:only-of-type {\n",
              "        vertical-align: middle;\n",
              "    }\n",
              "\n",
              "    .dataframe tbody tr th {\n",
              "        vertical-align: top;\n",
              "    }\n",
              "\n",
              "    .dataframe thead th {\n",
              "        text-align: right;\n",
              "    }\n",
              "</style>\n",
              "<table border=\"1\" class=\"dataframe\">\n",
              "  <thead>\n",
              "    <tr style=\"text-align: right;\">\n",
              "      <th></th>\n",
              "      <th>ID</th>\n",
              "      <th>CategoryID</th>\n",
              "      <th>Query</th>\n",
              "    </tr>\n",
              "  </thead>\n",
              "  <tbody>\n",
              "    <tr>\n",
              "      <th>0</th>\n",
              "      <td>1</td>\n",
              "      <td>1</td>\n",
              "      <td>edifier</td>\n",
              "    </tr>\n",
              "    <tr>\n",
              "      <th>1</th>\n",
              "      <td>2</td>\n",
              "      <td>2</td>\n",
              "      <td>умная колонка яндекс станция лайт</td>\n",
              "    </tr>\n",
              "    <tr>\n",
              "      <th>2</th>\n",
              "      <td>3</td>\n",
              "      <td>3</td>\n",
              "      <td>чехол iphone 14 pro</td>\n",
              "    </tr>\n",
              "    <tr>\n",
              "      <th>3</th>\n",
              "      <td>4</td>\n",
              "      <td>4</td>\n",
              "      <td>zte</td>\n",
              "    </tr>\n",
              "    <tr>\n",
              "      <th>4</th>\n",
              "      <td>5</td>\n",
              "      <td>5</td>\n",
              "      <td>ноутбук huawei matebook b3-520 53012kfg</td>\n",
              "    </tr>\n",
              "  </tbody>\n",
              "</table>\n",
              "</div>\n",
              "    <div class=\"colab-df-buttons\">\n",
              "\n",
              "  <div class=\"colab-df-container\">\n",
              "    <button class=\"colab-df-convert\" onclick=\"convertToInteractive('df-424384a6-56a5-4031-b820-435a5c7aeaa2')\"\n",
              "            title=\"Convert this dataframe to an interactive table.\"\n",
              "            style=\"display:none;\">\n",
              "\n",
              "  <svg xmlns=\"http://www.w3.org/2000/svg\" height=\"24px\" viewBox=\"0 -960 960 960\">\n",
              "    <path d=\"M120-120v-720h720v720H120Zm60-500h600v-160H180v160Zm220 220h160v-160H400v160Zm0 220h160v-160H400v160ZM180-400h160v-160H180v160Zm440 0h160v-160H620v160ZM180-180h160v-160H180v160Zm440 0h160v-160H620v160Z\"/>\n",
              "  </svg>\n",
              "    </button>\n",
              "\n",
              "  <style>\n",
              "    .colab-df-container {\n",
              "      display:flex;\n",
              "      gap: 12px;\n",
              "    }\n",
              "\n",
              "    .colab-df-convert {\n",
              "      background-color: #E8F0FE;\n",
              "      border: none;\n",
              "      border-radius: 50%;\n",
              "      cursor: pointer;\n",
              "      display: none;\n",
              "      fill: #1967D2;\n",
              "      height: 32px;\n",
              "      padding: 0 0 0 0;\n",
              "      width: 32px;\n",
              "    }\n",
              "\n",
              "    .colab-df-convert:hover {\n",
              "      background-color: #E2EBFA;\n",
              "      box-shadow: 0px 1px 2px rgba(60, 64, 67, 0.3), 0px 1px 3px 1px rgba(60, 64, 67, 0.15);\n",
              "      fill: #174EA6;\n",
              "    }\n",
              "\n",
              "    .colab-df-buttons div {\n",
              "      margin-bottom: 4px;\n",
              "    }\n",
              "\n",
              "    [theme=dark] .colab-df-convert {\n",
              "      background-color: #3B4455;\n",
              "      fill: #D2E3FC;\n",
              "    }\n",
              "\n",
              "    [theme=dark] .colab-df-convert:hover {\n",
              "      background-color: #434B5C;\n",
              "      box-shadow: 0px 1px 3px 1px rgba(0, 0, 0, 0.15);\n",
              "      filter: drop-shadow(0px 1px 2px rgba(0, 0, 0, 0.3));\n",
              "      fill: #FFFFFF;\n",
              "    }\n",
              "  </style>\n",
              "\n",
              "    <script>\n",
              "      const buttonEl =\n",
              "        document.querySelector('#df-424384a6-56a5-4031-b820-435a5c7aeaa2 button.colab-df-convert');\n",
              "      buttonEl.style.display =\n",
              "        google.colab.kernel.accessAllowed ? 'block' : 'none';\n",
              "\n",
              "      async function convertToInteractive(key) {\n",
              "        const element = document.querySelector('#df-424384a6-56a5-4031-b820-435a5c7aeaa2');\n",
              "        const dataTable =\n",
              "          await google.colab.kernel.invokeFunction('convertToInteractive',\n",
              "                                                    [key], {});\n",
              "        if (!dataTable) return;\n",
              "\n",
              "        const docLinkHtml = 'Like what you see? Visit the ' +\n",
              "          '<a target=\"_blank\" href=https://colab.research.google.com/notebooks/data_table.ipynb>data table notebook</a>'\n",
              "          + ' to learn more about interactive tables.';\n",
              "        element.innerHTML = '';\n",
              "        dataTable['output_type'] = 'display_data';\n",
              "        await google.colab.output.renderOutput(dataTable, element);\n",
              "        const docLink = document.createElement('div');\n",
              "        docLink.innerHTML = docLinkHtml;\n",
              "        element.appendChild(docLink);\n",
              "      }\n",
              "    </script>\n",
              "  </div>\n",
              "\n",
              "\n",
              "    <div id=\"df-7e217ee0-bfa7-4cd3-86d8-8499ab7dffff\">\n",
              "      <button class=\"colab-df-quickchart\" onclick=\"quickchart('df-7e217ee0-bfa7-4cd3-86d8-8499ab7dffff')\"\n",
              "                title=\"Suggest charts\"\n",
              "                style=\"display:none;\">\n",
              "\n",
              "<svg xmlns=\"http://www.w3.org/2000/svg\" height=\"24px\"viewBox=\"0 0 24 24\"\n",
              "     width=\"24px\">\n",
              "    <g>\n",
              "        <path d=\"M19 3H5c-1.1 0-2 .9-2 2v14c0 1.1.9 2 2 2h14c1.1 0 2-.9 2-2V5c0-1.1-.9-2-2-2zM9 17H7v-7h2v7zm4 0h-2V7h2v10zm4 0h-2v-4h2v4z\"/>\n",
              "    </g>\n",
              "</svg>\n",
              "      </button>\n",
              "\n",
              "<style>\n",
              "  .colab-df-quickchart {\n",
              "      --bg-color: #E8F0FE;\n",
              "      --fill-color: #1967D2;\n",
              "      --hover-bg-color: #E2EBFA;\n",
              "      --hover-fill-color: #174EA6;\n",
              "      --disabled-fill-color: #AAA;\n",
              "      --disabled-bg-color: #DDD;\n",
              "  }\n",
              "\n",
              "  [theme=dark] .colab-df-quickchart {\n",
              "      --bg-color: #3B4455;\n",
              "      --fill-color: #D2E3FC;\n",
              "      --hover-bg-color: #434B5C;\n",
              "      --hover-fill-color: #FFFFFF;\n",
              "      --disabled-bg-color: #3B4455;\n",
              "      --disabled-fill-color: #666;\n",
              "  }\n",
              "\n",
              "  .colab-df-quickchart {\n",
              "    background-color: var(--bg-color);\n",
              "    border: none;\n",
              "    border-radius: 50%;\n",
              "    cursor: pointer;\n",
              "    display: none;\n",
              "    fill: var(--fill-color);\n",
              "    height: 32px;\n",
              "    padding: 0;\n",
              "    width: 32px;\n",
              "  }\n",
              "\n",
              "  .colab-df-quickchart:hover {\n",
              "    background-color: var(--hover-bg-color);\n",
              "    box-shadow: 0 1px 2px rgba(60, 64, 67, 0.3), 0 1px 3px 1px rgba(60, 64, 67, 0.15);\n",
              "    fill: var(--button-hover-fill-color);\n",
              "  }\n",
              "\n",
              "  .colab-df-quickchart-complete:disabled,\n",
              "  .colab-df-quickchart-complete:disabled:hover {\n",
              "    background-color: var(--disabled-bg-color);\n",
              "    fill: var(--disabled-fill-color);\n",
              "    box-shadow: none;\n",
              "  }\n",
              "\n",
              "  .colab-df-spinner {\n",
              "    border: 2px solid var(--fill-color);\n",
              "    border-color: transparent;\n",
              "    border-bottom-color: var(--fill-color);\n",
              "    animation:\n",
              "      spin 1s steps(1) infinite;\n",
              "  }\n",
              "\n",
              "  @keyframes spin {\n",
              "    0% {\n",
              "      border-color: transparent;\n",
              "      border-bottom-color: var(--fill-color);\n",
              "      border-left-color: var(--fill-color);\n",
              "    }\n",
              "    20% {\n",
              "      border-color: transparent;\n",
              "      border-left-color: var(--fill-color);\n",
              "      border-top-color: var(--fill-color);\n",
              "    }\n",
              "    30% {\n",
              "      border-color: transparent;\n",
              "      border-left-color: var(--fill-color);\n",
              "      border-top-color: var(--fill-color);\n",
              "      border-right-color: var(--fill-color);\n",
              "    }\n",
              "    40% {\n",
              "      border-color: transparent;\n",
              "      border-right-color: var(--fill-color);\n",
              "      border-top-color: var(--fill-color);\n",
              "    }\n",
              "    60% {\n",
              "      border-color: transparent;\n",
              "      border-right-color: var(--fill-color);\n",
              "    }\n",
              "    80% {\n",
              "      border-color: transparent;\n",
              "      border-right-color: var(--fill-color);\n",
              "      border-bottom-color: var(--fill-color);\n",
              "    }\n",
              "    90% {\n",
              "      border-color: transparent;\n",
              "      border-bottom-color: var(--fill-color);\n",
              "    }\n",
              "  }\n",
              "</style>\n",
              "\n",
              "      <script>\n",
              "        async function quickchart(key) {\n",
              "          const quickchartButtonEl =\n",
              "            document.querySelector('#' + key + ' button');\n",
              "          quickchartButtonEl.disabled = true;  // To prevent multiple clicks.\n",
              "          quickchartButtonEl.classList.add('colab-df-spinner');\n",
              "          try {\n",
              "            const charts = await google.colab.kernel.invokeFunction(\n",
              "                'suggestCharts', [key], {});\n",
              "          } catch (error) {\n",
              "            console.error('Error during call to suggestCharts:', error);\n",
              "          }\n",
              "          quickchartButtonEl.classList.remove('colab-df-spinner');\n",
              "          quickchartButtonEl.classList.add('colab-df-quickchart-complete');\n",
              "        }\n",
              "        (() => {\n",
              "          let quickchartButtonEl =\n",
              "            document.querySelector('#df-7e217ee0-bfa7-4cd3-86d8-8499ab7dffff button');\n",
              "          quickchartButtonEl.style.display =\n",
              "            google.colab.kernel.accessAllowed ? 'block' : 'none';\n",
              "        })();\n",
              "      </script>\n",
              "    </div>\n",
              "    </div>\n",
              "  </div>\n"
            ],
            "application/vnd.google.colaboratory.intrinsic+json": {
              "type": "dataframe",
              "variable_name": "df_train",
              "summary": "{\n  \"name\": \"df_train\",\n  \"rows\": 11558,\n  \"fields\": [\n    {\n      \"column\": \"ID\",\n      \"properties\": {\n        \"dtype\": \"number\",\n        \"std\": 4091,\n        \"min\": 1,\n        \"max\": 14122,\n        \"num_unique_values\": 11558,\n        \"samples\": [\n          12971,\n          895,\n          8970\n        ],\n        \"semantic_type\": \"\",\n        \"description\": \"\"\n      }\n    },\n    {\n      \"column\": \"CategoryID\",\n      \"properties\": {\n        \"dtype\": \"number\",\n        \"std\": 13,\n        \"min\": 0,\n        \"max\": 66,\n        \"num_unique_values\": 66,\n        \"samples\": [\n          55,\n          63,\n          1\n        ],\n        \"semantic_type\": \"\",\n        \"description\": \"\"\n      }\n    },\n    {\n      \"column\": \"Query\",\n      \"properties\": {\n        \"dtype\": \"string\",\n        \"num_unique_values\": 11489,\n        \"samples\": [\n          \"iphone15 pro\",\n          \"\\u043d\\u0430\\u0443\\u0448\\u043d\\u0438\\u043a\\u0438-\\u0433\\u0430\\u0440\\u043d\\u0438\\u0442\\u0443\\u0440\\u0430 sven ap-g988mv (\\u0447\\u0435\\u0440\\u043d\\u044b\\u0439/\\u043a\\u0440\\u0430\\u0441\\u043d\\u044b\\u0439)\",\n          \"\\u043d\\u0430\\u0443\\u0448\\u043d\\u0438\\u043a\\u0438 \\u0438 \\u0433\\u0430\\u0440\\u043d\\u0438\\u0442\\u0443\\u0440\\u044b accesstyle\"\n        ],\n        \"semantic_type\": \"\",\n        \"description\": \"\"\n      }\n    }\n  ]\n}"
            }
          },
          "metadata": {},
          "execution_count": 9
        }
      ],
      "source": [
        "df_train.head()"
      ]
    },
    {
      "cell_type": "code",
      "execution_count": null,
      "metadata": {
        "colab": {
          "base_uri": "https://localhost:8080/"
        },
        "id": "nRN7ExAoB0aZ",
        "outputId": "e5c26d42-bfe5-4980-e1fd-3b3058e8f313"
      },
      "outputs": [
        {
          "output_type": "execute_result",
          "data": {
            "text/plain": [
              "11558"
            ]
          },
          "metadata": {},
          "execution_count": 10
        }
      ],
      "source": [
        "len(df_train)"
      ]
    },
    {
      "cell_type": "code",
      "execution_count": null,
      "metadata": {
        "colab": {
          "base_uri": "https://localhost:8080/"
        },
        "id": "9jzjyaXuB30j",
        "outputId": "b0e29f93-7bd7-4a8b-8f68-a33199969ce0"
      },
      "outputs": [
        {
          "output_type": "execute_result",
          "data": {
            "text/plain": [
              "3899"
            ]
          },
          "metadata": {},
          "execution_count": 14
        }
      ],
      "source": [
        "len(df_test)"
      ]
    },
    {
      "cell_type": "markdown",
      "source": [
        "## Exploratory Data Analysis"
      ],
      "metadata": {
        "id": "C9823-ti3u_a"
      }
    },
    {
      "cell_type": "code",
      "execution_count": null,
      "metadata": {
        "colab": {
          "base_uri": "https://localhost:8080/"
        },
        "id": "gNWvTZqDU6PE",
        "outputId": "abf2858f-fa28-44e8-f1ab-062a95ca688b"
      },
      "outputs": [
        {
          "output_type": "execute_result",
          "data": {
            "text/plain": [
              "0"
            ]
          },
          "metadata": {},
          "execution_count": 15
        }
      ],
      "source": [
        "sum(df_train.CategoryID.isna())"
      ]
    },
    {
      "cell_type": "code",
      "execution_count": null,
      "metadata": {
        "colab": {
          "base_uri": "https://localhost:8080/"
        },
        "id": "voRbHhVEVElU",
        "outputId": "c2e16c49-9442-4957-8f68-d74fa4c29cdc"
      },
      "outputs": [
        {
          "output_type": "execute_result",
          "data": {
            "text/plain": [
              "0"
            ]
          },
          "metadata": {},
          "execution_count": 16
        }
      ],
      "source": [
        "sum(df_train.Query == \"\")"
      ]
    },
    {
      "cell_type": "code",
      "execution_count": null,
      "metadata": {
        "id": "v1SAOSMxKrb7"
      },
      "outputs": [],
      "source": [
        "lengths_of_queries = np.array([len(val) for val in df_train.Query.values])"
      ]
    },
    {
      "cell_type": "code",
      "execution_count": null,
      "metadata": {
        "colab": {
          "base_uri": "https://localhost:8080/"
        },
        "id": "Cz9sTaPlJX5Y",
        "outputId": "7f59fa1d-cbb4-4c17-f12f-fd599aa4b654"
      },
      "outputs": [
        {
          "output_type": "stream",
          "name": "stdout",
          "text": [
            "Максимальная длина запроса: 132\n"
          ]
        }
      ],
      "source": [
        "print(f\"Максимальная длина запроса: {np.max(lengths_of_queries)}\")"
      ]
    },
    {
      "cell_type": "code",
      "execution_count": null,
      "metadata": {
        "colab": {
          "base_uri": "https://localhost:8080/"
        },
        "id": "H_8kV0SqKMY2",
        "outputId": "4fa9d047-417b-41ce-a2d7-0e0d3611c0b7"
      },
      "outputs": [
        {
          "output_type": "stream",
          "name": "stdout",
          "text": [
            "Средняя длина запроса: 32.79122685585742\n"
          ]
        }
      ],
      "source": [
        "print(f\"Средняя длина запроса: {np.mean(lengths_of_queries)}\")"
      ]
    },
    {
      "cell_type": "code",
      "execution_count": null,
      "metadata": {
        "colab": {
          "base_uri": "https://localhost:8080/",
          "height": 545
        },
        "id": "M5pY7rQ7KoLU",
        "outputId": "68b8b593-1ee1-4879-c0a1-9d0ec248ebc9"
      },
      "outputs": [
        {
          "output_type": "display_data",
          "data": {
            "text/plain": [
              "<Figure size 1000x600 with 1 Axes>"
            ],
            "image/png": "[encoded data removed]"
          },
          "metadata": {}
        }
      ],
      "source": [
        "plt.figure(figsize=(10, 6))\n",
        "plt.hist(lengths_of_queries)\n",
        "plt.title('Длины запросов')\n",
        "plt.show()"
      ]
    },
    {
      "cell_type": "code",
      "execution_count": null,
      "metadata": {
        "id": "BUmsBd2ue1Ye"
      },
      "outputs": [],
      "source": [
        "query_text = \" \".join(df_train.Query.values[:30]).lower()"
      ]
    },
    {
      "cell_type": "code",
      "execution_count": null,
      "metadata": {
        "colab": {
          "base_uri": "https://localhost:8080/",
          "height": 120
        },
        "id": "qwKn7K7NCTj0",
        "outputId": "0df9bd77-7dd8-4235-a9a4-173bfe8453a4"
      },
      "outputs": [
        {
          "output_type": "execute_result",
          "data": {
            "text/plain": [
              "'edifier умная колонка яндекс станция лайт чехол iphone 14 pro zte ноутбук huawei matebook b3-520 53012kfg мультимедиа акустика sven ms-2050bl ssd samsung 870 evo 500gb кабели, переходники baseus переходник сетевой robiton travelenergy держатели для смартфонов авто tcl защитное стекло для iphone 12 mini батареи для ибп 1207 мобильный телефон nokia 150 ds / та-1582 (черный) защитное стекло для телефона case antistatic для redmi note 13 (черный) адаптер atcom at6851 displayport(m) - vga(f) (0.1м) смартфон xiaomi redmi note 12 pro 8gb/256gb (polar white) бокс для жесткого диска gembird ee2-u3s-55 батарейка camelion 6lr61 plus alkaline bl-1 / 6lr61-bp1 venso радиочасы soundmax sm-1520b (черный/зеленый) умные часы детские prolike plsw02pp (сиреневый) ремешок для mi band 6 материнская плата msi pro z790-a max wifi 21 век защитное стекло apple 11 pro смартфон apple iphone 15 pro 512gb a3102 / a3101\\xa0(белый титан) мыши и клавиатуры defender держатель для смартфонов xiaomi mi wireless car charger wcj02zm / gds4127gl кабель cablexpert pc-186-1-1.8m'"
            ],
            "application/vnd.google.colaboratory.intrinsic+json": {
              "type": "string"
            }
          },
          "metadata": {},
          "execution_count": 44
        }
      ],
      "source": [
        "query_text"
      ]
    },
    {
      "cell_type": "code",
      "execution_count": null,
      "metadata": {
        "colab": {
          "base_uri": "https://localhost:8080/"
        },
        "id": "HT0EcqbkR-1s",
        "outputId": "62f88ea7-dd4d-4a4f-c9ab-3cc1f564e132"
      },
      "outputs": [
        {
          "output_type": "stream",
          "name": "stdout",
          "text": [
            "[('для', 1460), ('черный', 1182), ('чехол', 700), ('xiaomi', 591), ('pro', 552), ('смартфон', 541), ('кабель', 539), ('наушники', 487), ('samsung', 486), ('iphone', 452), ('redmi', 432), ('телевизор', 406), ('apple', 390), ('ноутбук', 379), ('на', 373), ('usb', 341), ('мышь', 339), ('128gb', 330), ('белый', 303), ('256gb', 291)]\n"
          ]
        }
      ],
      "source": [
        "text = \" \".join(df_train.Query.values).lower()\n",
        "words = re.findall(r'\\b\\w+\\b', text)\n",
        "word_counts = Counter(words)\n",
        "\n",
        "print(word_counts.most_common(20))"
      ]
    },
    {
      "cell_type": "code",
      "execution_count": null,
      "metadata": {
        "id": "aq68WjGWWaOp"
      },
      "outputs": [],
      "source": [
        "category_id_to_name = dict(zip(df_categories['CategoryID'], df_categories['CategoryName']))"
      ]
    },
    {
      "cell_type": "code",
      "source": [
        "category_name_to_id = {v: k for k, v in category_id_to_name.items()}\n",
        "n_classes = len(category_id_to_name)"
      ],
      "metadata": {
        "id": "er3RZeYKIvU7"
      },
      "execution_count": null,
      "outputs": []
    },
    {
      "cell_type": "code",
      "execution_count": null,
      "metadata": {
        "colab": {
          "base_uri": "https://localhost:8080/"
        },
        "id": "23GwqMpNWlyw",
        "outputId": "5d791724-a6c9-4f15-dc82-5309b2f0cf47"
      },
      "outputs": [
        {
          "output_type": "execute_result",
          "data": {
            "text/plain": [
              "{0: 'Монитор',\n",
              " 1: 'Мультимедиа акустика',\n",
              " 2: 'Портативная акустика',\n",
              " 3: 'Чехол/защитное стекло для телефона',\n",
              " 4: 'Мобильный телефон',\n",
              " 5: 'Ноутбук',\n",
              " 6: 'Жесткий диск/SSD',\n",
              " 7: 'Кабель',\n",
              " 8: 'Сетевой фильтр/удлинитель',\n",
              " 9: 'Держатель/док-станция для порт. устройств',\n",
              " 10: 'Телевизор',\n",
              " 11: 'Источник бесперебойного питания',\n",
              " 12: 'Бокс/док-станция для накопителей',\n",
              " 13: 'Элемент питания',\n",
              " 14: 'Наушники/гарнитура',\n",
              " 15: 'Радиочасы/метеостанция',\n",
              " 16: 'Умные часы',\n",
              " 17: 'Аксессуар для умных часов',\n",
              " 18: 'Материнская плата',\n",
              " 19: 'Сумка/чехол для ноутбука',\n",
              " 20: 'Мышь/клавиатура',\n",
              " 21: 'Планшет',\n",
              " 22: 'USB flash',\n",
              " 23: 'Беспроводная точка доступа',\n",
              " 24: 'Игровая приставка',\n",
              " 25: 'ЗУ/адаптер для портативных устройств',\n",
              " 26: 'Кронштейн/стойка',\n",
              " 27: 'Корпус для компьютера',\n",
              " 28: 'Игра для игровой консоли',\n",
              " 29: 'Кулер для компьютера',\n",
              " 30: 'Карта памяти',\n",
              " 31: 'Игровой контроллер',\n",
              " 32: 'Портативное зарядное устройство',\n",
              " 33: 'Фотоаппарат',\n",
              " 34: 'Чехол/бампер для планшета',\n",
              " 35: 'Камера для видеонаблюдения',\n",
              " 36: 'Штатив для фото-/видеокамеры',\n",
              " 37: 'Маршрутизатор/DSL-модем',\n",
              " 38: 'Внешний HDD',\n",
              " 39: 'Процессор',\n",
              " 40: 'Оперативная память',\n",
              " 41: 'Видеокарта',\n",
              " 42: 'Док-станция/репликатор для ноутбука',\n",
              " 43: 'Сумка/чехол для фото/видеокамеры',\n",
              " 44: 'DVD-плеер',\n",
              " 45: 'Аксессуар для ТВ',\n",
              " 46: 'Стационарный компьютер',\n",
              " 47: 'Блокнот электронный',\n",
              " 48: 'Техническая сигнализация',\n",
              " 49: 'Беспроводной адаптер',\n",
              " 50: 'Аксессуар для фото- и видеокамер',\n",
              " 51: 'Аксессуар для приставки',\n",
              " 52: 'Проектор',\n",
              " 53: 'Электронная книга',\n",
              " 54: 'Моноблок',\n",
              " 55: 'Аксессуар для CCTV',\n",
              " 56: 'Фон для фотостудии',\n",
              " 57: 'Радиоприемник',\n",
              " 58: 'Насадка светоформирующая для фотостудии',\n",
              " 59: 'Сумка/чехол для акустики',\n",
              " 60: 'Домашний кинотеатр',\n",
              " 61: 'Комплектующие для акустики',\n",
              " 62: 'Виниловая пластинка',\n",
              " 63: 'ТВ-антенна',\n",
              " 64: 'Оборудование для предметной съемки',\n",
              " 65: 'Аксессуар для ноутбука',\n",
              " 66: 'Металлодетектор'}"
            ]
          },
          "metadata": {},
          "execution_count": 12
        }
      ],
      "source": [
        "category_id_to_name"
      ]
    },
    {
      "cell_type": "code",
      "execution_count": null,
      "metadata": {
        "colab": {
          "base_uri": "https://localhost:8080/"
        },
        "id": "kexssU8gDvy0",
        "outputId": "fe160b51-cdb8-4766-b178-f977b4eda5e3"
      },
      "outputs": [
        {
          "output_type": "stream",
          "name": "stdout",
          "text": [
            "Query: edifier; Answer: 1\n",
            "Query: умная колонка яндекс станция лайт; Answer: 2\n",
            "Query: чехол iphone 14 pro; Answer: 3\n",
            "Query: zte; Answer: 4\n",
            "Query: ноутбук huawei matebook b3-520 53012kfg; Answer: 5\n"
          ]
        }
      ],
      "source": [
        "for i in range(5):\n",
        "    print(f\"Query: {df_train.Query.iloc[i]}; Answer: {df_train.CategoryID.iloc[i]}\")"
      ]
    },
    {
      "cell_type": "code",
      "execution_count": null,
      "metadata": {
        "colab": {
          "base_uri": "https://localhost:8080/"
        },
        "id": "uR99xUppWFGg",
        "outputId": "bece3721-374e-4e1f-e78b-6b3ff5c32f7a"
      },
      "outputs": [
        {
          "output_type": "stream",
          "name": "stdout",
          "text": [
            "Query: edifier; Answer: Мультимедиа акустика\n",
            "Query: умная колонка яндекс станция лайт; Answer: Портативная акустика\n",
            "Query: чехол iphone 14 pro; Answer: Чехол/защитное стекло для телефона\n",
            "Query: zte; Answer: Мобильный телефон\n",
            "Query: ноутбук huawei matebook b3-520 53012kfg; Answer: Ноутбук\n",
            "Query: мультимедиа акустика sven ms-2050bl; Answer: Мультимедиа акустика\n",
            "Query: ssd samsung 870 evo 500gb; Answer: Жесткий диск/SSD\n",
            "Query: кабели, переходники baseus; Answer: Кабель\n",
            "Query: переходник сетевой robiton travelenergy; Answer: Сетевой фильтр/удлинитель\n",
            "Query: держатели для смартфонов авто; Answer: Держатель/док-станция для порт. устройств\n"
          ]
        }
      ],
      "source": [
        "for i in range(10):\n",
        "    print(f\"Query: {df_train.Query.iloc[i]}; Answer: {category_id_to_name[df_train.CategoryID.iloc[i]]}\")"
      ]
    },
    {
      "cell_type": "code",
      "source": [
        "category_percentages = df_train['CategoryID'].value_counts(normalize=True) * 100\n",
        "print(category_percentages)"
      ],
      "metadata": {
        "colab": {
          "base_uri": "https://localhost:8080/"
        },
        "id": "FmFN1G6WrYch",
        "outputId": "7ab6e153-0998-4d52-fa71-bdf472d07452"
      },
      "execution_count": null,
      "outputs": [
        {
          "output_type": "stream",
          "name": "stdout",
          "text": [
            "CategoryID\n",
            "3     11.282229\n",
            "4     10.538155\n",
            "7      9.422045\n",
            "20     7.674338\n",
            "14     6.393840\n",
            "        ...    \n",
            "61     0.043260\n",
            "65     0.043260\n",
            "47     0.034608\n",
            "64     0.025956\n",
            "66     0.025956\n",
            "Name: proportion, Length: 66, dtype: float64\n"
          ]
        }
      ]
    },
    {
      "cell_type": "code",
      "execution_count": null,
      "metadata": {
        "colab": {
          "base_uri": "https://localhost:8080/",
          "height": 675
        },
        "id": "PRhZrO0HG9bB",
        "outputId": "6829d1f9-0348-485c-eba2-894814e69d74"
      },
      "outputs": [
        {
          "output_type": "display_data",
          "data": {
            "text/plain": [
              "<Figure size 1000x800 with 1 Axes>"
            ],
            "image/png": "[encoded data removed]"
          },
          "metadata": {}
        }
      ],
      "source": [
        "category_counts = df_train['CategoryID'].value_counts()\n",
        "\n",
        "plt.figure(figsize=(10, 8))\n",
        "sns.set_style(\"whitegrid\")\n",
        "plt.pie(category_counts, labels=category_counts.index, autopct='%1.1f%%')\n",
        "plt.title('Распределение категорий в тренировочных данных')\n",
        "plt.show()"
      ]
    },
    {
      "cell_type": "markdown",
      "source": [
        "## Feature Engineering"
      ],
      "metadata": {
        "id": "SBQX4wqX34MC"
      }
    },
    {
      "cell_type": "code",
      "source": [
        "morph = pymorphy2.MorphAnalyzer()\n",
        "russian_stopwords = ['для', 'на', 'и']\n",
        "\n",
        "\n",
        "def preprocess_text(text, lemmatize=True, remove_stopwords=False):\n",
        "    text = str(text).lower()\n",
        "    text = re.sub(r'[^a-zа-я0-9ё\\s-]', '', text)\n",
        "    text = re.sub(r'\\s+', ' ', text).strip()\n",
        "\n",
        "    if lemmatize:\n",
        "        words = text.split()\n",
        "        lemmatized_words = [morph.parse(word)[0].normal_form for word in words]\n",
        "        text = \" \".join(lemmatized_words)\n",
        "\n",
        "    if remove_stopwords:\n",
        "        words = text.split()\n",
        "        words = [word for word in words if word not in russian_stopwords]\n",
        "        text = \" \".join(words)\n",
        "    return text"
      ],
      "metadata": {
        "id": "0_-CNf1SJJwm"
      },
      "execution_count": null,
      "outputs": []
    },
    {
      "cell_type": "code",
      "source": [
        "df_train['Query_Lemma'] = df_train['Query'].apply(lambda x: preprocess_text(x, lemmatize=True, remove_stopwords=True))\n",
        "df_test['Query_Lemma'] = df_test['Query'].apply(lambda x: preprocess_text(x, lemmatize=True, remove_stopwords=True))"
      ],
      "metadata": {
        "id": "dBh5tjeRKP-y"
      },
      "execution_count": null,
      "outputs": []
    },
    {
      "cell_type": "code",
      "source": [
        "len(np.unique(\" \".join(df_train['Query_Lemma']).split()))"
      ],
      "metadata": {
        "colab": {
          "base_uri": "https://localhost:8080/"
        },
        "id": "aVvr_5EGQ9r6",
        "outputId": "78892154-fbb1-415e-b122-4eab7ae3a0bf"
      },
      "execution_count": null,
      "outputs": [
        {
          "output_type": "execute_result",
          "data": {
            "text/plain": [
              "9382"
            ]
          },
          "metadata": {},
          "execution_count": 47
        }
      ]
    },
    {
      "cell_type": "code",
      "source": [
        "X = df_train['Query_Lemma']\n",
        "y = df_train['CategoryID']\n",
        "\n",
        "X_train_lemma, X_val_lemma, y_train_lemma, y_val_lemma = train_test_split(X, y, test_size=0.2, random_state=seed, stratify=y)"
      ],
      "metadata": {
        "id": "gZ4FC07GKDjT"
      },
      "execution_count": null,
      "outputs": []
    },
    {
      "cell_type": "code",
      "source": [
        "X = df_train['Query']\n",
        "y = df_train['CategoryID']\n",
        "\n",
        "X_train, X_val, y_train, y_val = train_test_split(X, y, test_size=0.2, random_state=seed, stratify=y)\n",
        "\n",
        "print(f\"Train set size: {len(X_train)}\")\n",
        "print(f\"Validation set size: {len(X_val)}\")"
      ],
      "metadata": {
        "colab": {
          "base_uri": "https://localhost:8080/"
        },
        "id": "9Y5QdEwTKmxB",
        "outputId": "56234a48-89a7-45f5-f572-73ba8d886027"
      },
      "execution_count": null,
      "outputs": [
        {
          "output_type": "stream",
          "name": "stdout",
          "text": [
            "Train set size: 9246\n",
            "Validation set size: 2312\n"
          ]
        }
      ]
    },
    {
      "cell_type": "code",
      "source": [
        "print(\"Обычные запросы:\")\n",
        "for i, query in enumerate(df_train['Query'].head(), start=1):\n",
        "    print(f\"{i}. {query}\")\n",
        "print(\"Лемматизированные запросы:\")\n",
        "for i, query in enumerate(df_train['Query_Lemma'].head(), start=1):\n",
        "    print(f\"{i}. {query}\")"
      ],
      "metadata": {
        "colab": {
          "base_uri": "https://localhost:8080/"
        },
        "id": "1ZhlJgCFKY2k",
        "outputId": "2e09cba0-a338-4596-ebd1-55152efc76b4"
      },
      "execution_count": null,
      "outputs": [
        {
          "output_type": "stream",
          "name": "stdout",
          "text": [
            "Обычные запросы:\n",
            "1. edifier\n",
            "2. умная колонка яндекс станция лайт\n",
            "3. чехол iphone 14 pro\n",
            "4. zte\n",
            "5. ноутбук huawei matebook b3-520 53012kfg\n",
            "Лемматизированные запросы:\n",
            "1. edifier\n",
            "2. умный колонка яндекс станция лайта\n",
            "3. чехол iphone 14 pro\n",
            "4. zte\n",
            "5. ноутбук huawei matebook b3-520 53012kfg\n"
          ]
        }
      ]
    },
    {
      "cell_type": "markdown",
      "source": [
        "## TF-IDF + Logistic Regression"
      ],
      "metadata": {
        "id": "ko5-QMZ9LQS6"
      }
    },
    {
      "cell_type": "code",
      "source": [
        "tfidf_logreg_pipeline = Pipeline([\n",
        "    ('tfidf', TfidfVectorizer(ngram_range=(1, 2), min_df=3, max_df=0.9, sublinear_tf=True)),\n",
        "    ('clf', LogisticRegression(solver='liblinear', class_weight='balanced', C=1.0, random_state=seed))\n",
        "])\n",
        "\n",
        "tfidf_logreg_pipeline.fit(X_train_lemma, y_train)"
      ],
      "metadata": {
        "colab": {
          "base_uri": "https://localhost:8080/",
          "height": 156
        },
        "id": "ZrikdTQqKDl_",
        "outputId": "f0fc9da5-533c-4b73-fd2d-8cd388eea827"
      },
      "execution_count": null,
      "outputs": [
        {
          "output_type": "execute_result",
          "data": {
            "text/plain": [
              "Pipeline(steps=[('tfidf',\n",
              "                 TfidfVectorizer(max_df=0.9, min_df=3, ngram_range=(1, 2),\n",
              "                                 sublinear_tf=True)),\n",
              "                ('clf',\n",
              "                 LogisticRegression(class_weight='balanced', random_state=42,\n",
              "                                    solver='liblinear'))])"
            ],
            "text/html": [
              "<style>#sk-container-id-1 {\n",
              "  /* Definition of color scheme common for light and dark mode */\n",
              "  --sklearn-color-text: #000;\n",
              "  --sklearn-color-text-muted: #666;\n",
              "  --sklearn-color-line: gray;\n",
              "  /* Definition of color scheme for unfitted estimators */\n",
              "  --sklearn-color-unfitted-level-0: #fff5e6;\n",
              "  --sklearn-color-unfitted-level-1: #f6e4d2;\n",
              "  --sklearn-color-unfitted-level-2: #ffe0b3;\n",
              "  --sklearn-color-unfitted-level-3: chocolate;\n",
              "  /* Definition of color scheme for fitted estimators */\n",
              "  --sklearn-color-fitted-level-0: #f0f8ff;\n",
              "  --sklearn-color-fitted-level-1: #d4ebff;\n",
              "  --sklearn-color-fitted-level-2: #b3dbfd;\n",
              "  --sklearn-color-fitted-level-3: cornflowerblue;\n",
              "\n",
              "  /* Specific color for light theme */\n",
              "  --sklearn-color-text-on-default-background: var(--sg-text-color, var(--theme-code-foreground, var(--jp-content-font-color1, black)));\n",
              "  --sklearn-color-background: var(--sg-background-color, var(--theme-background, var(--jp-layout-color0, white)));\n",
              "  --sklearn-color-border-box: var(--sg-text-color, var(--theme-code-foreground, var(--jp-content-font-color1, black)));\n",
              "  --sklearn-color-icon: #696969;\n",
              "\n",
              "  @media (prefers-color-scheme: dark) {\n",
              "    /* Redefinition of color scheme for dark theme */\n",
              "    --sklearn-color-text-on-default-background: var(--sg-text-color, var(--theme-code-foreground, var(--jp-content-font-color1, white)));\n",
              "    --sklearn-color-background: var(--sg-background-color, var(--theme-background, var(--jp-layout-color0, #111)));\n",
              "    --sklearn-color-border-box: var(--sg-text-color, var(--theme-code-foreground, var(--jp-content-font-color1, white)));\n",
              "    --sklearn-color-icon: #878787;\n",
              "  }\n",
              "}\n",
              "\n",
              "#sk-container-id-1 {\n",
              "  color: var(--sklearn-color-text);\n",
              "}\n",
              "\n",
              "#sk-container-id-1 pre {\n",
              "  padding: 0;\n",
              "}\n",
              "\n",
              "#sk-container-id-1 input.sk-hidden--visually {\n",
              "  border: 0;\n",
              "  clip: rect(1px 1px 1px 1px);\n",
              "  clip: rect(1px, 1px, 1px, 1px);\n",
              "  height: 1px;\n",
              "  margin: -1px;\n",
              "  overflow: hidden;\n",
              "  padding: 0;\n",
              "  position: absolute;\n",
              "  width: 1px;\n",
              "}\n",
              "\n",
              "#sk-container-id-1 div.sk-dashed-wrapped {\n",
              "  border: 1px dashed var(--sklearn-color-line);\n",
              "  margin: 0 0.4em 0.5em 0.4em;\n",
              "  box-sizing: border-box;\n",
              "  padding-bottom: 0.4em;\n",
              "  background-color: var(--sklearn-color-background);\n",
              "}\n",
              "\n",
              "#sk-container-id-1 div.sk-container {\n",
              "  /* jupyter's `normalize.less` sets `[hidden] { display: none; }`\n",
              "     but bootstrap.min.css set `[hidden] { display: none !important; }`\n",
              "     so we also need the `!important` here to be able to override the\n",
              "     default hidden behavior on the sphinx rendered scikit-learn.org.\n",
              "     See: https://github.com/scikit-learn/scikit-learn/issues/21755 */\n",
              "  display: inline-block !important;\n",
              "  position: relative;\n",
              "}\n",
              "\n",
              "#sk-container-id-1 div.sk-text-repr-fallback {\n",
              "  display: none;\n",
              "}\n",
              "\n",
              "div.sk-parallel-item,\n",
              "div.sk-serial,\n",
              "div.sk-item {\n",
              "  /* draw centered vertical line to link estimators */\n",
              "  background-image: linear-gradient(var(--sklearn-color-text-on-default-background), var(--sklearn-color-text-on-default-background));\n",
              "  background-size: 2px 100%;\n",
              "  background-repeat: no-repeat;\n",
              "  background-position: center center;\n",
              "}\n",
              "\n",
              "/* Parallel-specific style estimator block */\n",
              "\n",
              "#sk-container-id-1 div.sk-parallel-item::after {\n",
              "  content: \"\";\n",
              "  width: 100%;\n",
              "  border-bottom: 2px solid var(--sklearn-color-text-on-default-background);\n",
              "  flex-grow: 1;\n",
              "}\n",
              "\n",
              "#sk-container-id-1 div.sk-parallel {\n",
              "  display: flex;\n",
              "  align-items: stretch;\n",
              "  justify-content: center;\n",
              "  background-color: var(--sklearn-color-background);\n",
              "  position: relative;\n",
              "}\n",
              "\n",
              "#sk-container-id-1 div.sk-parallel-item {\n",
              "  display: flex;\n",
              "  flex-direction: column;\n",
              "}\n",
              "\n",
              "#sk-container-id-1 div.sk-parallel-item:first-child::after {\n",
              "  align-self: flex-end;\n",
              "  width: 50%;\n",
              "}\n",
              "\n",
              "#sk-container-id-1 div.sk-parallel-item:last-child::after {\n",
              "  align-self: flex-start;\n",
              "  width: 50%;\n",
              "}\n",
              "\n",
              "#sk-container-id-1 div.sk-parallel-item:only-child::after {\n",
              "  width: 0;\n",
              "}\n",
              "\n",
              "/* Serial-specific style estimator block */\n",
              "\n",
              "#sk-container-id-1 div.sk-serial {\n",
              "  display: flex;\n",
              "  flex-direction: column;\n",
              "  align-items: center;\n",
              "  background-color: var(--sklearn-color-background);\n",
              "  padding-right: 1em;\n",
              "  padding-left: 1em;\n",
              "}\n",
              "\n",
              "\n",
              "/* Toggleable style: style used for estimator/Pipeline/ColumnTransformer box that is\n",
              "clickable and can be expanded/collapsed.\n",
              "- Pipeline and ColumnTransformer use this feature and define the default style\n",
              "- Estimators will overwrite some part of the style using the `sk-estimator` class\n",
              "*/\n",
              "\n",
              "/* Pipeline and ColumnTransformer style (default) */\n",
              "\n",
              "#sk-container-id-1 div.sk-toggleable {\n",
              "  /* Default theme specific background. It is overwritten whether we have a\n",
              "  specific estimator or a Pipeline/ColumnTransformer */\n",
              "  background-color: var(--sklearn-color-background);\n",
              "}\n",
              "\n",
              "/* Toggleable label */\n",
              "#sk-container-id-1 label.sk-toggleable__label {\n",
              "  cursor: pointer;\n",
              "  display: flex;\n",
              "  width: 100%;\n",
              "  margin-bottom: 0;\n",
              "  padding: 0.5em;\n",
              "  box-sizing: border-box;\n",
              "  text-align: center;\n",
              "  align-items: start;\n",
              "  justify-content: space-between;\n",
              "  gap: 0.5em;\n",
              "}\n",
              "\n",
              "#sk-container-id-1 label.sk-toggleable__label .caption {\n",
              "  font-size: 0.6rem;\n",
              "  font-weight: lighter;\n",
              "  color: var(--sklearn-color-text-muted);\n",
              "}\n",
              "\n",
              "#sk-container-id-1 label.sk-toggleable__label-arrow:before {\n",
              "  /* Arrow on the left of the label */\n",
              "  content: \"▸\";\n",
              "  float: left;\n",
              "  margin-right: 0.25em;\n",
              "  color: var(--sklearn-color-icon);\n",
              "}\n",
              "\n",
              "#sk-container-id-1 label.sk-toggleable__label-arrow:hover:before {\n",
              "  color: var(--sklearn-color-text);\n",
              "}\n",
              "\n",
              "/* Toggleable content - dropdown */\n",
              "\n",
              "#sk-container-id-1 div.sk-toggleable__content {\n",
              "  max-height: 0;\n",
              "  max-width: 0;\n",
              "  overflow: hidden;\n",
              "  text-align: left;\n",
              "  /* unfitted */\n",
              "  background-color: var(--sklearn-color-unfitted-level-0);\n",
              "}\n",
              "\n",
              "#sk-container-id-1 div.sk-toggleable__content.fitted {\n",
              "  /* fitted */\n",
              "  background-color: var(--sklearn-color-fitted-level-0);\n",
              "}\n",
              "\n",
              "#sk-container-id-1 div.sk-toggleable__content pre {\n",
              "  margin: 0.2em;\n",
              "  border-radius: 0.25em;\n",
              "  color: var(--sklearn-color-text);\n",
              "  /* unfitted */\n",
              "  background-color: var(--sklearn-color-unfitted-level-0);\n",
              "}\n",
              "\n",
              "#sk-container-id-1 div.sk-toggleable__content.fitted pre {\n",
              "  /* unfitted */\n",
              "  background-color: var(--sklearn-color-fitted-level-0);\n",
              "}\n",
              "\n",
              "#sk-container-id-1 input.sk-toggleable__control:checked~div.sk-toggleable__content {\n",
              "  /* Expand drop-down */\n",
              "  max-height: 200px;\n",
              "  max-width: 100%;\n",
              "  overflow: auto;\n",
              "}\n",
              "\n",
              "#sk-container-id-1 input.sk-toggleable__control:checked~label.sk-toggleable__label-arrow:before {\n",
              "  content: \"▾\";\n",
              "}\n",
              "\n",
              "/* Pipeline/ColumnTransformer-specific style */\n",
              "\n",
              "#sk-container-id-1 div.sk-label input.sk-toggleable__control:checked~label.sk-toggleable__label {\n",
              "  color: var(--sklearn-color-text);\n",
              "  background-color: var(--sklearn-color-unfitted-level-2);\n",
              "}\n",
              "\n",
              "#sk-container-id-1 div.sk-label.fitted input.sk-toggleable__control:checked~label.sk-toggleable__label {\n",
              "  background-color: var(--sklearn-color-fitted-level-2);\n",
              "}\n",
              "\n",
              "/* Estimator-specific style */\n",
              "\n",
              "/* Colorize estimator box */\n",
              "#sk-container-id-1 div.sk-estimator input.sk-toggleable__control:checked~label.sk-toggleable__label {\n",
              "  /* unfitted */\n",
              "  background-color: var(--sklearn-color-unfitted-level-2);\n",
              "}\n",
              "\n",
              "#sk-container-id-1 div.sk-estimator.fitted input.sk-toggleable__control:checked~label.sk-toggleable__label {\n",
              "  /* fitted */\n",
              "  background-color: var(--sklearn-color-fitted-level-2);\n",
              "}\n",
              "\n",
              "#sk-container-id-1 div.sk-label label.sk-toggleable__label,\n",
              "#sk-container-id-1 div.sk-label label {\n",
              "  /* The background is the default theme color */\n",
              "  color: var(--sklearn-color-text-on-default-background);\n",
              "}\n",
              "\n",
              "/* On hover, darken the color of the background */\n",
              "#sk-container-id-1 div.sk-label:hover label.sk-toggleable__label {\n",
              "  color: var(--sklearn-color-text);\n",
              "  background-color: var(--sklearn-color-unfitted-level-2);\n",
              "}\n",
              "\n",
              "/* Label box, darken color on hover, fitted */\n",
              "#sk-container-id-1 div.sk-label.fitted:hover label.sk-toggleable__label.fitted {\n",
              "  color: var(--sklearn-color-text);\n",
              "  background-color: var(--sklearn-color-fitted-level-2);\n",
              "}\n",
              "\n",
              "/* Estimator label */\n",
              "\n",
              "#sk-container-id-1 div.sk-label label {\n",
              "  font-family: monospace;\n",
              "  font-weight: bold;\n",
              "  display: inline-block;\n",
              "  line-height: 1.2em;\n",
              "}\n",
              "\n",
              "#sk-container-id-1 div.sk-label-container {\n",
              "  text-align: center;\n",
              "}\n",
              "\n",
              "/* Estimator-specific */\n",
              "#sk-container-id-1 div.sk-estimator {\n",
              "  font-family: monospace;\n",
              "  border: 1px dotted var(--sklearn-color-border-box);\n",
              "  border-radius: 0.25em;\n",
              "  box-sizing: border-box;\n",
              "  margin-bottom: 0.5em;\n",
              "  /* unfitted */\n",
              "  background-color: var(--sklearn-color-unfitted-level-0);\n",
              "}\n",
              "\n",
              "#sk-container-id-1 div.sk-estimator.fitted {\n",
              "  /* fitted */\n",
              "  background-color: var(--sklearn-color-fitted-level-0);\n",
              "}\n",
              "\n",
              "/* on hover */\n",
              "#sk-container-id-1 div.sk-estimator:hover {\n",
              "  /* unfitted */\n",
              "  background-color: var(--sklearn-color-unfitted-level-2);\n",
              "}\n",
              "\n",
              "#sk-container-id-1 div.sk-estimator.fitted:hover {\n",
              "  /* fitted */\n",
              "  background-color: var(--sklearn-color-fitted-level-2);\n",
              "}\n",
              "\n",
              "/* Specification for estimator info (e.g. \"i\" and \"?\") */\n",
              "\n",
              "/* Common style for \"i\" and \"?\" */\n",
              "\n",
              ".sk-estimator-doc-link,\n",
              "a:link.sk-estimator-doc-link,\n",
              "a:visited.sk-estimator-doc-link {\n",
              "  float: right;\n",
              "  font-size: smaller;\n",
              "  line-height: 1em;\n",
              "  font-family: monospace;\n",
              "  background-color: var(--sklearn-color-background);\n",
              "  border-radius: 1em;\n",
              "  height: 1em;\n",
              "  width: 1em;\n",
              "  text-decoration: none !important;\n",
              "  margin-left: 0.5em;\n",
              "  text-align: center;\n",
              "  /* unfitted */\n",
              "  border: var(--sklearn-color-unfitted-level-1) 1pt solid;\n",
              "  color: var(--sklearn-color-unfitted-level-1);\n",
              "}\n",
              "\n",
              ".sk-estimator-doc-link.fitted,\n",
              "a:link.sk-estimator-doc-link.fitted,\n",
              "a:visited.sk-estimator-doc-link.fitted {\n",
              "  /* fitted */\n",
              "  border: var(--sklearn-color-fitted-level-1) 1pt solid;\n",
              "  color: var(--sklearn-color-fitted-level-1);\n",
              "}\n",
              "\n",
              "/* On hover */\n",
              "div.sk-estimator:hover .sk-estimator-doc-link:hover,\n",
              ".sk-estimator-doc-link:hover,\n",
              "div.sk-label-container:hover .sk-estimator-doc-link:hover,\n",
              ".sk-estimator-doc-link:hover {\n",
              "  /* unfitted */\n",
              "  background-color: var(--sklearn-color-unfitted-level-3);\n",
              "  color: var(--sklearn-color-background);\n",
              "  text-decoration: none;\n",
              "}\n",
              "\n",
              "div.sk-estimator.fitted:hover .sk-estimator-doc-link.fitted:hover,\n",
              ".sk-estimator-doc-link.fitted:hover,\n",
              "div.sk-label-container:hover .sk-estimator-doc-link.fitted:hover,\n",
              ".sk-estimator-doc-link.fitted:hover {\n",
              "  /* fitted */\n",
              "  background-color: var(--sklearn-color-fitted-level-3);\n",
              "  color: var(--sklearn-color-background);\n",
              "  text-decoration: none;\n",
              "}\n",
              "\n",
              "/* Span, style for the box shown on hovering the info icon */\n",
              ".sk-estimator-doc-link span {\n",
              "  display: none;\n",
              "  z-index: 9999;\n",
              "  position: relative;\n",
              "  font-weight: normal;\n",
              "  right: .2ex;\n",
              "  padding: .5ex;\n",
              "  margin: .5ex;\n",
              "  width: min-content;\n",
              "  min-width: 20ex;\n",
              "  max-width: 50ex;\n",
              "  color: var(--sklearn-color-text);\n",
              "  box-shadow: 2pt 2pt 4pt #999;\n",
              "  /* unfitted */\n",
              "  background: var(--sklearn-color-unfitted-level-0);\n",
              "  border: .5pt solid var(--sklearn-color-unfitted-level-3);\n",
              "}\n",
              "\n",
              ".sk-estimator-doc-link.fitted span {\n",
              "  /* fitted */\n",
              "  background: var(--sklearn-color-fitted-level-0);\n",
              "  border: var(--sklearn-color-fitted-level-3);\n",
              "}\n",
              "\n",
              ".sk-estimator-doc-link:hover span {\n",
              "  display: block;\n",
              "}\n",
              "\n",
              "/* \"?\"-specific style due to the `<a>` HTML tag */\n",
              "\n",
              "#sk-container-id-1 a.estimator_doc_link {\n",
              "  float: right;\n",
              "  font-size: 1rem;\n",
              "  line-height: 1em;\n",
              "  font-family: monospace;\n",
              "  background-color: var(--sklearn-color-background);\n",
              "  border-radius: 1rem;\n",
              "  height: 1rem;\n",
              "  width: 1rem;\n",
              "  text-decoration: none;\n",
              "  /* unfitted */\n",
              "  color: var(--sklearn-color-unfitted-level-1);\n",
              "  border: var(--sklearn-color-unfitted-level-1) 1pt solid;\n",
              "}\n",
              "\n",
              "#sk-container-id-1 a.estimator_doc_link.fitted {\n",
              "  /* fitted */\n",
              "  border: var(--sklearn-color-fitted-level-1) 1pt solid;\n",
              "  color: var(--sklearn-color-fitted-level-1);\n",
              "}\n",
              "\n",
              "/* On hover */\n",
              "#sk-container-id-1 a.estimator_doc_link:hover {\n",
              "  /* unfitted */\n",
              "  background-color: var(--sklearn-color-unfitted-level-3);\n",
              "  color: var(--sklearn-color-background);\n",
              "  text-decoration: none;\n",
              "}\n",
              "\n",
              "#sk-container-id-1 a.estimator_doc_link.fitted:hover {\n",
              "  /* fitted */\n",
              "  background-color: var(--sklearn-color-fitted-level-3);\n",
              "}\n",
              "</style><div id=\"sk-container-id-1\" class=\"sk-top-container\"><div class=\"sk-text-repr-fallback\"><pre>Pipeline(steps=[(&#x27;tfidf&#x27;,\n",
              "                 TfidfVectorizer(max_df=0.9, min_df=3, ngram_range=(1, 2),\n",
              "                                 sublinear_tf=True)),\n",
              "                (&#x27;clf&#x27;,\n",
              "                 LogisticRegression(class_weight=&#x27;balanced&#x27;, random_state=42,\n",
              "                                    solver=&#x27;liblinear&#x27;))])</pre><b>In a Jupyter environment, please rerun this cell to show the HTML representation or trust the notebook. <br />On GitHub, the HTML representation is unable to render, please try loading this page with nbviewer.org.</b></div><div class=\"sk-container\" hidden><div class=\"sk-item sk-dashed-wrapped\"><div class=\"sk-label-container\"><div class=\"sk-label fitted sk-toggleable\"><input class=\"sk-toggleable__control sk-hidden--visually\" id=\"sk-estimator-id-1\" type=\"checkbox\" ><label for=\"sk-estimator-id-1\" class=\"sk-toggleable__label fitted sk-toggleable__label-arrow\"><div><div>Pipeline</div></div><div><a class=\"sk-estimator-doc-link fitted\" rel=\"noreferrer\" target=\"_blank\" href=\"https://scikit-learn.org/1.6/modules/generated/sklearn.pipeline.Pipeline.html\">?<span>Documentation for Pipeline</span></a><span class=\"sk-estimator-doc-link fitted\">i<span>Fitted</span></span></div></label><div class=\"sk-toggleable__content fitted\"><pre>Pipeline(steps=[(&#x27;tfidf&#x27;,\n",
              "                 TfidfVectorizer(max_df=0.9, min_df=3, ngram_range=(1, 2),\n",
              "                                 sublinear_tf=True)),\n",
              "                (&#x27;clf&#x27;,\n",
              "                 LogisticRegression(class_weight=&#x27;balanced&#x27;, random_state=42,\n",
              "                                    solver=&#x27;liblinear&#x27;))])</pre></div> </div></div><div class=\"sk-serial\"><div class=\"sk-item\"><div class=\"sk-estimator fitted sk-toggleable\"><input class=\"sk-toggleable__control sk-hidden--visually\" id=\"sk-estimator-id-2\" type=\"checkbox\" ><label for=\"sk-estimator-id-2\" class=\"sk-toggleable__label fitted sk-toggleable__label-arrow\"><div><div>TfidfVectorizer</div></div><div><a class=\"sk-estimator-doc-link fitted\" rel=\"noreferrer\" target=\"_blank\" href=\"https://scikit-learn.org/1.6/modules/generated/sklearn.feature_extraction.text.TfidfVectorizer.html\">?<span>Documentation for TfidfVectorizer</span></a></div></label><div class=\"sk-toggleable__content fitted\"><pre>TfidfVectorizer(max_df=0.9, min_df=3, ngram_range=(1, 2), sublinear_tf=True)</pre></div> </div></div><div class=\"sk-item\"><div class=\"sk-estimator fitted sk-toggleable\"><input class=\"sk-toggleable__control sk-hidden--visually\" id=\"sk-estimator-id-3\" type=\"checkbox\" ><label for=\"sk-estimator-id-3\" class=\"sk-toggleable__label fitted sk-toggleable__label-arrow\"><div><div>LogisticRegression</div></div><div><a class=\"sk-estimator-doc-link fitted\" rel=\"noreferrer\" target=\"_blank\" href=\"https://scikit-learn.org/1.6/modules/generated/sklearn.linear_model.LogisticRegression.html\">?<span>Documentation for LogisticRegression</span></a></div></label><div class=\"sk-toggleable__content fitted\"><pre>LogisticRegression(class_weight=&#x27;balanced&#x27;, random_state=42, solver=&#x27;liblinear&#x27;)</pre></div> </div></div></div></div></div></div>"
            ]
          },
          "metadata": {},
          "execution_count": 17
        }
      ]
    },
    {
      "cell_type": "code",
      "source": [
        "y_pred_val_logreg = tfidf_logreg_pipeline.predict(X_val_lemma)\n",
        "macro_f1_logreg = f1_score(y_val, y_pred_val_logreg, average='macro', zero_division=0)\n",
        "print(f\"TF-IDF + LogReg Validation Macro F1: {macro_f1_logreg:.4f}\")"
      ],
      "metadata": {
        "colab": {
          "base_uri": "https://localhost:8080/"
        },
        "id": "WIvXmUp-KDpW",
        "outputId": "d7c265c8-96ab-4337-b96c-a4101ba6d53d"
      },
      "execution_count": null,
      "outputs": [
        {
          "output_type": "stream",
          "name": "stdout",
          "text": [
            "TF-IDF + LogReg Validation Macro F1: 0.8414\n"
          ]
        }
      ]
    },
    {
      "cell_type": "markdown",
      "source": [
        "## FastText"
      ],
      "metadata": {
        "id": "D99boL6JoLON"
      }
    },
    {
      "cell_type": "code",
      "source": [
        "# ! pip install numpy==1.24.4"
      ],
      "metadata": {
        "id": "KtdudF8DsI1l"
      },
      "execution_count": null,
      "outputs": []
    },
    {
      "cell_type": "code",
      "source": [
        "class MyDataset(Dataset):\n",
        "    def __init__(self, texts, labels, transform=False, p_transform=0.8, p_permutation=0.6):\n",
        "        self.texts = texts\n",
        "        self.labels = labels\n",
        "        self.transform = transform\n",
        "        self.p_transform = p_transform\n",
        "        self.p_permutation = p_permutation\n",
        "\n",
        "    def __len__(self):\n",
        "        return len(self.texts)\n",
        "\n",
        "    # augmentations\n",
        "    def word_permutation(self, text):\n",
        "        len_text = len(text)\n",
        "        if len_text > 1:\n",
        "            idx1 = np.random.randint(0, len_text)\n",
        "            idx2 = np.random.randint(0, len_text)\n",
        "            while idx1 == idx2:\n",
        "                idx2 = np.random.randint(0, len_text)\n",
        "            text[idx1], text[idx2] = text[idx2], text[idx1]\n",
        "        return text\n",
        "\n",
        "    def delete_word(self, text):\n",
        "        len_text = len(text)\n",
        "        if len_text > 1:\n",
        "            idx = np.random.randint(0, len_text)\n",
        "            del text[idx]\n",
        "        return text\n",
        "\n",
        "    def augment_text(self, text):\n",
        "        text = text.copy()\n",
        "        if np.random.rand() < self.p_permutation:\n",
        "            text = self.word_permutation(text)\n",
        "        else:\n",
        "            text = self.delete_word(text)\n",
        "        return text\n",
        "\n",
        "    def __getitem__(self, idx):\n",
        "        text = self.texts[idx].strip().split()\n",
        "        if self.transform and np.random.rand() < self.p_transform:\n",
        "            text = self.augment_text(text)\n",
        "        label = torch.tensor(self.labels[idx], dtype=torch.long)\n",
        "        return text, label"
      ],
      "metadata": {
        "id": "gpsgzcYMsMPk"
      },
      "execution_count": null,
      "outputs": []
    },
    {
      "cell_type": "code",
      "source": [
        "def create_fasttext_file_from_dataset(dataset, filepath, repeats=1):\n",
        "    with open(filepath, 'w', encoding='utf-8') as f:\n",
        "        for _ in range(repeats):\n",
        "            for text, label in tqdm(dataset, desc=f\"Writing {filepath} (pass {_+1})\"):\n",
        "                if isinstance(text, list):\n",
        "                    text = ' '.join(text)\n",
        "                line = f\"__label__{label} {text.replace(chr(10), ' ')}\\n\"\n",
        "                f.write(line)"
      ],
      "metadata": {
        "id": "Xq6MW7YEKDr7"
      },
      "execution_count": null,
      "outputs": []
    },
    {
      "cell_type": "code",
      "source": [
        "dataset = MyDataset(\n",
        "    X_train_lemma.tolist(),\n",
        "    y_train_lemma.tolist(),\n",
        "    transform=True,\n",
        "    p_transform=0.8,\n",
        "    p_permutation=0.6\n",
        ")"
      ],
      "metadata": {
        "id": "XDOSt1a7ez3f"
      },
      "execution_count": null,
      "outputs": []
    },
    {
      "cell_type": "code",
      "source": [
        "create_fasttext_file_from_dataset(dataset, 'fasttext_train.txt', repeats=3)"
      ],
      "metadata": {
        "colab": {
          "base_uri": "https://localhost:8080/",
          "height": 113,
          "referenced_widgets": [
            "4cc8d7cdc5bc4dd5bdb5a5c8282d4c1d",
            "4521b29e29cf4d2fb8d50a5d543094d2",
            "39c0a22042f749e68fecf49499a584c0",
            "1fe02ad36dfd46c5aecdb69e39b4cea7",
            "b062f9f3f1cf4bce88cddad8269853c9",
            "096263012f4b451f94bf249c24e58c3b",
            "3ff1924dd2c746d6bf7bc78cad91a2e4",
            "5d7a553c1e3e46ecb539d95b0189d9ff",
            "0c90d1030d9944d09016c02b51028cfb",
            "d3e33bb71c644efbb3270f41555f8521",
            "e1de63d24e72498db62983b178c9934b",
            "3c5c89a7495f495ba6d9532cf67597d5",
            "c9c3bb9fed9248c6a9499a87bee28c4c",
            "9a46a99e5e2142d5ba0be1f1a8e1ad04",
            "a1d58989b5344d9896d7c138afd67f69",
            "5c8da9f20aa7442f9e7076a197b1ec98",
            "03d5f4be1f63441ea7b16d2f332b054b",
            "48f7b6adaf764f9fa485b4a2331a540b",
            "ad79326937014a5e8ca8baceb9097a5f",
            "0bd06239f4f341dbb0bb1261b955549e",
            "e4c78f9466404d4c9698fc151e6aca32",
            "a3dd3c58def84d5f8c8ce97017f32037",
            "474b535383e348bbba0ec7c0c0139fca",
            "f4e1730de67d4be3bae06460a9896e08",
            "02bad36006484a06abbb38995bc36ee5",
            "c15ee298f2204d068cce9230d0d2370f",
            "26fc739351134ed79192741a149bc53e",
            "420c342e6cbb4103895bcb0a761f735d",
            "3e9d9f04a7cb4e13b2054aae82e32984",
            "63dc2116c3fb4ee484228eac5b5ec880",
            "935974949efb477fab7116d56441866b",
            "9bffb315bd004c5fa707175be209e2db",
            "4b426c1d4e9743d88badfac29108e0d5"
          ]
        },
        "id": "7Y_Uo2DOe9QJ",
        "outputId": "529407d9-3bf2-415d-80d1-d0a7288d84ef"
      },
      "execution_count": null,
      "outputs": [
        {
          "output_type": "display_data",
          "data": {
            "text/plain": [
              "Writing fasttext_train.txt (pass 1):   0%|          | 0/9246 [00:00<?, ?it/s]"
            ],
            "application/vnd.jupyter.widget-view+json": {
              "version_major": 2,
              "version_minor": 0,
              "model_id": "4cc8d7cdc5bc4dd5bdb5a5c8282d4c1d"
            }
          },
          "metadata": {}
        },
        {
          "output_type": "display_data",
          "data": {
            "text/plain": [
              "Writing fasttext_train.txt (pass 2):   0%|          | 0/9246 [00:00<?, ?it/s]"
            ],
            "application/vnd.jupyter.widget-view+json": {
              "version_major": 2,
              "version_minor": 0,
              "model_id": "3c5c89a7495f495ba6d9532cf67597d5"
            }
          },
          "metadata": {}
        },
        {
          "output_type": "display_data",
          "data": {
            "text/plain": [
              "Writing fasttext_train.txt (pass 3):   0%|          | 0/9246 [00:00<?, ?it/s]"
            ],
            "application/vnd.jupyter.widget-view+json": {
              "version_major": 2,
              "version_minor": 0,
              "model_id": "474b535383e348bbba0ec7c0c0139fca"
            }
          },
          "metadata": {}
        }
      ]
    },
    {
      "cell_type": "code",
      "source": [
        "def create_fasttext_file(df, filename, text_col, label_col):\n",
        "    with open(filename, 'w', encoding='utf-8') as f:\n",
        "        for index, row in df.iterrows():\n",
        "            text = row[text_col]\n",
        "            if isinstance(text, list):\n",
        "                text = ' '.join(text)\n",
        "            text = text.replace('\\n', ' ')\n",
        "            label = row[label_col]\n",
        "            f.write(f\"__label__{label} {text}\\n\")"
      ],
      "metadata": {
        "id": "JIb_BG20f5hP"
      },
      "execution_count": null,
      "outputs": []
    },
    {
      "cell_type": "code",
      "source": [
        "temp_val_df = pd.DataFrame({'text': X_val_lemma, 'label': y_val_lemma})\n",
        "create_fasttext_file(temp_val_df, 'fasttext_val.txt', text_col='text', label_col='label')"
      ],
      "metadata": {
        "id": "A_oWWD7yKDug"
      },
      "execution_count": null,
      "outputs": []
    },
    {
      "cell_type": "code",
      "source": [
        "ft_model = fasttext.train_supervised(\n",
        "    input='fasttext_train.txt',\n",
        "    epoch=300,\n",
        "    lr=0.154,\n",
        "    wordNgrams=2,\n",
        "    dim=128,\n",
        "    loss='softmax',\n",
        "    thread=4,\n",
        "    seed=seed\n",
        ")"
      ],
      "metadata": {
        "id": "na05NeukKDz-"
      },
      "execution_count": null,
      "outputs": []
    },
    {
      "cell_type": "code",
      "source": [
        "y_pred_val_ft = []\n",
        "for line in X_val_lemma:\n",
        "    pred_label, _ = ft_model.predict(line)\n",
        "    y_pred_val_ft.append(int(pred_label[0].replace('__label__', '')))\n",
        "\n",
        "macro_f1_ft = f1_score(y_val, y_pred_val_ft, average='macro', zero_division=0)\n",
        "print(f\"FastText Validation Macro F1: {macro_f1_ft:.4f}\")"
      ],
      "metadata": {
        "colab": {
          "base_uri": "https://localhost:8080/"
        },
        "id": "6aBCh6YgiuN0",
        "outputId": "edd21fb1-7300-4633-f395-e01130dd5010"
      },
      "execution_count": null,
      "outputs": [
        {
          "output_type": "stream",
          "name": "stdout",
          "text": [
            "FastText Validation Macro F1: 0.8531\n"
          ]
        }
      ]
    },
    {
      "cell_type": "code",
      "source": [
        "temp_train_df = pd.DataFrame({'text': X_train_lemma, 'label': y_train_lemma})\n",
        "temp_val_df = pd.DataFrame({'text': X_val_lemma, 'label': y_val_lemma})"
      ],
      "metadata": {
        "id": "axClbUxGj4uM"
      },
      "execution_count": null,
      "outputs": []
    },
    {
      "cell_type": "code",
      "source": [
        "def create_fasttext_file(df, text_col, label_col, filename):\n",
        "    with open(filename, 'w', encoding='utf-8') as f:\n",
        "        for _, row in df.iterrows():\n",
        "            f.write(f\"__label__{row[label_col]} {row[text_col]}\\n\")"
      ],
      "metadata": {
        "id": "yCCdEEvXj_QU"
      },
      "execution_count": null,
      "outputs": []
    },
    {
      "cell_type": "code",
      "source": [
        "create_fasttext_file(temp_train_df, 'text', 'label', 'fasttext_train.txt')\n",
        "create_fasttext_file(temp_val_df, 'text', 'label', 'fasttext_val.txt')"
      ],
      "metadata": {
        "id": "eBuS5XxEkueP"
      },
      "execution_count": null,
      "outputs": []
    },
    {
      "cell_type": "code",
      "source": [
        "ft_model = fasttext.train_supervised(\n",
        "    input='fasttext_train.txt',\n",
        "    epoch=177,\n",
        "    lr=0.154,\n",
        "    wordNgrams=2,\n",
        "    dim=128,\n",
        "    loss='softmax',\n",
        "    thread=4,\n",
        "    seed=seed\n",
        ")"
      ],
      "metadata": {
        "id": "1diLaNzQkxEq"
      },
      "execution_count": null,
      "outputs": []
    },
    {
      "cell_type": "code",
      "source": [
        "y_pred_val_ft = []\n",
        "for line in X_val_lemma:\n",
        "    pred_label, _ = ft_model.predict(line)\n",
        "    y_pred_val_ft.append(int(pred_label[0].replace('__label__', '')))\n",
        "\n",
        "macro_f1_ft = f1_score(y_val, y_pred_val_ft, average='macro', zero_division=0)\n",
        "print(f\"FastText Validation Macro F1: {macro_f1_ft:.4f}\")"
      ],
      "metadata": {
        "colab": {
          "base_uri": "https://localhost:8080/"
        },
        "id": "0Nf7mytPk26v",
        "outputId": "340b080f-58fa-4d3f-a757-5b17d2b45873"
      },
      "execution_count": null,
      "outputs": [
        {
          "output_type": "stream",
          "name": "stdout",
          "text": [
            "FastText Validation Macro F1: 0.8702\n"
          ]
        }
      ]
    },
    {
      "cell_type": "code",
      "source": [
        "y_pred_val_ft = {}\n",
        "for index, query in zip(df_test.ID.values, df_test.Query_Lemma.values):\n",
        "    pred_label, _ = ft_model.predict(query)\n",
        "    y_pred_val_ft[index] = int(pred_label[0].replace('__label__', ''))"
      ],
      "metadata": {
        "id": "nUap-EJgl4il"
      },
      "execution_count": null,
      "outputs": []
    },
    {
      "cell_type": "code",
      "source": [
        "df_subm = pd.DataFrame(list(y_pred_val_ft.items()), columns=['ID', 'CategoryID'])\n",
        "df_subm = df_subm.reset_index(drop=True)\n",
        "df_subm.to_csv('submission.csv', index=False)"
      ],
      "metadata": {
        "id": "7chbYtFXlx_j"
      },
      "execution_count": null,
      "outputs": []
    },
    {
      "cell_type": "markdown",
      "source": [
        "## FastText + NN"
      ],
      "metadata": {
        "id": "XsDcCs2qZ4Kx"
      }
    },
    {
      "cell_type": "code",
      "source": [
        "import fasttext\n",
        "import pickle\n",
        "\n",
        "def create_fasttext_file(df, text_col, label_col, filename):\n",
        "    with open(filename, 'w', encoding='utf-8') as f:\n",
        "        for _, row in df.iterrows():\n",
        "            f.write(f\"__label__{row[label_col]} {row[text_col]}\\n\")\n",
        "\n",
        "temp_train_df = pd.DataFrame({'text': X_train_lemma, 'label': y_train_lemma})\n",
        "temp_val_df = pd.DataFrame({'text': X_val_lemma, 'label': y_val_lemma})\n",
        "\n",
        "create_fasttext_file(temp_train_df, 'text', 'label', 'fasttext_train.txt')\n",
        "create_fasttext_file(temp_val_df,   'text', 'label', 'fasttext_val.txt')\n",
        "\n",
        "ft_model = fasttext.train_supervised(\n",
        "    input='fasttext_train.txt',\n",
        "    epoch=200,\n",
        "    lr=0.1,\n",
        "    wordNgrams=3,\n",
        "    dim=128,\n",
        "    loss='softmax',\n",
        "    thread=4,\n",
        "    seed=seed\n",
        ")\n",
        "\n",
        "ft_model.save_model('ft_supervised.bin')\n",
        "with open('ft_vocab.pkl', 'wb') as f:\n",
        "    pickle.dump(ft_model.get_words(), f)"
      ],
      "metadata": {
        "id": "8m4mbapGZ-HO"
      },
      "execution_count": null,
      "outputs": []
    },
    {
      "cell_type": "code",
      "source": [
        "from torch.utils.data import Dataset\n",
        "import torch\n",
        "\n",
        "class FastTextTfidfDataset(Dataset):\n",
        "    \"\"\"\n",
        "    Dataset, возвращает кортеж:\n",
        "      - ft_vec: torch.FloatTensor [ft_dim]\n",
        "      - tfidf_vec: torch.FloatTensor [tfidf_dim]\n",
        "      - label: torch.LongTensor (scalar)\n",
        "    \"\"\"\n",
        "    def __init__(self, texts, labels, tfidf_vectorizer, ft_model):\n",
        "        self.texts = texts\n",
        "        self.labels = labels\n",
        "        self.tfidf = tfidf_vectorizer.transform(texts).toarray()\n",
        "        self.ft_model = ft_model\n",
        "        self.ft_dim = ft_model.get_dimension()\n",
        "\n",
        "    def __len__(self):\n",
        "        return len(self.texts)\n",
        "\n",
        "    def __getitem__(self, idx):\n",
        "        text = self.texts[idx]\n",
        "        vec = self.ft_model.get_sentence_vector(text)\n",
        "        ft_vec = torch.tensor(vec, dtype=torch.float)\n",
        "        tfidf_vec = torch.tensor(self.tfidf[idx], dtype=torch.float)\n",
        "        label = torch.tensor(self.labels[idx], dtype=torch.long)\n",
        "        return ft_vec, tfidf_vec, label\n"
      ],
      "metadata": {
        "id": "XZ0G2o92aAoY"
      },
      "execution_count": null,
      "outputs": []
    },
    {
      "cell_type": "code",
      "source": [
        "import torch.nn as nn\n",
        "import torch.nn.functional as F\n",
        "\n",
        "class HybridQueryClassifier(nn.Module):\n",
        "    def __init__(self,\n",
        "                 ft_dim: int,\n",
        "                 tfidf_dim: int,\n",
        "                 hidden_dim: int = 256,\n",
        "                 n_classes: int = 67,\n",
        "                 dropout_prob: float = 0.2):\n",
        "        super().__init__()\n",
        "        self.fc_ft = nn.Linear(ft_dim, hidden_dim)\n",
        "        self.fc_tfidf = nn.Linear(tfidf_dim, hidden_dim)\n",
        "        self.fc_combined = nn.Linear(hidden_dim * 2, hidden_dim)\n",
        "        self.dropout = nn.Dropout(dropout_prob)\n",
        "        self.out = nn.Linear(hidden_dim, n_classes)\n",
        "\n",
        "    def forward(self, ft_vecs, tfidf_vecs):\n",
        "        h_ft = F.relu(self.fc_ft(ft_vecs))\n",
        "        h_tfidf = F.relu(self.fc_tfidf(tfidf_vecs))\n",
        "        h_cat = torch.cat([h_ft, h_tfidf], dim=1)\n",
        "        h = F.relu(self.fc_combined(h_cat))\n",
        "        h = self.dropout(h)\n",
        "        return self.out(h)"
      ],
      "metadata": {
        "id": "YFgDJfHmaDCX"
      },
      "execution_count": null,
      "outputs": []
    },
    {
      "cell_type": "code",
      "source": [
        "from sklearn.feature_extraction.text import TfidfVectorizer\n",
        "from torch.utils.data import DataLoader\n",
        "import torch.optim as optim\n",
        "from sklearn.metrics import f1_score\n",
        "\n",
        "tfidf_vec = TfidfVectorizer(max_features=5000)\n",
        "tfidf_vec.fit(temp_train_df['text'])\n",
        "\n",
        "train_ds = FastTextTfidfDataset(\n",
        "    texts = temp_train_df['text'].tolist(),\n",
        "    labels = temp_train_df['label'].tolist(),\n",
        "    tfidf_vectorizer = tfidf_vec,\n",
        "    ft_model = ft_model\n",
        ")\n",
        "val_ds = FastTextTfidfDataset(\n",
        "    texts = temp_val_df['text'].tolist(),\n",
        "    labels = temp_val_df['label'].tolist(),\n",
        "    tfidf_vectorizer = tfidf_vec,\n",
        "    ft_model = ft_model\n",
        ")\n",
        "\n",
        "train_loader = DataLoader(train_ds, batch_size=32, shuffle=True)\n",
        "val_loader   = DataLoader(val_ds,   batch_size=32)\n",
        "\n",
        "device = torch.device('cuda' if torch.cuda.is_available() else 'cpu')\n",
        "model = HybridQueryClassifier(\n",
        "    ft_dim = ft_model.get_dimension(),\n",
        "    tfidf_dim = 5000\n",
        ").to(device)\n",
        "\n",
        "batch_size = 32\n",
        "num_epochs = 10\n",
        "lr = 3e-5\n",
        "\n",
        "optimizer = AdamW(model.parameters(), lr=lr)\n",
        "scheduler = torch.optim.lr_scheduler.ReduceLROnPlateau(\n",
        "    optimizer,\n",
        "    mode='max',\n",
        "    factor=0.5,\n",
        "    patience=2,\n",
        "    verbose=True\n",
        ")\n",
        "\n",
        "optimizer = optim.AdamW(model.parameters(), lr=2e-5, weight_decay=1e-2)\n",
        "criterion = nn.CrossEntropyLoss()\n",
        "\n",
        "for epoch in range(1, 100):\n",
        "    model.train()\n",
        "    for ft_vecs, tfidf_vecs, labels in train_loader:\n",
        "        ft_vecs, tfidf_vecs, labels = ft_vecs.to(device), tfidf_vecs.to(device), labels.to(device)\n",
        "        logits = model(ft_vecs, tfidf_vecs)\n",
        "        loss = criterion(logits, labels)\n",
        "        optimizer.zero_grad()\n",
        "        loss.backward()\n",
        "        optimizer.step()\n",
        "\n",
        "    model.eval()\n",
        "    preds, trues = [], []\n",
        "    with torch.no_grad():\n",
        "        for ft_vecs, tfidf_vecs, labels in val_loader:\n",
        "            ft_vecs, tfidf_vecs = ft_vecs.to(device), tfidf_vecs.to(device)\n",
        "            out = model(ft_vecs, tfidf_vecs).argmax(dim=1).cpu().tolist()\n",
        "            preds += out\n",
        "            trues += labels.tolist()\n",
        "\n",
        "    f1 = f1_score(trues, preds, average='macro', zero_division=0)\n",
        "    scheduler.step(f1)\n",
        "    print(f\"Epoch {epoch} — Val macro-F1: {f1:.4f}\")"
      ],
      "metadata": {
        "colab": {
          "base_uri": "https://localhost:8080/"
        },
        "id": "jS2XszjbaEhZ",
        "outputId": "ed64702a-a670-4291-c71a-200a03781673"
      },
      "execution_count": null,
      "outputs": [
        {
          "output_type": "stream",
          "name": "stdout",
          "text": [
            "Epoch 1 — Val macro-F1: 0.0415\n",
            "Epoch 2 — Val macro-F1: 0.0370\n",
            "Epoch 3 — Val macro-F1: 0.0579\n",
            "Epoch 4 — Val macro-F1: 0.0683\n",
            "Epoch 5 — Val macro-F1: 0.0715\n",
            "Epoch 6 — Val macro-F1: 0.0756\n",
            "Epoch 7 — Val macro-F1: 0.1091\n",
            "Epoch 8 — Val macro-F1: 0.1697\n",
            "Epoch 9 — Val macro-F1: 0.2145\n",
            "Epoch 10 — Val macro-F1: 0.2391\n",
            "Epoch 11 — Val macro-F1: 0.2647\n",
            "Epoch 12 — Val macro-F1: 0.2867\n",
            "Epoch 13 — Val macro-F1: 0.3278\n",
            "Epoch 14 — Val macro-F1: 0.3769\n",
            "Epoch 15 — Val macro-F1: 0.4185\n",
            "Epoch 16 — Val macro-F1: 0.4463\n",
            "Epoch 17 — Val macro-F1: 0.4698\n",
            "Epoch 18 — Val macro-F1: 0.5088\n",
            "Epoch 19 — Val macro-F1: 0.5300\n",
            "Epoch 20 — Val macro-F1: 0.5357\n",
            "Epoch 21 — Val macro-F1: 0.5505\n",
            "Epoch 22 — Val macro-F1: 0.5882\n",
            "Epoch 23 — Val macro-F1: 0.5998\n",
            "Epoch 24 — Val macro-F1: 0.6071\n",
            "Epoch 25 — Val macro-F1: 0.6310\n",
            "Epoch 26 — Val macro-F1: 0.6427\n",
            "Epoch 27 — Val macro-F1: 0.6635\n",
            "Epoch 28 — Val macro-F1: 0.6876\n",
            "Epoch 29 — Val macro-F1: 0.7072\n",
            "Epoch 30 — Val macro-F1: 0.7126\n",
            "Epoch 31 — Val macro-F1: 0.7155\n",
            "Epoch 32 — Val macro-F1: 0.7184\n",
            "Epoch 33 — Val macro-F1: 0.7140\n",
            "Epoch 34 — Val macro-F1: 0.7175\n",
            "Epoch 35 — Val macro-F1: 0.7182\n",
            "Epoch 36 — Val macro-F1: 0.7289\n",
            "Epoch 37 — Val macro-F1: 0.7408\n",
            "Epoch 38 — Val macro-F1: 0.7416\n",
            "Epoch 39 — Val macro-F1: 0.7454\n",
            "Epoch 40 — Val macro-F1: 0.7445\n",
            "Epoch 41 — Val macro-F1: 0.7453\n",
            "Epoch 42 — Val macro-F1: 0.7441\n",
            "Epoch 43 — Val macro-F1: 0.7449\n",
            "Epoch 44 — Val macro-F1: 0.7552\n",
            "Epoch 45 — Val macro-F1: 0.7552\n",
            "Epoch 46 — Val macro-F1: 0.7608\n",
            "Epoch 47 — Val macro-F1: 0.7617\n",
            "Epoch 48 — Val macro-F1: 0.7639\n",
            "Epoch 49 — Val macro-F1: 0.7622\n",
            "Epoch 50 — Val macro-F1: 0.7624\n",
            "Epoch 51 — Val macro-F1: 0.7630\n",
            "Epoch 52 — Val macro-F1: 0.7628\n",
            "Epoch 53 — Val macro-F1: 0.7624\n",
            "Epoch 54 — Val macro-F1: 0.7626\n",
            "Epoch 55 — Val macro-F1: 0.7630\n",
            "Epoch 56 — Val macro-F1: 0.7626\n",
            "Epoch 57 — Val macro-F1: 0.7626\n",
            "Epoch 58 — Val macro-F1: 0.7769\n",
            "Epoch 59 — Val macro-F1: 0.7634\n",
            "Epoch 60 — Val macro-F1: 0.7646\n",
            "Epoch 61 — Val macro-F1: 0.7759\n",
            "Epoch 62 — Val macro-F1: 0.7778\n",
            "Epoch 63 — Val macro-F1: 0.7787\n",
            "Epoch 64 — Val macro-F1: 0.7831\n",
            "Epoch 65 — Val macro-F1: 0.7843\n",
            "Epoch 66 — Val macro-F1: 0.7880\n",
            "Epoch 67 — Val macro-F1: 0.7904\n",
            "Epoch 68 — Val macro-F1: 0.7861\n",
            "Epoch 69 — Val macro-F1: 0.7840\n",
            "Epoch 70 — Val macro-F1: 0.7859\n",
            "Epoch 71 — Val macro-F1: 0.7901\n",
            "Epoch 72 — Val macro-F1: 0.7941\n",
            "Epoch 73 — Val macro-F1: 0.8098\n",
            "Epoch 74 — Val macro-F1: 0.8143\n",
            "Epoch 75 — Val macro-F1: 0.8096\n",
            "Epoch 76 — Val macro-F1: 0.8132\n",
            "Epoch 77 — Val macro-F1: 0.8142\n",
            "Epoch 78 — Val macro-F1: 0.8106\n",
            "Epoch 79 — Val macro-F1: 0.8119\n",
            "Epoch 80 — Val macro-F1: 0.8150\n",
            "Epoch 81 — Val macro-F1: 0.8158\n",
            "Epoch 82 — Val macro-F1: 0.8156\n",
            "Epoch 83 — Val macro-F1: 0.8165\n",
            "Epoch 84 — Val macro-F1: 0.8156\n",
            "Epoch 85 — Val macro-F1: 0.8158\n",
            "Epoch 86 — Val macro-F1: 0.8205\n",
            "Epoch 87 — Val macro-F1: 0.8211\n",
            "Epoch 88 — Val macro-F1: 0.8188\n",
            "Epoch 89 — Val macro-F1: 0.8165\n",
            "Epoch 90 — Val macro-F1: 0.8170\n",
            "Epoch 91 — Val macro-F1: 0.8173\n",
            "Epoch 92 — Val macro-F1: 0.8190\n",
            "Epoch 93 — Val macro-F1: 0.8181\n",
            "Epoch 94 — Val macro-F1: 0.8164\n",
            "Epoch 95 — Val macro-F1: 0.8165\n",
            "Epoch 96 — Val macro-F1: 0.8170\n",
            "Epoch 97 — Val macro-F1: 0.8164\n",
            "Epoch 98 — Val macro-F1: 0.8202\n",
            "Epoch 99 — Val macro-F1: 0.8184\n"
          ]
        }
      ]
    },
    {
      "cell_type": "markdown",
      "source": [
        "## Fasttext + TF-IDF + Catboost + augmentation + optuna"
      ],
      "metadata": {
        "id": "2AkzTcTW3aly"
      }
    },
    {
      "cell_type": "code",
      "source": [
        "# ! pip install optuna numpy==1.26.4 catboost"
      ],
      "metadata": {
        "id": "sTWYA_lXB95k"
      },
      "execution_count": null,
      "outputs": []
    },
    {
      "cell_type": "code",
      "source": [
        "class MyDataset(Dataset):\n",
        "    def __init__(self, texts, labels, transform=False, p=0.5):\n",
        "        self.texts = texts\n",
        "        self.labels = labels\n",
        "        self.transform = transform\n",
        "        self.p = p\n",
        "\n",
        "    def __len__(self):\n",
        "        return len(self.texts)\n",
        "\n",
        "    def word_permutation(self, text):\n",
        "        len_text = len(text)\n",
        "        if len_text > 1:\n",
        "            idx1 = np.random.randint(0, len_text)\n",
        "            idx2 = np.random.randint(0, len_text)\n",
        "            while idx1 == idx2:\n",
        "                idx2 = np.random.randint(0, len_text)\n",
        "            text[idx1], text[idx2] = text[idx2], text[idx1]\n",
        "        return text\n",
        "\n",
        "    def delete_word(self, text):\n",
        "        len_text = len(text)\n",
        "        if len_text > 1:\n",
        "            idx = np.random.randint(0, len_text)\n",
        "            del text[idx]\n",
        "        return text\n",
        "\n",
        "    def augment_text(self, text):\n",
        "        text = text.copy()\n",
        "        if np.random.rand() < self.p:\n",
        "            text = self.word_permutation(text)\n",
        "        else:\n",
        "            text = self.delete_word(text)\n",
        "        return text\n",
        "\n",
        "    def __getitem__(self, idx):\n",
        "        text = self.texts[idx].strip().split()\n",
        "        if self.transform:\n",
        "            text = self.augment_text(text)\n",
        "        label = torch.tensor(self.labels[idx], dtype=torch.long)\n",
        "        return text, label\n",
        "dataset = MyDataset(X_train_lemma.tolist(), y_train_lemma.tolist(), transform=True, p=0.6)"
      ],
      "metadata": {
        "id": "ytDuRMVG7FqI"
      },
      "execution_count": null,
      "outputs": []
    },
    {
      "cell_type": "code",
      "source": [
        "dataset = MyDataset(X_train_lemma.tolist(), y_train_lemma.tolist(), transform=True, p=0.6)"
      ],
      "metadata": {
        "id": "K80MW0sT9Jca"
      },
      "execution_count": null,
      "outputs": []
    },
    {
      "cell_type": "code",
      "source": [
        "def create_fasttext_file(df, text_col, label_col, filename):\n",
        "    with open(filename, 'w', encoding='utf-8') as f:\n",
        "        for _, row in df.iterrows():\n",
        "            f.write(f\"__label__{row[label_col]} {row[text_col]}\\n\")\n",
        "\n",
        "temp_train_df = pd.DataFrame({'text': X_train_lemma, 'label': y_train_lemma})\n",
        "temp_val_df = pd.DataFrame({'text': X_val_lemma, 'label': y_val_lemma})\n",
        "\n",
        "create_fasttext_file(temp_train_df, 'text', 'label', 'fasttext_train.txt')\n",
        "create_fasttext_file(temp_val_df,   'text', 'label', 'fasttext_val.txt')"
      ],
      "metadata": {
        "id": "4F2kbHA7BGor"
      },
      "execution_count": null,
      "outputs": []
    },
    {
      "cell_type": "code",
      "source": [
        "import optuna\n",
        "import fasttext\n",
        "\n",
        "texts = X_val_lemma.tolist()\n",
        "true_labels = y_val_lemma.tolist()\n",
        "\n",
        "def objective(trial):\n",
        "    epoch = trial.suggest_int('epoch', 50, 200)\n",
        "    lr = trial.suggest_float('lr', 0.1, 0.2, log=True)\n",
        "    wordNgrams = trial.suggest_int('wordNgrams', 1, 3)\n",
        "    loss = trial.suggest_categorical('loss', ['softmax', 'hs'])\n",
        "    dim = trial.suggest_categorical('dim', [64, 128, 256])\n",
        "    try:\n",
        "        model = fasttext.train_supervised(\n",
        "            input='fasttext_train.txt',\n",
        "            epoch=epoch,\n",
        "            lr=lr,\n",
        "            wordNgrams=wordNgrams,\n",
        "            dim=dim,\n",
        "            loss=loss,\n",
        "            thread=4,\n",
        "            seed=42\n",
        "        )\n",
        "        preds = []\n",
        "        for text in texts:\n",
        "            label = model.predict(text)[0][0]\n",
        "            label_clean = label.replace(\"__label__\", \"\")\n",
        "            preds.append(float(label_clean))\n",
        "        f1 = f1_score(true_labels, preds, average='macro')\n",
        "    except RuntimeError as e:\n",
        "        print(f\"[ERROR] Trial failed with lr={lr}, dim={dim}: {str(e)}\")\n",
        "        f1 = 0.8\n",
        "    return f1\n",
        "\n",
        "study = optuna.create_study(direction='maximize')\n",
        "study.optimize(objective, n_trials=20)\n",
        "\n",
        "print(\"Лучшие параметры:\", study.best_params)\n",
        "print(\"Лучшее качество (accuracy):\", study.best_value)"
      ],
      "metadata": {
        "colab": {
          "base_uri": "https://localhost:8080/"
        },
        "id": "fXEjo9UF3aJ8",
        "outputId": "d12acaf0-a093-4776-9527-99840e68cf5b"
      },
      "execution_count": null,
      "outputs": [
        {
          "output_type": "stream",
          "name": "stderr",
          "text": [
            "[I 2025-05-15 13:31:59,676] A new study created in memory with name: no-name-b081b549-2085-44b9-9c37-b227b2fd6095\n",
            "[I 2025-05-15 13:32:00,062] Trial 0 finished with value: 0.8 and parameters: {'epoch': 155, 'lr': 0.14343124175195496, 'wordNgrams': 1, 'loss': 'softmax', 'dim': 256}. Best is trial 0 with value: 0.8.\n"
          ]
        },
        {
          "output_type": "stream",
          "name": "stdout",
          "text": [
            "[ERROR] Trial failed with lr=0.14343124175195496, dim=256: Encountered NaN.\n"
          ]
        },
        {
          "output_type": "stream",
          "name": "stderr",
          "text": [
            "[I 2025-05-15 13:32:05,382] Trial 1 finished with value: 0.7950491029534856 and parameters: {'epoch': 103, 'lr': 0.12161156165501648, 'wordNgrams': 2, 'loss': 'hs', 'dim': 64}. Best is trial 0 with value: 0.8.\n",
            "[I 2025-05-15 13:32:08,150] Trial 2 finished with value: 0.7828772588175934 and parameters: {'epoch': 62, 'lr': 0.1285127995964188, 'wordNgrams': 2, 'loss': 'hs', 'dim': 64}. Best is trial 0 with value: 0.8.\n",
            "[I 2025-05-15 13:32:38,115] Trial 3 finished with value: 0.8444321588551599 and parameters: {'epoch': 103, 'lr': 0.12711418228256519, 'wordNgrams': 2, 'loss': 'softmax', 'dim': 128}. Best is trial 3 with value: 0.8444321588551599.\n",
            "[I 2025-05-15 13:33:05,915] Trial 4 finished with value: 0.8394975431960366 and parameters: {'epoch': 157, 'lr': 0.10695917588763942, 'wordNgrams': 3, 'loss': 'softmax', 'dim': 64}. Best is trial 3 with value: 0.8444321588551599.\n",
            "[I 2025-05-15 13:33:12,587] Trial 5 finished with value: 0.7971518398097581 and parameters: {'epoch': 153, 'lr': 0.10012969028236167, 'wordNgrams': 2, 'loss': 'hs', 'dim': 64}. Best is trial 3 with value: 0.8444321588551599.\n",
            "[I 2025-05-15 13:33:29,589] Trial 6 finished with value: 0.8011837389921258 and parameters: {'epoch': 158, 'lr': 0.14695992014456313, 'wordNgrams': 2, 'loss': 'hs', 'dim': 256}. Best is trial 3 with value: 0.8444321588551599.\n",
            "[I 2025-05-15 13:33:39,344] Trial 7 finished with value: 0.8061088381284923 and parameters: {'epoch': 129, 'lr': 0.1675019692272998, 'wordNgrams': 2, 'loss': 'hs', 'dim': 128}. Best is trial 3 with value: 0.8444321588551599.\n",
            "[I 2025-05-15 13:33:39,665] Trial 8 finished with value: 0.8 and parameters: {'epoch': 58, 'lr': 0.15041729203678794, 'wordNgrams': 1, 'loss': 'softmax', 'dim': 128}. Best is trial 3 with value: 0.8444321588551599.\n"
          ]
        },
        {
          "output_type": "stream",
          "name": "stdout",
          "text": [
            "[ERROR] Trial failed with lr=0.15041729203678794, dim=128: Encountered NaN.\n"
          ]
        },
        {
          "output_type": "stream",
          "name": "stderr",
          "text": [
            "[I 2025-05-15 13:34:26,480] Trial 9 finished with value: 0.861775055576727 and parameters: {'epoch': 162, 'lr': 0.1706031135372337, 'wordNgrams': 2, 'loss': 'softmax', 'dim': 128}. Best is trial 9 with value: 0.861775055576727.\n",
            "[I 2025-05-15 13:35:24,984] Trial 10 finished with value: 0.8581211332842706 and parameters: {'epoch': 193, 'lr': 0.19157885210623354, 'wordNgrams': 3, 'loss': 'softmax', 'dim': 128}. Best is trial 9 with value: 0.861775055576727.\n",
            "[I 2025-05-15 13:36:22,975] Trial 11 finished with value: 0.8590990785414855 and parameters: {'epoch': 195, 'lr': 0.19917255912850187, 'wordNgrams': 3, 'loss': 'softmax', 'dim': 128}. Best is trial 9 with value: 0.861775055576727.\n",
            "[I 2025-05-15 13:37:23,043] Trial 12 finished with value: 0.8547647544328095 and parameters: {'epoch': 197, 'lr': 0.1988483545633137, 'wordNgrams': 3, 'loss': 'softmax', 'dim': 128}. Best is trial 9 with value: 0.861775055576727.\n",
            "[I 2025-05-15 13:38:18,032] Trial 13 finished with value: 0.8497533751283507 and parameters: {'epoch': 180, 'lr': 0.17576576851266656, 'wordNgrams': 3, 'loss': 'softmax', 'dim': 128}. Best is trial 9 with value: 0.861775055576727.\n",
            "[I 2025-05-15 13:38:18,373] Trial 14 finished with value: 0.8 and parameters: {'epoch': 176, 'lr': 0.1700444273948842, 'wordNgrams': 1, 'loss': 'softmax', 'dim': 128}. Best is trial 9 with value: 0.861775055576727.\n"
          ]
        },
        {
          "output_type": "stream",
          "name": "stdout",
          "text": [
            "[ERROR] Trial failed with lr=0.1700444273948842, dim=128: Encountered NaN.\n"
          ]
        },
        {
          "output_type": "stream",
          "name": "stderr",
          "text": [
            "[I 2025-05-15 13:38:59,031] Trial 15 finished with value: 0.8625395153904081 and parameters: {'epoch': 133, 'lr': 0.18242088777070972, 'wordNgrams': 3, 'loss': 'softmax', 'dim': 128}. Best is trial 15 with value: 0.8625395153904081.\n",
            "[I 2025-05-15 13:40:19,471] Trial 16 finished with value: 0.8531774221857643 and parameters: {'epoch': 135, 'lr': 0.1618958344559272, 'wordNgrams': 3, 'loss': 'softmax', 'dim': 256}. Best is trial 15 with value: 0.8625395153904081.\n",
            "[I 2025-05-15 13:40:19,961] Trial 17 finished with value: 0.8 and parameters: {'epoch': 103, 'lr': 0.18046959697188097, 'wordNgrams': 1, 'loss': 'softmax', 'dim': 128}. Best is trial 15 with value: 0.8625395153904081.\n"
          ]
        },
        {
          "output_type": "stream",
          "name": "stdout",
          "text": [
            "[ERROR] Trial failed with lr=0.18046959697188097, dim=128: Encountered NaN.\n"
          ]
        },
        {
          "output_type": "stream",
          "name": "stderr",
          "text": [
            "[I 2025-05-15 13:40:44,006] Trial 18 finished with value: 0.8446867136573181 and parameters: {'epoch': 82, 'lr': 0.15814815497639603, 'wordNgrams': 2, 'loss': 'softmax', 'dim': 128}. Best is trial 15 with value: 0.8625395153904081.\n",
            "[I 2025-05-15 13:41:55,587] Trial 19 finished with value: 0.8452540999336435 and parameters: {'epoch': 116, 'lr': 0.1811822932928536, 'wordNgrams': 3, 'loss': 'softmax', 'dim': 256}. Best is trial 15 with value: 0.8625395153904081.\n"
          ]
        },
        {
          "output_type": "stream",
          "name": "stdout",
          "text": [
            "Лучшие параметры: {'epoch': 133, 'lr': 0.18242088777070972, 'wordNgrams': 3, 'loss': 'softmax', 'dim': 128}\n",
            "Лучшее качество (accuracy): 0.8625395153904081\n"
          ]
        }
      ]
    },
    {
      "cell_type": "code",
      "source": [
        "import optuna\n",
        "import fasttext\n",
        "\n",
        "texts = X_val_lemma.tolist()\n",
        "true_labels = y_val_lemma.tolist()\n",
        "\n",
        "def objective(trial):\n",
        "    epoch = trial.suggest_int('epoch', 50, 200)\n",
        "    lr = trial.suggest_float('lr', 0.1, 0.2, log=True)\n",
        "    wordNgrams = trial.suggest_int('wordNgrams', 2, 3)\n",
        "    try:\n",
        "        model = fasttext.train_supervised(\n",
        "            input='fasttext_train.txt',\n",
        "            epoch=epoch,\n",
        "            lr=lr,\n",
        "            wordNgrams=wordNgrams,\n",
        "            dim=128,\n",
        "            loss='softmax',\n",
        "            thread=4,\n",
        "            seed=42\n",
        "        )\n",
        "        preds = []\n",
        "        for text in texts:\n",
        "            label = model.predict(text)[0][0]\n",
        "            label_clean = label.replace(\"__label__\", \"\")\n",
        "            preds.append(float(label_clean))\n",
        "        f1 = f1_score(true_labels, preds, average='macro')\n",
        "    except RuntimeError as e:\n",
        "        print(f\"[ERROR] Trial failed with lr={lr}, dim={dim}: {str(e)}\")\n",
        "        f1 = 0.8\n",
        "    return f1\n",
        "\n",
        "study = optuna.create_study(direction='maximize')\n",
        "study.optimize(objective, n_trials=20)\n",
        "\n",
        "print(\"Лучшие параметры:\", study.best_params)\n",
        "print(\"Лучшее качество (accuracy):\", study.best_value)"
      ],
      "metadata": {
        "colab": {
          "base_uri": "https://localhost:8080/"
        },
        "id": "rq5_MxuTLsm3",
        "outputId": "d5da5701-f25a-4aa9-c7ab-83071c7c3d50"
      },
      "execution_count": null,
      "outputs": [
        {
          "output_type": "stream",
          "name": "stderr",
          "text": [
            "[I 2025-05-15 13:44:00,752] A new study created in memory with name: no-name-331c0ceb-9770-4aa7-8239-366a15948235\n",
            "[I 2025-05-15 13:44:54,945] Trial 0 finished with value: 0.8681637073353675 and parameters: {'epoch': 179, 'lr': 0.1469960319083042, 'wordNgrams': 3}. Best is trial 0 with value: 0.8681637073353675.\n",
            "[I 2025-05-15 13:45:48,413] Trial 1 finished with value: 0.8485174207662912 and parameters: {'epoch': 189, 'lr': 0.10064744539217087, 'wordNgrams': 2}. Best is trial 0 with value: 0.8681637073353675.\n",
            "[I 2025-05-15 13:46:08,874] Trial 2 finished with value: 0.8340404636944798 and parameters: {'epoch': 68, 'lr': 0.1470822161079641, 'wordNgrams': 3}. Best is trial 0 with value: 0.8681637073353675.\n",
            "[I 2025-05-15 13:46:33,286] Trial 3 finished with value: 0.8330296926339901 and parameters: {'epoch': 78, 'lr': 0.15063507596431108, 'wordNgrams': 3}. Best is trial 0 with value: 0.8681637073353675.\n",
            "[I 2025-05-15 13:47:10,472] Trial 4 finished with value: 0.8552052336580445 and parameters: {'epoch': 122, 'lr': 0.17023799672491452, 'wordNgrams': 3}. Best is trial 0 with value: 0.8681637073353675.\n",
            "[I 2025-05-15 13:47:47,856] Trial 5 finished with value: 0.8540753467673851 and parameters: {'epoch': 117, 'lr': 0.1696528007470622, 'wordNgrams': 3}. Best is trial 0 with value: 0.8681637073353675.\n",
            "[I 2025-05-15 13:48:06,339] Trial 6 finished with value: 0.8120730572586992 and parameters: {'epoch': 64, 'lr': 0.10003539476818335, 'wordNgrams': 2}. Best is trial 0 with value: 0.8681637073353675.\n",
            "[I 2025-05-15 13:48:45,147] Trial 7 finished with value: 0.8600952773822705 and parameters: {'epoch': 128, 'lr': 0.16647536664178306, 'wordNgrams': 3}. Best is trial 0 with value: 0.8681637073353675.\n",
            "[I 2025-05-15 13:49:44,901] Trial 8 finished with value: 0.8595748483571616 and parameters: {'epoch': 199, 'lr': 0.13650647460947257, 'wordNgrams': 3}. Best is trial 0 with value: 0.8681637073353675.\n",
            "[I 2025-05-15 13:50:26,259] Trial 9 finished with value: 0.8478738913612021 and parameters: {'epoch': 142, 'lr': 0.12053634503706756, 'wordNgrams': 2}. Best is trial 0 with value: 0.8681637073353675.\n",
            "[I 2025-05-15 13:51:13,900] Trial 10 finished with value: 0.860864210984122 and parameters: {'epoch': 163, 'lr': 0.1929573759609287, 'wordNgrams': 2}. Best is trial 0 with value: 0.8681637073353675.\n",
            "[I 2025-05-15 13:52:06,246] Trial 11 finished with value: 0.8497427785238126 and parameters: {'epoch': 167, 'lr': 0.19484932494258833, 'wordNgrams': 2}. Best is trial 0 with value: 0.8681637073353675.\n",
            "[I 2025-05-15 13:52:53,628] Trial 12 finished with value: 0.8579682465214525 and parameters: {'epoch': 163, 'lr': 0.19248274411051552, 'wordNgrams': 2}. Best is trial 0 with value: 0.8681637073353675.\n",
            "[I 2025-05-15 13:53:41,055] Trial 13 finished with value: 0.8597542874010466 and parameters: {'epoch': 168, 'lr': 0.12356434895075709, 'wordNgrams': 2}. Best is trial 0 with value: 0.8681637073353675.\n",
            "[I 2025-05-15 13:54:27,769] Trial 14 finished with value: 0.8435139146149422 and parameters: {'epoch': 147, 'lr': 0.13135060352824782, 'wordNgrams': 3}. Best is trial 0 with value: 0.8681637073353675.\n",
            "[I 2025-05-15 13:55:19,830] Trial 15 finished with value: 0.8580521524409783 and parameters: {'epoch': 181, 'lr': 0.1819373374956264, 'wordNgrams': 2}. Best is trial 0 with value: 0.8681637073353675.\n",
            "[I 2025-05-15 13:55:48,653] Trial 16 finished with value: 0.8436958972512317 and parameters: {'epoch': 98, 'lr': 0.11514001672551442, 'wordNgrams': 2}. Best is trial 0 with value: 0.8681637073353675.\n",
            "[I 2025-05-15 13:56:32,670] Trial 17 finished with value: 0.8594226108072219 and parameters: {'epoch': 148, 'lr': 0.1606366808539357, 'wordNgrams': 3}. Best is trial 0 with value: 0.8681637073353675.\n",
            "[I 2025-05-15 13:57:23,127] Trial 18 finished with value: 0.8714174991593396 and parameters: {'epoch': 177, 'lr': 0.1536209732947752, 'wordNgrams': 2}. Best is trial 18 with value: 0.8714174991593396.\n",
            "[I 2025-05-15 13:58:17,383] Trial 19 finished with value: 0.8502606860899297 and parameters: {'epoch': 182, 'lr': 0.15242064151055937, 'wordNgrams': 3}. Best is trial 18 with value: 0.8714174991593396.\n"
          ]
        },
        {
          "output_type": "stream",
          "name": "stdout",
          "text": [
            "Лучшие параметры: {'epoch': 177, 'lr': 0.1536209732947752, 'wordNgrams': 2}\n",
            "Лучшее качество (accuracy): 0.8714174991593396\n"
          ]
        }
      ]
    },
    {
      "cell_type": "code",
      "source": [
        "ft_model = fasttext.train_supervised(\n",
        "    input='fasttext_train.txt',\n",
        "    epoch=177,\n",
        "    lr=0.154,\n",
        "    wordNgrams=2,\n",
        "    dim=128,\n",
        "    loss='softmax',\n",
        "    thread=4,\n",
        "    seed=seed\n",
        ")"
      ],
      "metadata": {
        "id": "fs5N1MjjIsRK"
      },
      "execution_count": null,
      "outputs": []
    },
    {
      "cell_type": "code",
      "source": [
        "texts = X_train_lemma.tolist()\n",
        "tf_idf_model = TfidfVectorizer(max_features=5000, sublinear_tf=True)\n",
        "X_tfidf = tf_idf_model.fit_transform(texts)"
      ],
      "metadata": {
        "id": "IeD5ccmTPF30"
      },
      "execution_count": null,
      "outputs": []
    },
    {
      "cell_type": "code",
      "source": [
        "X_tfidf"
      ],
      "metadata": {
        "colab": {
          "base_uri": "https://localhost:8080/"
        },
        "id": "TyMHhARcQDOO",
        "outputId": "e507f501-8920-4b3b-c893-39a974048e36"
      },
      "execution_count": null,
      "outputs": [
        {
          "output_type": "execute_result",
          "data": {
            "text/plain": [
              "<Compressed Sparse Row sparse matrix of dtype 'float64'\n",
              "\twith 40620 stored elements and shape (9246, 5000)>"
            ]
          },
          "metadata": {},
          "execution_count": 42
        }
      ]
    },
    {
      "cell_type": "code",
      "source": [
        "import numpy as np\n",
        "from collections import defaultdict\n",
        "from sklearn.preprocessing import normalize\n",
        "\n",
        "alpha = 1.0\n",
        "beta = 0.25\n",
        "\n",
        "classes = np.unique(y_train_lemma)\n",
        "centroids = {}\n",
        "\n",
        "for c in classes:\n",
        "    idx_pos = np.where(y_train_lemma == c)[0]\n",
        "    idx_neg = np.where(y_train_lemma != c)[0]\n",
        "\n",
        "    v_pos = X_tfidf[idx_pos].mean(axis=0).A1\n",
        "    v_neg = X_tfidf[idx_neg].mean(axis=0).A1\n",
        "\n",
        "    mu_c = alpha * v_pos - beta * v_neg\n",
        "    centroids[c] = mu_c"
      ],
      "metadata": {
        "id": "xzC-sSwHKnLU"
      },
      "execution_count": null,
      "outputs": []
    },
    {
      "cell_type": "code",
      "source": [
        "for key, val in list(centroids.items())[:5]:\n",
        "    print(f\"{key}: {val}\")"
      ],
      "metadata": {
        "colab": {
          "base_uri": "https://localhost:8080/"
        },
        "id": "n7wyg4CnR5lj",
        "outputId": "514aae9a-d132-4ad5-8ab8-2dfeab943b6d"
      },
      "execution_count": null,
      "outputs": [
        {
          "output_type": "stream",
          "name": "stdout",
          "text": [
            "0: [[-6.49611994e-05 -2.37836686e-05 -5.48657433e-05 ... -9.99558844e-04\n",
            "  -1.20003631e-05 -2.35135851e-05]]\n",
            "1: [[-6.43517009e-05 -2.35605183e-05 -5.43509654e-05 ... -9.90180482e-04\n",
            "  -1.18877697e-05 -2.32929689e-05]]\n",
            "2: [[-6.53570848e-05 -2.39286106e-05 -5.52001052e-05 ...  1.07427814e-01\n",
            "   1.97218637e-03  3.86431408e-03]]\n",
            "3: [[-7.19063379e-05 -2.63264307e-05 -6.07315554e-05 ... -1.10642378e-03\n",
            "  -1.32833472e-05 -2.60274720e-05]]\n",
            "4: [[-7.13065389e-05 -2.61068316e-05 -6.02249697e-05 ... -1.09719467e-03\n",
            "  -1.31725456e-05 -2.58103666e-05]]\n"
          ]
        }
      ]
    },
    {
      "cell_type": "code",
      "source": [
        "from scipy.special import softmax\n",
        "from sklearn.metrics.pairwise import cosine_similarity\n",
        "import numpy as np\n",
        "\n",
        "def count_probs_tf_idf(vector, centroids):\n",
        "    class_labels = list(centroids.keys())\n",
        "    centroid_matrix = np.vstack([centroids[c] for c in class_labels])\n",
        "    similarities = cosine_similarity(vector.reshape(1, -1), centroid_matrix).flatten()\n",
        "    probs = softmax(similarities)\n",
        "    return probs"
      ],
      "metadata": {
        "id": "54IUd3qSSTa-"
      },
      "execution_count": null,
      "outputs": []
    },
    {
      "cell_type": "code",
      "source": [
        "count_probs_tf_idf(X_tfidf[1].toarray().flatten(), centroids)"
      ],
      "metadata": {
        "colab": {
          "base_uri": "https://localhost:8080/"
        },
        "id": "ZGBoc-fAVvkN",
        "outputId": "7c370956-7461-450f-fc1a-313c23fd91d2"
      },
      "execution_count": null,
      "outputs": [
        {
          "output_type": "execute_result",
          "data": {
            "text/plain": [
              "array([0.01498757, 0.01495513, 0.01492941, 0.01638148, 0.01849708,\n",
              "       0.0149486 , 0.01491685, 0.01491431, 0.01491172, 0.01606454,\n",
              "       0.01506014, 0.01493223, 0.01496198, 0.01490354, 0.0152852 ,\n",
              "       0.01556147, 0.01577504, 0.01518666, 0.01495325, 0.01495271,\n",
              "       0.01489836, 0.01580254, 0.01495399, 0.01503656, 0.01503662,\n",
              "       0.0151562 , 0.01492323, 0.01494761, 0.01492299, 0.0149099 ,\n",
              "       0.0151473 , 0.01510868, 0.01544989, 0.01507983, 0.01622235,\n",
              "       0.01550427, 0.01506168, 0.0151888 , 0.0149484 , 0.0149494 ,\n",
              "       0.01495692, 0.01494171, 0.01495505, 0.01495609, 0.0156405 ,\n",
              "       0.01495786, 0.01496538, 0.01498886, 0.01493496, 0.01495299,\n",
              "       0.01494778, 0.01495185, 0.01496672, 0.01495556, 0.01497038,\n",
              "       0.0149328 , 0.01496464, 0.01498435, 0.0149494 , 0.01496667,\n",
              "       0.01495784, 0.0149724 , 0.01496348, 0.0149773 , 0.01497939,\n",
              "       0.01498163])"
            ]
          },
          "metadata": {},
          "execution_count": 63
        }
      ]
    },
    {
      "cell_type": "code",
      "source": [
        "import re\n",
        "from catboost import CatBoostClassifier\n",
        "import os\n",
        "import fasttext\n",
        "import numpy as np\n",
        "from scipy.sparse import hstack\n",
        "from sklearn.base import BaseEstimator, ClassifierMixin\n",
        "from sklearn.preprocessing import LabelEncoder\n",
        "from sklearn.feature_extraction.text import TfidfVectorizer\n",
        "from sklearn.linear_model import LogisticRegression\n",
        "\n",
        "def count_lang(text):\n",
        "    ru = len(re.findall(r\"\\b[а-яА-ЯёЁ]+\\b\", text))\n",
        "    en = len(re.findall(r\"\\b[a-zA-Z]+\\b\", text))\n",
        "    return np.array([ru, en])\n",
        "\n",
        "class QueryClassifier(BaseEstimator, ClassifierMixin):\n",
        "    def __init__(self,\n",
        "                 tfidf_params=None,\n",
        "                 ft_params=None,\n",
        "                 catboost_params=None,\n",
        "                 seed=42):\n",
        "        self.tfidf = TfidfVectorizer(**(tfidf_params or {}))\n",
        "        self.lr = LogisticRegression(random_state=seed)\n",
        "        self.ft_params = ft_params or {}\n",
        "        self.catboost = CatBoostClassifier(**(catboost_params or {}))\n",
        "        self.le = LabelEncoder()\n",
        "        self.ft_model = None\n",
        "        self.weights = None\n",
        "        self.meta_clf = LogisticRegression(\n",
        "            solver='lbfgs',\n",
        "            multi_class='multinomial',\n",
        "            fit_intercept=False,\n",
        "            C=1e6\n",
        "        )\n",
        "\n",
        "    def fit(self, X, y):\n",
        "        y_enc = self.le.fit_transform(y)\n",
        "\n",
        "        # TF-IDF + LR\n",
        "        Xt = self.tfidf.fit_transform(X)\n",
        "        self.lr.fit(Xt, y_enc)\n",
        "\n",
        "        # FastText\n",
        "        self.ft_model = fasttext.train_supervised(**self.ft_params)\n",
        "\n",
        "        # Catboost\n",
        "        ft_emb = np.vstack([self.ft_model.get_sentence_vector(t) for t in X])\n",
        "        lang = np.vstack([count_lang(t) for t in X])\n",
        "        Xc = hstack([Xt, ft_emb, lang]).tocsr()\n",
        "        self.catboost.fit(Xc, y_enc)\n",
        "\n",
        "        p1 = self.lr.predict_proba(Xt)\n",
        "\n",
        "        probs = []\n",
        "        for p in X:\n",
        "            pred_labels, pred_probs = self.ft_model.predict(p, k=n_classes)\n",
        "            current_numbers = [int(label.split('__')[-1]) for label in pred_labels]\n",
        "            sorted_indices = np.argsort(current_numbers)\n",
        "            sorted_probs = np.array(pred_probs)[sorted_indices]\n",
        "            probs.append(sorted_probs)\n",
        "        p2 = np.array(probs)\n",
        "        p3 = self.catboost.predict_proba(Xc)\n",
        "\n",
        "        X_meta = np.hstack([p1, p2, p3])\n",
        "        self.meta_clf.fit(X_meta, y_enc)\n",
        "        C = p1.shape[1]\n",
        "        coefs = self.meta_clf.coef_\n",
        "\n",
        "        w1 = np.mean(np.abs(coefs[:, :C]))\n",
        "        w2 = np.mean(np.abs(coefs[:,  C:2*C]))\n",
        "        w3 = np.mean(np.abs(coefs[:,2*C:]))\n",
        "        self.weights = np.array([w1, w2, w3])\n",
        "        self.weights /= self.weights.sum()\n",
        "        return self\n",
        "\n",
        "    def predict_proba(self, X):\n",
        "        Xt = self.tfidf.transform(X)\n",
        "\n",
        "        p1 = self.lr.predict_proba(Xt)\n",
        "\n",
        "        ft_emb = np.vstack([self.ft_model.get_sentence_vector(t) for t in X])\n",
        "        lang = np.vstack([count_lang(t) for t in X])\n",
        "        Xc = hstack([Xt, ft_emb, lang]).tocsr()\n",
        "        p3 = self.catboost.predict_proba(Xc)\n",
        "\n",
        "        labels = [l.replace('__label__', '') for l in self.ft_model.labels]\n",
        "        idx = self.le.transform(labels)\n",
        "        p2_raw = [self.ft_model.predict(p, k=len(self.le.classes_))[1] for p in X]\n",
        "        p2 = np.zeros_like(p1)\n",
        "        for i, probs in enumerate(p2_raw):\n",
        "            p2[i, idx] = probs\n",
        "\n",
        "        w = self.weights / self.weights.sum()\n",
        "        return w[0]*p1 + w[1]*p2 + w[2]*p3\n",
        "\n",
        "    def predict(self, X):\n",
        "        probas = self.predict_proba(X)\n",
        "        return self.le.inverse_transform(probas.argmax(axis=1))"
      ],
      "metadata": {
        "id": "gIeJK-VHY-IX"
      },
      "execution_count": null,
      "outputs": []
    },
    {
      "cell_type": "code",
      "source": [
        "tfidf_params = {\n",
        "    'max_features': 5000,\n",
        "    'sublinear_tf': True\n",
        "}\n",
        "\n",
        "ft_params = {\n",
        "    'input': 'fasttext_train.txt',\n",
        "    'epoch': 177,\n",
        "    'lr': 0.154,\n",
        "    'wordNgrams': 2,\n",
        "    'dim': 128,\n",
        "    'loss': 'softmax',\n",
        "    'thread': 4,\n",
        "    'seed': seed\n",
        "}\n",
        "\n",
        "catboost_params = {\n",
        "    'iterations': 100,\n",
        "    'loss_function': 'MultiClass',\n",
        "    'random_seed': seed,\n",
        "    'early_stopping_rounds': 50,\n",
        "    'auto_class_weights': 'Balanced',\n",
        "    'verbose': 10\n",
        "}\n",
        "\n",
        "clf = QueryClassifier(\n",
        "    tfidf_params=tfidf_params,\n",
        "    ft_params = ft_params,\n",
        "    catboost_params = catboost_params\n",
        ")\n",
        "clf.fit(X_train_lemma, y_train_lemma)\n",
        "preds = clf.predict(X_val_lemma)"
      ],
      "metadata": {
        "colab": {
          "base_uri": "https://localhost:8080/"
        },
        "id": "rMTrBERieis1",
        "outputId": "c37c6988-242e-4c4d-c121-a4cb71017b35"
      },
      "execution_count": null,
      "outputs": [
        {
          "output_type": "stream",
          "name": "stdout",
          "text": [
            "Learning rate set to 0.5\n",
            "0:\tlearn: 2.2316366\ttotal: 4.7s\tremaining: 7m 45s\n",
            "10:\tlearn: 0.0966076\ttotal: 55.1s\tremaining: 7m 25s\n",
            "20:\tlearn: 0.0411573\ttotal: 1m 45s\tremaining: 6m 35s\n",
            "30:\tlearn: 0.0342747\ttotal: 2m 35s\tremaining: 5m 46s\n",
            "40:\tlearn: 0.0322933\ttotal: 3m 25s\tremaining: 4m 55s\n",
            "50:\tlearn: 0.0304361\ttotal: 4m 15s\tremaining: 4m 5s\n",
            "60:\tlearn: 0.0282364\ttotal: 5m 4s\tremaining: 3m 14s\n",
            "70:\tlearn: 0.0261869\ttotal: 5m 55s\tremaining: 2m 25s\n",
            "80:\tlearn: 0.0243051\ttotal: 6m 45s\tremaining: 1m 35s\n",
            "90:\tlearn: 0.0222742\ttotal: 7m 36s\tremaining: 45.1s\n",
            "99:\tlearn: 0.0209101\ttotal: 8m 20s\tremaining: 0us\n"
          ]
        },
        {
          "output_type": "stream",
          "name": "stderr",
          "text": [
            "/usr/local/lib/python3.11/dist-packages/sklearn/linear_model/_logistic.py:1247: FutureWarning: 'multi_class' was deprecated in version 1.5 and will be removed in 1.7. From then on, it will always use 'multinomial'. Leave it to its default value to avoid this warning.\n",
            "  warnings.warn(\n"
          ]
        }
      ]
    },
    {
      "cell_type": "code",
      "source": [
        "macro_f1_logreg = f1_score(y_val_lemma, preds, average='macro', zero_division=0)\n",
        "print(f\"Macro F1: {macro_f1_logreg:.4f}\")"
      ],
      "metadata": {
        "colab": {
          "base_uri": "https://localhost:8080/"
        },
        "id": "kSXy86DOvOGV",
        "outputId": "64f4f9bb-6c20-471f-b4f4-678aa9866bd7"
      },
      "execution_count": null,
      "outputs": [
        {
          "output_type": "stream",
          "name": "stdout",
          "text": [
            "Macro F1: 0.7274\n"
          ]
        }
      ]
    },
    {
      "cell_type": "code",
      "source": [
        "clf.weights"
      ],
      "metadata": {
        "colab": {
          "base_uri": "https://localhost:8080/"
        },
        "id": "ko1CJI8zxRBb",
        "outputId": "82706362-b567-40bf-9e6a-953d76dadcd1"
      },
      "execution_count": null,
      "outputs": [
        {
          "output_type": "execute_result",
          "data": {
            "text/plain": [
              "array([0.17890536, 0.41584071, 0.40525393])"
            ]
          },
          "metadata": {},
          "execution_count": 62
        }
      ]
    },
    {
      "cell_type": "markdown",
      "source": [
        "## Fine-Tuning XLM-RoBERTa-base"
      ],
      "metadata": {
        "id": "GghixwKz5Wke"
      }
    },
    {
      "cell_type": "code",
      "source": [
        "# pip install numpy==1.26.4"
      ],
      "metadata": {
        "id": "M9Eew3vgtdxF"
      },
      "execution_count": null,
      "outputs": []
    },
    {
      "cell_type": "code",
      "source": [
        "import pandas as pd\n",
        "import numpy as np\n",
        "import torch\n",
        "from sklearn.preprocessing import LabelEncoder\n",
        "from sklearn.model_selection import train_test_split\n",
        "from sklearn.metrics import f1_score\n",
        "from transformers import XLMRobertaTokenizer, XLMRobertaForSequenceClassification, Trainer, TrainingArguments\n",
        "from datasets import Dataset\n",
        "\n",
        "df_train = pd.read_csv('train.csv')\n",
        "df_test = pd.read_csv('test.csv')\n",
        "df_sample_subm = pd.read_csv('sample_submission.csv')\n",
        "\n",
        "\n",
        "X_train, X_val, y_train, y_val = train_test_split(\n",
        "    df_train['Query'], df_train['CategoryID'],\n",
        "    test_size=0.2, stratify=df_train['CategoryID'], random_state=42\n",
        ")\n",
        "tokenizer = XLMRobertaTokenizer.from_pretrained('xlm-roberta-base')\n",
        "\n",
        "def tokenize_function(examples):\n",
        "    return tokenizer(examples['text'], padding='max_length', truncation=True, max_length=128)\n",
        "\n",
        "train_dataset = Dataset.from_dict({'text': X_train, 'label': y_train})\n",
        "val_dataset = Dataset.from_dict({'text': X_val, 'label': y_val})\n",
        "\n",
        "tokenized_train = train_dataset.map(tokenize_function, batched=True)\n",
        "tokenized_val = val_dataset.map(tokenize_function, batched=True)\n",
        "\n",
        "tokenized_train.set_format('torch', columns=['input_ids', 'attention_mask', 'label'])\n",
        "tokenized_val.set_format('torch', columns=['input_ids', 'attention_mask', 'label'])\n",
        "\n",
        "class_counts = df_train['CategoryID'].value_counts().sort_index()\n",
        "total_samples = len(df_train)\n",
        "class_weights = total_samples / (len(class_counts) * class_counts)\n",
        "weights = torch.tensor(class_weights.values, dtype=torch.float)\n",
        "\n",
        "model = XLMRobertaForSequenceClassification.from_pretrained('xlm-roberta-base', num_labels=67)\n",
        "\n",
        "def compute_loss(model, inputs, return_outputs=False):\n",
        "    labels = inputs.get(\"labels\")\n",
        "    outputs = model(**inputs)\n",
        "    logits = outputs.get('logits')\n",
        "    loss_fct = torch.nn.CrossEntropyLoss(weight=weights.to(model.device))\n",
        "    loss = loss_fct(logits.view(-1, model.config.num_labels), labels.view(-1))\n",
        "    return (loss, outputs) if return_outputs else loss\n",
        "\n",
        "def compute_metrics(pred):\n",
        "    labels = pred.label_ids\n",
        "    preds = pred.predictions.argmax(-1)\n",
        "    f1 = f1_score(labels, preds, average='macro')\n",
        "    return {'f1': f1}"
      ],
      "metadata": {
        "colab": {
          "base_uri": "https://localhost:8080/",
          "height": 237,
          "referenced_widgets": [
            "46b4974b8dff4efe98f3ded85c3324d4",
            "ffa0ebd36044497cb64aa8200e4cf6c7",
            "8d3af1feb6fe4cce97ccd3b436666461",
            "cecf1ae73bda4a1e939074505c82c645",
            "11e905c4f9ed4dddbd88ed5aaa9db6df",
            "483940cb72c64a159ebd712adf65dff9",
            "07bfebe0850c4f4c8e1d6b8b6f1cae19",
            "15e3ea31fa204ef0be3690d2a20800f1",
            "7f4fd959b2bb488eb0310d4434c95433",
            "f68e052b1b074f6ab51c5c8b6a859443",
            "c927df039dcf4d4e86ffb553ca1e35e7",
            "d7f353c286074aabb5b381635294f409",
            "e1476748cee24a9ea7eaeff73fa7fbc4",
            "56ca8ec3353140b78da0067901455b6d",
            "42fb48d250fd46338b25df3d8f0aca19",
            "346cae636e584ec091126523457b4ce3",
            "a8410d9349474b1790ba0fdbc4d21345",
            "6fcc233ea31d40c0af6c44ddb866df52",
            "121d520519a947bbb8e3e15710306962",
            "115817559be64b2cb8cfd5b32a569a80",
            "1783135d71ed4386bdb962d0544b8fef",
            "821b3384311d4ba6b5cbf57f8ce9f826"
          ]
        },
        "id": "PdTDrqXtq6Lm",
        "outputId": "70589a00-e13e-4a52-ff30-606caaefc84a"
      },
      "execution_count": null,
      "outputs": [
        {
          "output_type": "stream",
          "name": "stderr",
          "text": [
            "/usr/local/lib/python3.11/dist-packages/huggingface_hub/utils/_auth.py:94: UserWarning: \n",
            "The secret `HF_TOKEN` does not exist in your Colab secrets.\n",
            "To authenticate with the Hugging Face Hub, create a token in your settings tab (https://huggingface.co/settings/tokens), set it as secret in your Google Colab and restart your session.\n",
            "You will be able to reuse this secret in all of your notebooks.\n",
            "Please note that authentication is recommended but still optional to access public models or datasets.\n",
            "  warnings.warn(\n"
          ]
        },
        {
          "output_type": "display_data",
          "data": {
            "text/plain": [
              "Map:   0%|          | 0/9246 [00:00<?, ? examples/s]"
            ],
            "application/vnd.jupyter.widget-view+json": {
              "version_major": 2,
              "version_minor": 0,
              "model_id": "46b4974b8dff4efe98f3ded85c3324d4"
            }
          },
          "metadata": {}
        },
        {
          "output_type": "display_data",
          "data": {
            "text/plain": [
              "Map:   0%|          | 0/2312 [00:00<?, ? examples/s]"
            ],
            "application/vnd.jupyter.widget-view+json": {
              "version_major": 2,
              "version_minor": 0,
              "model_id": "d7f353c286074aabb5b381635294f409"
            }
          },
          "metadata": {}
        },
        {
          "output_type": "stream",
          "name": "stderr",
          "text": [
            "Some weights of XLMRobertaForSequenceClassification were not initialized from the model checkpoint at xlm-roberta-base and are newly initialized: ['classifier.dense.bias', 'classifier.dense.weight', 'classifier.out_proj.bias', 'classifier.out_proj.weight']\n",
            "You should probably TRAIN this model on a down-stream task to be able to use it for predictions and inference.\n"
          ]
        }
      ]
    },
    {
      "cell_type": "code",
      "source": [
        "import torch.nn as nn\n",
        "from transformers import Trainer\n",
        "\n",
        "class FocalTrainer(Trainer):\n",
        "    def __init__(self, *args, class_weights=None, **kwargs):\n",
        "        super().__init__(*args, **kwargs)\n",
        "        self.class_weights = class_weights\n",
        "\n",
        "    def compute_loss(self, model, inputs, return_outputs=False, num_items_in_batch=None):\n",
        "        labels = inputs.pop(\"labels\")\n",
        "        outputs = model(**inputs)\n",
        "        logits = outputs.logits\n",
        "\n",
        "        loss_fct = nn.CrossEntropyLoss(weight=self.class_weights)\n",
        "        loss = loss_fct(\n",
        "            logits.view(-1, model.config.num_labels),\n",
        "            labels.view(-1)\n",
        "        )\n",
        "\n",
        "        if num_items_in_batch is not None:\n",
        "            loss = loss / num_items_in_batch\n",
        "\n",
        "        return (loss, outputs) if return_outputs else loss"
      ],
      "metadata": {
        "id": "okhvZYvGuGOn"
      },
      "execution_count": null,
      "outputs": []
    },
    {
      "cell_type": "code",
      "source": [
        "training_args = TrainingArguments(\n",
        "    output_dir='./results',\n",
        "    num_train_epochs=15,\n",
        "    per_device_train_batch_size=16,\n",
        "    per_device_eval_batch_size=16,\n",
        "    fp16=True,\n",
        "    fp16_opt_level=\"O1\",\n",
        "    warmup_steps=500,\n",
        "    weight_decay=0.01,\n",
        "    logging_dir='./logs',\n",
        "    logging_steps=10,\n",
        "    eval_strategy=\"epoch\",\n",
        "    save_strategy=\"epoch\",\n",
        "    dataloader_num_workers=4,\n",
        ")\n",
        "\n",
        "trainer = FocalTrainer(\n",
        "    model=model,\n",
        "    args=training_args,\n",
        "    train_dataset=tokenized_train,\n",
        "    eval_dataset=tokenized_val,\n",
        "    compute_metrics=compute_metrics,\n",
        ")\n",
        "\n",
        "trainer.train()\n",
        "\n",
        "eval_result = trainer.evaluate()\n",
        "print(f\"Macro F1 Score: {eval_result['eval_f1']}\")\n",
        "\n",
        "test_dataset = Dataset.from_dict({'text': df_test['text']})\n",
        "tokenized_test = test_dataset.map(tokenize_function, batched=True)\n",
        "tokenized_test.set_format('torch', columns=['input_ids', 'attention_mask'])\n",
        "\n",
        "predictions = trainer.predict(tokenized_test)\n",
        "preds = np.argmax(predictions.predictions, axis=1)\n",
        "df_test['label'] = le.inverse_transform(preds)\n",
        "\n",
        "submission = df_test[['id', 'label']]\n",
        "submission.to_csv('submission.csv', index=False)"
      ],
      "metadata": {
        "colab": {
          "base_uri": "https://localhost:8080/",
          "height": 1000
        },
        "id": "cRo5z7gBln7p",
        "outputId": "029e7b98-8d3f-49c1-f8bb-2d121e230071"
      },
      "execution_count": null,
      "outputs": [
        {
          "output_type": "stream",
          "name": "stderr",
          "text": [
            "/usr/local/lib/python3.11/dist-packages/torch/utils/data/dataloader.py:624: UserWarning: This DataLoader will create 4 worker processes in total. Our suggested max number of worker in current system is 2, which is smaller than what this DataLoader is going to create. Please be aware that excessive worker creation might get DataLoader running slow or even freeze, lower the worker number to avoid potential slowness/freeze if necessary.\n",
            "  warnings.warn(\n"
          ]
        },
        {
          "output_type": "display_data",
          "data": {
            "text/plain": [
              "<IPython.core.display.HTML object>"
            ],
            "text/html": [
              "\n",
              "    <div>\n",
              "      \n",
              "      <progress value='8670' max='8670' style='width:300px; height:20px; vertical-align: middle;'></progress>\n",
              "      [8670/8670 39:29, Epoch 15/15]\n",
              "    </div>\n",
              "    <table border=\"1\" class=\"dataframe\">\n",
              "  <thead>\n",
              " <tr style=\"text-align: left;\">\n",
              "      <th>Epoch</th>\n",
              "      <th>Training Loss</th>\n",
              "      <th>Validation Loss</th>\n",
              "      <th>F1</th>\n",
              "    </tr>\n",
              "  </thead>\n",
              "  <tbody>\n",
              "    <tr>\n",
              "      <td>1</td>\n",
              "      <td>0.299300</td>\n",
              "      <td>0.417201</td>\n",
              "      <td>0.723222</td>\n",
              "    </tr>\n",
              "    <tr>\n",
              "      <td>2</td>\n",
              "      <td>0.204500</td>\n",
              "      <td>0.426382</td>\n",
              "      <td>0.799689</td>\n",
              "    </tr>\n",
              "    <tr>\n",
              "      <td>3</td>\n",
              "      <td>0.198000</td>\n",
              "      <td>0.369045</td>\n",
              "      <td>0.821046</td>\n",
              "    </tr>\n",
              "    <tr>\n",
              "      <td>4</td>\n",
              "      <td>0.092100</td>\n",
              "      <td>0.429809</td>\n",
              "      <td>0.839452</td>\n",
              "    </tr>\n",
              "    <tr>\n",
              "      <td>5</td>\n",
              "      <td>0.110400</td>\n",
              "      <td>0.385972</td>\n",
              "      <td>0.854073</td>\n",
              "    </tr>\n",
              "    <tr>\n",
              "      <td>6</td>\n",
              "      <td>0.114300</td>\n",
              "      <td>0.386882</td>\n",
              "      <td>0.872862</td>\n",
              "    </tr>\n",
              "    <tr>\n",
              "      <td>7</td>\n",
              "      <td>0.007000</td>\n",
              "      <td>0.382274</td>\n",
              "      <td>0.872190</td>\n",
              "    </tr>\n",
              "    <tr>\n",
              "      <td>8</td>\n",
              "      <td>0.155900</td>\n",
              "      <td>0.377052</td>\n",
              "      <td>0.874985</td>\n",
              "    </tr>\n",
              "    <tr>\n",
              "      <td>9</td>\n",
              "      <td>0.065900</td>\n",
              "      <td>0.388928</td>\n",
              "      <td>0.882345</td>\n",
              "    </tr>\n",
              "    <tr>\n",
              "      <td>10</td>\n",
              "      <td>0.001400</td>\n",
              "      <td>0.405479</td>\n",
              "      <td>0.871120</td>\n",
              "    </tr>\n",
              "    <tr>\n",
              "      <td>11</td>\n",
              "      <td>0.078500</td>\n",
              "      <td>0.380504</td>\n",
              "      <td>0.876753</td>\n",
              "    </tr>\n",
              "    <tr>\n",
              "      <td>12</td>\n",
              "      <td>0.038800</td>\n",
              "      <td>0.397840</td>\n",
              "      <td>0.886277</td>\n",
              "    </tr>\n",
              "    <tr>\n",
              "      <td>13</td>\n",
              "      <td>0.050300</td>\n",
              "      <td>0.401343</td>\n",
              "      <td>0.896682</td>\n",
              "    </tr>\n",
              "    <tr>\n",
              "      <td>14</td>\n",
              "      <td>0.058800</td>\n",
              "      <td>0.417956</td>\n",
              "      <td>0.896154</td>\n",
              "    </tr>\n",
              "    <tr>\n",
              "      <td>15</td>\n",
              "      <td>0.041700</td>\n",
              "      <td>0.411205</td>\n",
              "      <td>0.897801</td>\n",
              "    </tr>\n",
              "  </tbody>\n",
              "</table><p>"
            ]
          },
          "metadata": {}
        },
        {
          "output_type": "stream",
          "name": "stderr",
          "text": [
            "/usr/local/lib/python3.11/dist-packages/torch/utils/data/dataloader.py:624: UserWarning: This DataLoader will create 4 worker processes in total. Our suggested max number of worker in current system is 2, which is smaller than what this DataLoader is going to create. Please be aware that excessive worker creation might get DataLoader running slow or even freeze, lower the worker number to avoid potential slowness/freeze if necessary.\n",
            "  warnings.warn(\n",
            "/usr/local/lib/python3.11/dist-packages/torch/utils/data/dataloader.py:624: UserWarning: This DataLoader will create 4 worker processes in total. Our suggested max number of worker in current system is 2, which is smaller than what this DataLoader is going to create. Please be aware that excessive worker creation might get DataLoader running slow or even freeze, lower the worker number to avoid potential slowness/freeze if necessary.\n",
            "  warnings.warn(\n",
            "/usr/local/lib/python3.11/dist-packages/torch/utils/data/dataloader.py:624: UserWarning: This DataLoader will create 4 worker processes in total. Our suggested max number of worker in current system is 2, which is smaller than what this DataLoader is going to create. Please be aware that excessive worker creation might get DataLoader running slow or even freeze, lower the worker number to avoid potential slowness/freeze if necessary.\n",
            "  warnings.warn(\n",
            "/usr/local/lib/python3.11/dist-packages/torch/utils/data/dataloader.py:624: UserWarning: This DataLoader will create 4 worker processes in total. Our suggested max number of worker in current system is 2, which is smaller than what this DataLoader is going to create. Please be aware that excessive worker creation might get DataLoader running slow or even freeze, lower the worker number to avoid potential slowness/freeze if necessary.\n",
            "  warnings.warn(\n",
            "/usr/local/lib/python3.11/dist-packages/torch/utils/data/dataloader.py:624: UserWarning: This DataLoader will create 4 worker processes in total. Our suggested max number of worker in current system is 2, which is smaller than what this DataLoader is going to create. Please be aware that excessive worker creation might get DataLoader running slow or even freeze, lower the worker number to avoid potential slowness/freeze if necessary.\n",
            "  warnings.warn(\n",
            "/usr/local/lib/python3.11/dist-packages/torch/utils/data/dataloader.py:624: UserWarning: This DataLoader will create 4 worker processes in total. Our suggested max number of worker in current system is 2, which is smaller than what this DataLoader is going to create. Please be aware that excessive worker creation might get DataLoader running slow or even freeze, lower the worker number to avoid potential slowness/freeze if necessary.\n",
            "  warnings.warn(\n",
            "/usr/local/lib/python3.11/dist-packages/torch/utils/data/dataloader.py:624: UserWarning: This DataLoader will create 4 worker processes in total. Our suggested max number of worker in current system is 2, which is smaller than what this DataLoader is going to create. Please be aware that excessive worker creation might get DataLoader running slow or even freeze, lower the worker number to avoid potential slowness/freeze if necessary.\n",
            "  warnings.warn(\n",
            "/usr/local/lib/python3.11/dist-packages/torch/utils/data/dataloader.py:624: UserWarning: This DataLoader will create 4 worker processes in total. Our suggested max number of worker in current system is 2, which is smaller than what this DataLoader is going to create. Please be aware that excessive worker creation might get DataLoader running slow or even freeze, lower the worker number to avoid potential slowness/freeze if necessary.\n",
            "  warnings.warn(\n",
            "/usr/local/lib/python3.11/dist-packages/torch/utils/data/dataloader.py:624: UserWarning: This DataLoader will create 4 worker processes in total. Our suggested max number of worker in current system is 2, which is smaller than what this DataLoader is going to create. Please be aware that excessive worker creation might get DataLoader running slow or even freeze, lower the worker number to avoid potential slowness/freeze if necessary.\n",
            "  warnings.warn(\n",
            "/usr/local/lib/python3.11/dist-packages/torch/utils/data/dataloader.py:624: UserWarning: This DataLoader will create 4 worker processes in total. Our suggested max number of worker in current system is 2, which is smaller than what this DataLoader is going to create. Please be aware that excessive worker creation might get DataLoader running slow or even freeze, lower the worker number to avoid potential slowness/freeze if necessary.\n",
            "  warnings.warn(\n",
            "/usr/local/lib/python3.11/dist-packages/torch/utils/data/dataloader.py:624: UserWarning: This DataLoader will create 4 worker processes in total. Our suggested max number of worker in current system is 2, which is smaller than what this DataLoader is going to create. Please be aware that excessive worker creation might get DataLoader running slow or even freeze, lower the worker number to avoid potential slowness/freeze if necessary.\n",
            "  warnings.warn(\n",
            "/usr/local/lib/python3.11/dist-packages/torch/utils/data/dataloader.py:624: UserWarning: This DataLoader will create 4 worker processes in total. Our suggested max number of worker in current system is 2, which is smaller than what this DataLoader is going to create. Please be aware that excessive worker creation might get DataLoader running slow or even freeze, lower the worker number to avoid potential slowness/freeze if necessary.\n",
            "  warnings.warn(\n",
            "/usr/local/lib/python3.11/dist-packages/torch/utils/data/dataloader.py:624: UserWarning: This DataLoader will create 4 worker processes in total. Our suggested max number of worker in current system is 2, which is smaller than what this DataLoader is going to create. Please be aware that excessive worker creation might get DataLoader running slow or even freeze, lower the worker number to avoid potential slowness/freeze if necessary.\n",
            "  warnings.warn(\n",
            "/usr/local/lib/python3.11/dist-packages/torch/utils/data/dataloader.py:624: UserWarning: This DataLoader will create 4 worker processes in total. Our suggested max number of worker in current system is 2, which is smaller than what this DataLoader is going to create. Please be aware that excessive worker creation might get DataLoader running slow or even freeze, lower the worker number to avoid potential slowness/freeze if necessary.\n",
            "  warnings.warn(\n",
            "/usr/local/lib/python3.11/dist-packages/torch/utils/data/dataloader.py:624: UserWarning: This DataLoader will create 4 worker processes in total. Our suggested max number of worker in current system is 2, which is smaller than what this DataLoader is going to create. Please be aware that excessive worker creation might get DataLoader running slow or even freeze, lower the worker number to avoid potential slowness/freeze if necessary.\n",
            "  warnings.warn(\n"
          ]
        },
        {
          "output_type": "display_data",
          "data": {
            "text/plain": [
              "<IPython.core.display.HTML object>"
            ],
            "text/html": [
              "\n",
              "    <div>\n",
              "      \n",
              "      <progress value='145' max='145' style='width:300px; height:20px; vertical-align: middle;'></progress>\n",
              "      [145/145 00:03]\n",
              "    </div>\n",
              "    "
            ]
          },
          "metadata": {}
        },
        {
          "output_type": "stream",
          "name": "stdout",
          "text": [
            "Macro F1 Score: 0.8978005598990928\n"
          ]
        },
        {
          "output_type": "error",
          "ename": "KeyError",
          "evalue": "'text'",
          "traceback": [
            "\u001b[0;31m---------------------------------------------------------------------------\u001b[0m",
            "\u001b[0;31mKeyError\u001b[0m                                  Traceback (most recent call last)",
            "\u001b[0;32m/usr/local/lib/python3.11/dist-packages/pandas/core/indexes/base.py\u001b[0m in \u001b[0;36mget_loc\u001b[0;34m(self, key)\u001b[0m\n\u001b[1;32m   3804\u001b[0m         \u001b[0;32mtry\u001b[0m\u001b[0;34m:\u001b[0m\u001b[0;34m\u001b[0m\u001b[0;34m\u001b[0m\u001b[0m\n\u001b[0;32m-> 3805\u001b[0;31m             \u001b[0;32mreturn\u001b[0m \u001b[0mself\u001b[0m\u001b[0;34m.\u001b[0m\u001b[0m_engine\u001b[0m\u001b[0;34m.\u001b[0m\u001b[0mget_loc\u001b[0m\u001b[0;34m(\u001b[0m\u001b[0mcasted_key\u001b[0m\u001b[0;34m)\u001b[0m\u001b[0;34m\u001b[0m\u001b[0;34m\u001b[0m\u001b[0m\n\u001b[0m\u001b[1;32m   3806\u001b[0m         \u001b[0;32mexcept\u001b[0m \u001b[0mKeyError\u001b[0m \u001b[0;32mas\u001b[0m \u001b[0merr\u001b[0m\u001b[0;34m:\u001b[0m\u001b[0;34m\u001b[0m\u001b[0;34m\u001b[0m\u001b[0m\n",
            "\u001b[0;32mindex.pyx\u001b[0m in \u001b[0;36mpandas._libs.index.IndexEngine.get_loc\u001b[0;34m()\u001b[0m\n",
            "\u001b[0;32mindex.pyx\u001b[0m in \u001b[0;36mpandas._libs.index.IndexEngine.get_loc\u001b[0;34m()\u001b[0m\n",
            "\u001b[0;32mpandas/_libs/hashtable_class_helper.pxi\u001b[0m in \u001b[0;36mpandas._libs.hashtable.PyObjectHashTable.get_item\u001b[0;34m()\u001b[0m\n",
            "\u001b[0;32mpandas/_libs/hashtable_class_helper.pxi\u001b[0m in \u001b[0;36mpandas._libs.hashtable.PyObjectHashTable.get_item\u001b[0;34m()\u001b[0m\n",
            "\u001b[0;31mKeyError\u001b[0m: 'text'",
            "\nThe above exception was the direct cause of the following exception:\n",
            "\u001b[0;31mKeyError\u001b[0m                                  Traceback (most recent call last)",
            "\u001b[0;32m<ipython-input-9-10e3d295f629>\u001b[0m in \u001b[0;36m<cell line: 0>\u001b[0;34m()\u001b[0m\n\u001b[1;32m     31\u001b[0m \u001b[0;34m\u001b[0m\u001b[0m\n\u001b[1;32m     32\u001b[0m \u001b[0;31m# 12. Предсказание на тестовых данных\u001b[0m\u001b[0;34m\u001b[0m\u001b[0;34m\u001b[0m\u001b[0m\n\u001b[0;32m---> 33\u001b[0;31m \u001b[0mtest_dataset\u001b[0m \u001b[0;34m=\u001b[0m \u001b[0mDataset\u001b[0m\u001b[0;34m.\u001b[0m\u001b[0mfrom_dict\u001b[0m\u001b[0;34m(\u001b[0m\u001b[0;34m{\u001b[0m\u001b[0;34m'text'\u001b[0m\u001b[0;34m:\u001b[0m \u001b[0mdf_test\u001b[0m\u001b[0;34m[\u001b[0m\u001b[0;34m'text'\u001b[0m\u001b[0;34m]\u001b[0m\u001b[0;34m}\u001b[0m\u001b[0;34m)\u001b[0m\u001b[0;34m\u001b[0m\u001b[0;34m\u001b[0m\u001b[0m\n\u001b[0m\u001b[1;32m     34\u001b[0m \u001b[0mtokenized_test\u001b[0m \u001b[0;34m=\u001b[0m \u001b[0mtest_dataset\u001b[0m\u001b[0;34m.\u001b[0m\u001b[0mmap\u001b[0m\u001b[0;34m(\u001b[0m\u001b[0mtokenize_function\u001b[0m\u001b[0;34m,\u001b[0m \u001b[0mbatched\u001b[0m\u001b[0;34m=\u001b[0m\u001b[0;32mTrue\u001b[0m\u001b[0;34m)\u001b[0m\u001b[0;34m\u001b[0m\u001b[0;34m\u001b[0m\u001b[0m\n\u001b[1;32m     35\u001b[0m \u001b[0mtokenized_test\u001b[0m\u001b[0;34m.\u001b[0m\u001b[0mset_format\u001b[0m\u001b[0;34m(\u001b[0m\u001b[0;34m'torch'\u001b[0m\u001b[0;34m,\u001b[0m \u001b[0mcolumns\u001b[0m\u001b[0;34m=\u001b[0m\u001b[0;34m[\u001b[0m\u001b[0;34m'input_ids'\u001b[0m\u001b[0;34m,\u001b[0m \u001b[0;34m'attention_mask'\u001b[0m\u001b[0;34m]\u001b[0m\u001b[0;34m)\u001b[0m\u001b[0;34m\u001b[0m\u001b[0;34m\u001b[0m\u001b[0m\n",
            "\u001b[0;32m/usr/local/lib/python3.11/dist-packages/pandas/core/frame.py\u001b[0m in \u001b[0;36m__getitem__\u001b[0;34m(self, key)\u001b[0m\n\u001b[1;32m   4100\u001b[0m             \u001b[0;32mif\u001b[0m \u001b[0mself\u001b[0m\u001b[0;34m.\u001b[0m\u001b[0mcolumns\u001b[0m\u001b[0;34m.\u001b[0m\u001b[0mnlevels\u001b[0m \u001b[0;34m>\u001b[0m \u001b[0;36m1\u001b[0m\u001b[0;34m:\u001b[0m\u001b[0;34m\u001b[0m\u001b[0;34m\u001b[0m\u001b[0m\n\u001b[1;32m   4101\u001b[0m                 \u001b[0;32mreturn\u001b[0m \u001b[0mself\u001b[0m\u001b[0;34m.\u001b[0m\u001b[0m_getitem_multilevel\u001b[0m\u001b[0;34m(\u001b[0m\u001b[0mkey\u001b[0m\u001b[0;34m)\u001b[0m\u001b[0;34m\u001b[0m\u001b[0;34m\u001b[0m\u001b[0m\n\u001b[0;32m-> 4102\u001b[0;31m             \u001b[0mindexer\u001b[0m \u001b[0;34m=\u001b[0m \u001b[0mself\u001b[0m\u001b[0;34m.\u001b[0m\u001b[0mcolumns\u001b[0m\u001b[0;34m.\u001b[0m\u001b[0mget_loc\u001b[0m\u001b[0;34m(\u001b[0m\u001b[0mkey\u001b[0m\u001b[0;34m)\u001b[0m\u001b[0;34m\u001b[0m\u001b[0;34m\u001b[0m\u001b[0m\n\u001b[0m\u001b[1;32m   4103\u001b[0m             \u001b[0;32mif\u001b[0m \u001b[0mis_integer\u001b[0m\u001b[0;34m(\u001b[0m\u001b[0mindexer\u001b[0m\u001b[0;34m)\u001b[0m\u001b[0;34m:\u001b[0m\u001b[0;34m\u001b[0m\u001b[0;34m\u001b[0m\u001b[0m\n\u001b[1;32m   4104\u001b[0m                 \u001b[0mindexer\u001b[0m \u001b[0;34m=\u001b[0m \u001b[0;34m[\u001b[0m\u001b[0mindexer\u001b[0m\u001b[0;34m]\u001b[0m\u001b[0;34m\u001b[0m\u001b[0;34m\u001b[0m\u001b[0m\n",
            "\u001b[0;32m/usr/local/lib/python3.11/dist-packages/pandas/core/indexes/base.py\u001b[0m in \u001b[0;36mget_loc\u001b[0;34m(self, key)\u001b[0m\n\u001b[1;32m   3810\u001b[0m             ):\n\u001b[1;32m   3811\u001b[0m                 \u001b[0;32mraise\u001b[0m \u001b[0mInvalidIndexError\u001b[0m\u001b[0;34m(\u001b[0m\u001b[0mkey\u001b[0m\u001b[0;34m)\u001b[0m\u001b[0;34m\u001b[0m\u001b[0;34m\u001b[0m\u001b[0m\n\u001b[0;32m-> 3812\u001b[0;31m             \u001b[0;32mraise\u001b[0m \u001b[0mKeyError\u001b[0m\u001b[0;34m(\u001b[0m\u001b[0mkey\u001b[0m\u001b[0;34m)\u001b[0m \u001b[0;32mfrom\u001b[0m \u001b[0merr\u001b[0m\u001b[0;34m\u001b[0m\u001b[0;34m\u001b[0m\u001b[0m\n\u001b[0m\u001b[1;32m   3813\u001b[0m         \u001b[0;32mexcept\u001b[0m \u001b[0mTypeError\u001b[0m\u001b[0;34m:\u001b[0m\u001b[0;34m\u001b[0m\u001b[0;34m\u001b[0m\u001b[0m\n\u001b[1;32m   3814\u001b[0m             \u001b[0;31m# If we have a listlike key, _check_indexing_error will raise\u001b[0m\u001b[0;34m\u001b[0m\u001b[0;34m\u001b[0m\u001b[0m\n",
            "\u001b[0;31mKeyError\u001b[0m: 'text'"
          ]
        }
      ]
    },
    {
      "cell_type": "code",
      "source": [
        "test_dataset = Dataset.from_dict({'text': df_test['Query']})\n",
        "tokenized_test = test_dataset.map(tokenize_function, batched=True)\n",
        "tokenized_test.set_format('torch', columns=['input_ids', 'attention_mask'])\n",
        "\n",
        "predictions = trainer.predict(tokenized_test)\n",
        "preds = np.argmax(predictions.predictions, axis=1)\n",
        "df_test['CategoryID'] = preds\n",
        "\n",
        "submission = df_test[['ID', 'CategoryID']]\n",
        "submission.to_csv('submission.csv', index=False)"
      ],
      "metadata": {
        "colab": {
          "base_uri": "https://localhost:8080/",
          "height": 49,
          "referenced_widgets": [
            "4e27088857b141bc81835d6a4a3f01ac",
            "9f49718f3cf44192a549b2e5524e2560",
            "623017aa9872451b9966ecec1f2be28e",
            "b2420f13ea0a461499ab83977d2b3f8a",
            "b18b3b5131124f72ba24874b56ae2cb3",
            "9d6b8db078f24bb1b6bdb73beeded3f5",
            "e0a2b34ced2545ccaa6ae54d41c3ff45",
            "02dbe08f165c45b09e3c316b4f0e8ac3",
            "b9820f3f5c304f67bddf984c7667d808",
            "990cb1cd9be74c5fbef684535ae4905c",
            "7b64ccaa57974bd5b49a02902cd77d58"
          ]
        },
        "id": "UEWC1YSpAN0v",
        "outputId": "7f07c5ec-59db-4696-fe72-536f35c0fad9"
      },
      "execution_count": null,
      "outputs": [
        {
          "output_type": "display_data",
          "data": {
            "text/plain": [
              "Map:   0%|          | 0/3899 [00:00<?, ? examples/s]"
            ],
            "application/vnd.jupyter.widget-view+json": {
              "version_major": 2,
              "version_minor": 0,
              "model_id": "4e27088857b141bc81835d6a4a3f01ac"
            }
          },
          "metadata": {}
        },
        {
          "output_type": "display_data",
          "data": {
            "text/plain": [
              "<IPython.core.display.HTML object>"
            ],
            "text/html": []
          },
          "metadata": {}
        }
      ]
    },
    {
      "cell_type": "code",
      "source": [
        "sub = pd.read_csv('submission.csv')"
      ],
      "metadata": {
        "id": "rTXHJuALAe3W"
      },
      "execution_count": null,
      "outputs": []
    },
    {
      "cell_type": "code",
      "source": [
        "sub.tail()"
      ],
      "metadata": {
        "colab": {
          "base_uri": "https://localhost:8080/",
          "height": 204
        },
        "id": "4RPRPi4CAjyN",
        "outputId": "f138bd02-3be7-41a9-92a1-97e18682f2fe"
      },
      "execution_count": null,
      "outputs": [
        {
          "output_type": "execute_result",
          "data": {
            "text/plain": [
              "         ID  CategoryID\n",
              "3894  15452           5\n",
              "3895  15453          24\n",
              "3896  15454          22\n",
              "3897  15455          10\n",
              "3898  15456          25"
            ],
            "text/html": [
              "\n",
              "  <div id=\"df-38d98f15-01bb-4ff8-af1f-d56f0ebfcab8\" class=\"colab-df-container\">\n",
              "    <div>\n",
              "<style scoped>\n",
              "    .dataframe tbody tr th:only-of-type {\n",
              "        vertical-align: middle;\n",
              "    }\n",
              "\n",
              "    .dataframe tbody tr th {\n",
              "        vertical-align: top;\n",
              "    }\n",
              "\n",
              "    .dataframe thead th {\n",
              "        text-align: right;\n",
              "    }\n",
              "</style>\n",
              "<table border=\"1\" class=\"dataframe\">\n",
              "  <thead>\n",
              "    <tr style=\"text-align: right;\">\n",
              "      <th></th>\n",
              "      <th>ID</th>\n",
              "      <th>CategoryID</th>\n",
              "    </tr>\n",
              "  </thead>\n",
              "  <tbody>\n",
              "    <tr>\n",
              "      <th>3894</th>\n",
              "      <td>15452</td>\n",
              "      <td>5</td>\n",
              "    </tr>\n",
              "    <tr>\n",
              "      <th>3895</th>\n",
              "      <td>15453</td>\n",
              "      <td>24</td>\n",
              "    </tr>\n",
              "    <tr>\n",
              "      <th>3896</th>\n",
              "      <td>15454</td>\n",
              "      <td>22</td>\n",
              "    </tr>\n",
              "    <tr>\n",
              "      <th>3897</th>\n",
              "      <td>15455</td>\n",
              "      <td>10</td>\n",
              "    </tr>\n",
              "    <tr>\n",
              "      <th>3898</th>\n",
              "      <td>15456</td>\n",
              "      <td>25</td>\n",
              "    </tr>\n",
              "  </tbody>\n",
              "</table>\n",
              "</div>\n",
              "    <div class=\"colab-df-buttons\">\n",
              "      \n",
              "  <div class=\"colab-df-container\">\n",
              "    <button class=\"colab-df-convert\" onclick=\"convertToInteractive('df-38d98f15-01bb-4ff8-af1f-d56f0ebfcab8')\"\n",
              "            title=\"Convert this dataframe to an interactive table.\"\n",
              "            style=\"display:none;\">\n",
              "      \n",
              "  <svg xmlns=\"http://www.w3.org/2000/svg\" height=\"24px\" viewBox=\"0 -960 960 960\">\n",
              "    <path d=\"M120-120v-720h720v720H120Zm60-500h600v-160H180v160Zm220 220h160v-160H400v160Zm0 220h160v-160H400v160ZM180-400h160v-160H180v160Zm440 0h160v-160H620v160ZM180-180h160v-160H180v160Zm440 0h160v-160H620v160Z\"/>\n",
              "  </svg>\n",
              "    </button>\n",
              "    \n",
              "  <style>\n",
              "    .colab-df-container {\n",
              "      display:flex;\n",
              "      gap: 12px;\n",
              "    }\n",
              "\n",
              "    .colab-df-convert {\n",
              "      background-color: #E8F0FE;\n",
              "      border: none;\n",
              "      border-radius: 50%;\n",
              "      cursor: pointer;\n",
              "      display: none;\n",
              "      fill: #1967D2;\n",
              "      height: 32px;\n",
              "      padding: 0 0 0 0;\n",
              "      width: 32px;\n",
              "    }\n",
              "\n",
              "    .colab-df-convert:hover {\n",
              "      background-color: #E2EBFA;\n",
              "      box-shadow: 0px 1px 2px rgba(60, 64, 67, 0.3), 0px 1px 3px 1px rgba(60, 64, 67, 0.15);\n",
              "      fill: #174EA6;\n",
              "    }\n",
              "\n",
              "    .colab-df-buttons div {\n",
              "      margin-bottom: 4px;\n",
              "    }\n",
              "\n",
              "    [theme=dark] .colab-df-convert {\n",
              "      background-color: #3B4455;\n",
              "      fill: #D2E3FC;\n",
              "    }\n",
              "\n",
              "    [theme=dark] .colab-df-convert:hover {\n",
              "      background-color: #434B5C;\n",
              "      box-shadow: 0px 1px 3px 1px rgba(0, 0, 0, 0.15);\n",
              "      filter: drop-shadow(0px 1px 2px rgba(0, 0, 0, 0.3));\n",
              "      fill: #FFFFFF;\n",
              "    }\n",
              "  </style>\n",
              "\n",
              "    <script>\n",
              "      const buttonEl =\n",
              "        document.querySelector('#df-38d98f15-01bb-4ff8-af1f-d56f0ebfcab8 button.colab-df-convert');\n",
              "      buttonEl.style.display =\n",
              "        google.colab.kernel.accessAllowed ? 'block' : 'none';\n",
              "\n",
              "      async function convertToInteractive(key) {\n",
              "        const element = document.querySelector('#df-38d98f15-01bb-4ff8-af1f-d56f0ebfcab8');\n",
              "        const dataTable =\n",
              "          await google.colab.kernel.invokeFunction('convertToInteractive',\n",
              "                                                    [key], {});\n",
              "        if (!dataTable) return;\n",
              "\n",
              "        const docLinkHtml = 'Like what you see? Visit the ' +\n",
              "          '<a target=\"_blank\" href=https://colab.research.google.com/notebooks/data_table.ipynb>data table notebook</a>'\n",
              "          + ' to learn more about interactive tables.';\n",
              "        element.innerHTML = '';\n",
              "        dataTable['output_type'] = 'display_data';\n",
              "        await google.colab.output.renderOutput(dataTable, element);\n",
              "        const docLink = document.createElement('div');\n",
              "        docLink.innerHTML = docLinkHtml;\n",
              "        element.appendChild(docLink);\n",
              "      }\n",
              "    </script>\n",
              "  </div>\n",
              "  \n",
              "    </div>\n",
              "  </div>\n",
              "  "
            ]
          },
          "metadata": {},
          "execution_count": 13
        }
      ]
    },
    {
      "cell_type": "markdown",
      "source": [
        "## Fine-Tuning XLM-RoBERTa-large"
      ],
      "metadata": {
        "id": "GkbELYFi6s5w"
      }
    },
    {
      "cell_type": "markdown",
      "source": [
        "### Preprocessing"
      ],
      "metadata": {
        "id": "uwWCT9GX8-7J"
      }
    },
    {
      "cell_type": "code",
      "source": [
        "# ! pip install nltk ruslingua wiki-ru-wordnet"
      ],
      "metadata": {
        "id": "u5wODEPboV-V"
      },
      "execution_count": null,
      "outputs": []
    },
    {
      "cell_type": "code",
      "source": [
        "import pandas as pd\n",
        "import numpy as np\n",
        "import torch\n",
        "import torch.nn as nn\n",
        "import torch.nn.functional as F\n",
        "from sklearn.preprocessing import LabelEncoder\n",
        "from sklearn.model_selection import StratifiedKFold\n",
        "from sklearn.metrics import f1_score\n",
        "from transformers import (\n",
        "    XLMRobertaTokenizer,\n",
        "    XLMRobertaForSequenceClassification,\n",
        "    TrainingArguments,\n",
        "    Trainer,\n",
        "    EarlyStoppingCallback\n",
        ")\n",
        "from datasets import Dataset, concatenate_datasets\n",
        "from peft import LoraConfig, get_peft_model, TaskType\n",
        "import re\n",
        "import gc\n",
        "from tqdm.notebook import tqdm"
      ],
      "metadata": {
        "id": "q878E8lkme3v"
      },
      "execution_count": null,
      "outputs": []
    },
    {
      "cell_type": "code",
      "source": [
        "CONFIG = {\n",
        "    \"model_name\": \"xlm-roberta-large\",\n",
        "    \"num_labels\": 67,\n",
        "    \"max_length\": 128,\n",
        "    \"test_size_for_quick_run\": None,\n",
        "    \"random_state\": 42,\n",
        "    \"val_split_size\": 0.1,\n",
        "    \"train_batch_size\": 16,\n",
        "    \"eval_batch_size\": 32,\n",
        "    \"gradient_accumulation_steps\": 2,\n",
        "    \"epochs\": 10,\n",
        "    \"learning_rate\": 1e-5,\n",
        "    \"lora_r\": 16,\n",
        "    \"lora_alpha\": 32,\n",
        "    \"lora_dropout\": 0.05,\n",
        "    \"focal_loss_gamma\": 2.0,\n",
        "    \"weight_decay\": 0.01,\n",
        "    \"warmup_ratio\": 0.1,\n",
        "    \"logging_steps\": 50,\n",
        "    \"fp16\": True,\n",
        "    \"output_dir\": \"./results_advanced\",\n",
        "    \"early_stopping_patience\": 3,\n",
        "    \"apply_lora\": False,\n",
        "}\n"
      ],
      "metadata": {
        "id": "i1TJPsxDmz2Z"
      },
      "execution_count": 18,
      "outputs": []
    },
    {
      "cell_type": "code",
      "source": [
        "np.random.seed(CONFIG[\"random_state\"])\n",
        "torch.manual_seed(CONFIG[\"random_state\"])\n",
        "if torch.cuda.is_available():\n",
        "    torch.cuda.manual_seed_all(CONFIG[\"random_state\"])\n",
        "\n",
        "df_train = pd.read_csv('train.csv')\n",
        "df_test = pd.read_csv('test.csv')\n",
        "df_sample_subm = pd.read_csv('sample_submission.csv')\n",
        "\n",
        "def preprocess_text(text):\n",
        "    text = str(text).lower()\n",
        "    text = re.sub(r'[^a-zа-я0-9ё\\s-]', '', text)\n",
        "    text = re.sub(r'\\s+', ' ', text).strip()\n",
        "    return text\n",
        "\n",
        "print(\"Applying text preprocessing...\")\n",
        "df_train['Query_processed'] = df_train['Query'].apply(preprocess_text)\n",
        "df_test['Query_processed'] = df_test['Query'].apply(preprocess_text)\n",
        "\n",
        "\n",
        "print(\"Loading tokenizer...\")\n",
        "tokenizer = XLMRobertaTokenizer.from_pretrained(CONFIG[\"model_name\"])"
      ],
      "metadata": {
        "colab": {
          "base_uri": "https://localhost:8080/"
        },
        "id": "VVj79HHlm3PW",
        "outputId": "69e59580-05e8-4b42-ae53-a487fb886770"
      },
      "execution_count": null,
      "outputs": [
        {
          "output_type": "stream",
          "name": "stdout",
          "text": [
            "Applying text preprocessing...\n",
            "Loading tokenizer...\n"
          ]
        },
        {
          "output_type": "stream",
          "name": "stderr",
          "text": [
            "/usr/local/lib/python3.11/dist-packages/huggingface_hub/utils/_auth.py:94: UserWarning: \n",
            "The secret `HF_TOKEN` does not exist in your Colab secrets.\n",
            "To authenticate with the Hugging Face Hub, create a token in your settings tab (https://huggingface.co/settings/tokens), set it as secret in your Google Colab and restart your session.\n",
            "You will be able to reuse this secret in all of your notebooks.\n",
            "Please note that authentication is recommended but still optional to access public models or datasets.\n",
            "  warnings.warn(\n"
          ]
        }
      ]
    },
    {
      "cell_type": "code",
      "source": [
        "def tokenize_function(examples):\n",
        "    return tokenizer(\n",
        "        examples['text'],\n",
        "        padding='max_length',\n",
        "        truncation=True,\n",
        "        max_length=CONFIG[\"max_length\"]\n",
        "    )\n",
        "\n",
        "class FocalLoss(nn.Module):\n",
        "    def __init__(self, alpha=None, gamma=2.0, reduction='mean'):\n",
        "        super(FocalLoss, self).__init__()\n",
        "        self.alpha = alpha\n",
        "        self.gamma = gamma\n",
        "        self.reduction = reduction\n",
        "\n",
        "    def forward(self, inputs, targets):\n",
        "        alpha = self.alpha.to(inputs.device) if self.alpha is not None else None\n",
        "        ce_loss = F.cross_entropy(inputs, targets, reduction='none', weight=alpha)\n",
        "        pt = torch.exp(-ce_loss)\n",
        "        f_loss = (1 - pt)**self.gamma * ce_loss\n",
        "\n",
        "        if self.reduction == 'mean':\n",
        "            return torch.mean(f_loss)\n",
        "        elif self.reduction == 'sum':\n",
        "            return torch.sum(f_loss)\n",
        "        else:\n",
        "            return f_loss\n",
        "\n",
        "def compute_metrics(pred):\n",
        "    labels = pred.label_ids\n",
        "    preds = pred.predictions.argmax(-1)\n",
        "    macro_f1 = f1_score(labels, preds, average='macro', zero_division=0)\n",
        "    return {'f1_macro': macro_f1}"
      ],
      "metadata": {
        "id": "0tWyY6n3w3nN"
      },
      "execution_count": null,
      "outputs": []
    },
    {
      "cell_type": "code",
      "source": [
        "class CustomFocalLossTrainer(Trainer):\n",
        "    def __init__(self, *args, class_weights=None, gamma=2.0, **kwargs):\n",
        "        self.class_weights = class_weights\n",
        "        self.gamma = gamma\n",
        "        super().__init__(*args, **kwargs)\n",
        "\n",
        "    def compute_loss(self, model, inputs, return_outputs=False, num_items_in_batch=None):\n",
        "        labels = inputs.pop(\"labels\")\n",
        "        outputs = model(**inputs)\n",
        "        logits = outputs.logits\n",
        "\n",
        "        if self.class_weights is not None:\n",
        "            weights = self.class_weights.to(logits.device)\n",
        "            loss_fct = nn.CrossEntropyLoss(weight=weights)\n",
        "        else:\n",
        "            loss_fct = nn.CrossEntropyLoss()\n",
        "\n",
        "        loss_fct = FocalLoss(alpha=self.class_weights, gamma=self.gamma, reduction='mean')\n",
        "        loss = loss_fct(\n",
        "            logits.view(-1, model.config.num_labels),\n",
        "            labels.view(-1)\n",
        "        )\n",
        "\n",
        "        return (loss, outputs) if return_outputs else loss"
      ],
      "metadata": {
        "id": "5kfaf4uU25gL"
      },
      "execution_count": null,
      "outputs": []
    },
    {
      "cell_type": "markdown",
      "source": [
        "### Augmentations"
      ],
      "metadata": {
        "id": "3PNWt_c28I_g"
      }
    },
    {
      "cell_type": "code",
      "source": [
        "import random\n",
        "import re\n",
        "import nltk\n",
        "from nltk.corpus import wordnet as wn\n",
        "from nltk.tokenize import word_tokenize\n",
        "from ruslingua import RusLingua\n",
        "\n",
        "nltk.download('punkt')\n",
        "nltk.download('wordnet')\n",
        "nltk.download('omw-1.4')\n",
        "ruslingua = RusLingua()\n",
        "\n",
        "def is_cyrillic(token: str) -> bool:\n",
        "    return bool(re.search(r'[а-яё]', token, re.IGNORECASE))\n",
        "\n",
        "def get_synonyms_en(word: str) -> list[str]:\n",
        "    synsets = wn.synsets(word, lang='eng')\n",
        "    lemmas = {l.name().replace('_', ' ') for s in synsets for l in s.lemmas()}\n",
        "    lemmas.discard(word)\n",
        "    return list(lemmas)\n",
        "\n",
        "def get_synonyms_ru(word: str) -> list[str]:\n",
        "    try:\n",
        "        return ruslingua.get_synonyms(word)\n",
        "    except:\n",
        "        return []\n",
        "\n",
        "def get_synonyms(word: str) -> list[str]:\n",
        "    return get_synonyms_ru(word) if is_cyrillic(word) else get_synonyms_en(word)\n",
        "\n",
        "def synonym_replacement(words: list[str], n: int) -> list[str]:\n",
        "    new = words.copy()\n",
        "    idxs = [i for i,w in enumerate(words) if get_synonyms(w)]\n",
        "    if not idxs:\n",
        "        return new\n",
        "    for i in random.sample(idxs, min(n, len(idxs))):\n",
        "        syns = get_synonyms(words[i])\n",
        "        new[i] = random.choice(syns) if syns else new[i]\n",
        "    return new\n",
        "\n",
        "def random_insertion(words: list[str], n: int) -> list[str]:\n",
        "    new = words.copy()\n",
        "    for _ in range(min(n, len(words))):\n",
        "        w = random.choice(words)\n",
        "        syns = get_synonyms(w)\n",
        "        if syns:\n",
        "            idx = random.randint(0, len(new))\n",
        "            new.insert(idx, random.choice(syns))\n",
        "    return new\n",
        "\n",
        "def random_swap(words: list[str], n: int) -> list[str]:\n",
        "    new = words.copy()\n",
        "    length = len(new)\n",
        "    max_swaps = length // 2\n",
        "    swaps = min(n, max_swaps)\n",
        "    for _ in range(swaps):\n",
        "        i, j = random.sample(range(length), 2)\n",
        "        new[i], new[j] = new[j], new[i]\n",
        "    return new\n",
        "\n",
        "def random_deletion(words: list[str], p: float) -> list[str]:\n",
        "    if len(words) == 1:\n",
        "        return words\n",
        "    new = [w for w in words if random.random() > p]\n",
        "    return new or [random.choice(words)]\n",
        "\n",
        "def eda_augment(\n",
        "    text: str,\n",
        "    alpha_sr=0.1, alpha_ri=0.1,\n",
        "    alpha_rs=0.1, p_rd=0.1\n",
        ") -> str:\n",
        "    tokens = word_tokenize(text)\n",
        "    n = len(tokens)\n",
        "    if n == 0:\n",
        "        return text\n",
        "\n",
        "    n_sr = max(1, int(alpha_sr * n))\n",
        "    n_ri = max(1, int(alpha_ri * n))\n",
        "    n_rs = max(1, int(alpha_rs * n))\n",
        "\n",
        "    ops = []\n",
        "    ops.append(lambda ws: synonym_replacement(ws, n_sr))\n",
        "    if n >= 1:\n",
        "        ops.append(lambda ws: random_insertion(ws, n_ri))\n",
        "    if n >= 2:\n",
        "        ops.append(lambda ws: random_swap(ws, n_rs))\n",
        "        ops.append(lambda ws: random_deletion(ws, p_rd))\n",
        "\n",
        "    aug_tokens = random.choice(ops)(tokens)\n",
        "    return ' '.join(aug_tokens)\n",
        "\n",
        "def generate_augmented_examples(\n",
        "    texts: list[str],\n",
        "    num_per_example: int = 5\n",
        ") -> dict[str, list[str]]:\n",
        "    aug_dict = {}\n",
        "    for text in tqdm(texts):\n",
        "        clean = re.sub(r'[^\\w\\s-]', '', text.lower()).strip()\n",
        "        aug_list = []\n",
        "        for _ in range(num_per_example):\n",
        "            aug_list.append(eda_augment(clean))\n",
        "        aug_dict[text] = aug_list\n",
        "    return aug_dict"
      ],
      "metadata": {
        "colab": {
          "base_uri": "https://localhost:8080/"
        },
        "id": "q4BK4pYQnUvG",
        "outputId": "fad2e1f8-3b3c-427c-cda8-8e69a3932a00"
      },
      "execution_count": null,
      "outputs": [
        {
          "output_type": "stream",
          "name": "stderr",
          "text": [
            "[nltk_data] Downloading package punkt to /root/nltk_data...\n",
            "[nltk_data]   Package punkt is already up-to-date!\n",
            "[nltk_data] Downloading package wordnet to /root/nltk_data...\n",
            "[nltk_data]   Package wordnet is already up-to-date!\n",
            "[nltk_data] Downloading package omw-1.4 to /root/nltk_data...\n",
            "[nltk_data]   Package omw-1.4 is already up-to-date!\n"
          ]
        }
      ]
    },
    {
      "cell_type": "code",
      "source": [
        "import numpy as np\n",
        "import torch\n",
        "from sklearn.model_selection import train_test_split\n",
        "\n",
        "print(\"Splitting data into training and validation sets...\")\n",
        "X = df_train['Query_processed'].tolist()\n",
        "y = df_train['CategoryID'].tolist()\n",
        "\n",
        "X_train, X_val, y_train, y_val = train_test_split(\n",
        "    X, y,\n",
        "    test_size=CONFIG[\"val_split_size\"],\n",
        "    random_state=CONFIG[\"random_state\"],\n",
        "    stratify=y\n",
        ")\n",
        "print(f\"Training set size: {len(X_train)}\")\n",
        "print(f\"Validation set size: {len(X_val)}\")"
      ],
      "metadata": {
        "colab": {
          "base_uri": "https://localhost:8080/"
        },
        "id": "riQLqJv4po_N",
        "outputId": "c75d4597-a0ef-4306-c194-a9f1387b8bad"
      },
      "execution_count": null,
      "outputs": [
        {
          "output_type": "stream",
          "name": "stdout",
          "text": [
            "Splitting data into training and validation sets...\n",
            "Training set size: 10402\n",
            "Validation set size: 1156\n"
          ]
        }
      ]
    },
    {
      "cell_type": "code",
      "source": [
        "from collections import Counter\n",
        "\n",
        "counter = Counter(y_train)\n",
        "MIN_SUPPORT = CONFIG.get(\"min_support_for_augmentation\", 40)\n",
        "small_classes = {cat for cat, cnt in counter.items() if cnt < MIN_SUPPORT}\n",
        "\n",
        "small_texts = [text for text, cat in zip(X_train, y_train) if cat in small_classes]\n",
        "\n",
        "augmented = generate_augmented_examples(small_texts, num_per_example=3)\n",
        "\n",
        "for orig_text, aug_texts in augmented.items():\n",
        "    label = df_train.loc[df_train['Query_processed'] == orig_text, 'CategoryID'].iloc[0]\n",
        "    for txt in aug_texts:\n",
        "        X_train.append(txt)\n",
        "        y_train.append(label)\n",
        "\n",
        "print(f\"Augmented training set size: {len(X_train)}\")"
      ],
      "metadata": {
        "colab": {
          "base_uri": "https://localhost:8080/",
          "height": 66,
          "referenced_widgets": [
            "eb575ee5bbc04735be2c2575538ce58d",
            "9ade73f96e974f728ae770a881fe49d5",
            "469fb810a7d64d64abcc50f2cdd0e13d",
            "786bf952f73c4ee2b1572f86d688752e",
            "2acbe088ad234f05b5e2d702c0c1dd83",
            "76f9f981c0b04da1b950e93956ee4d00",
            "d654c735121d4c8aaa50ea6de36ca133",
            "1b9a486ea4454d5fa3ced9c312ca971c",
            "d0a30e6e4f5a4eac8aeceb30c3eb26f7",
            "6816270d5f834b8eb47ecb5fb4e260df",
            "fc452e0f869a4f48ba9db05f42b2c0c7"
          ]
        },
        "id": "S9V8niF8pTIi",
        "outputId": "bfb1dd8e-6d42-4441-9f75-97f7d5a27809"
      },
      "execution_count": null,
      "outputs": [
        {
          "output_type": "display_data",
          "data": {
            "text/plain": [
              "  0%|          | 0/398 [00:00<?, ?it/s]"
            ],
            "application/vnd.jupyter.widget-view+json": {
              "version_major": 2,
              "version_minor": 0,
              "model_id": "eb575ee5bbc04735be2c2575538ce58d"
            }
          },
          "metadata": {}
        },
        {
          "output_type": "stream",
          "name": "stdout",
          "text": [
            "Augmented training set size: 11593\n"
          ]
        }
      ]
    },
    {
      "cell_type": "code",
      "source": [
        "df_augmented = pd.DataFrame({'Query': X_train, 'CategoryID': y_train})\n",
        "df_augmented.to_csv(\"augmented_train.csv\", index=False)"
      ],
      "metadata": {
        "id": "_TD-r416rkDi"
      },
      "execution_count": 12,
      "outputs": []
    },
    {
      "cell_type": "code",
      "source": [
        "train_dataset = Dataset.from_dict({'text': X_train, 'label': y_train})\n",
        "val_dataset = Dataset.from_dict({'text': X_val, 'label': y_val})\n",
        "test_dataset_hf = Dataset.from_dict({'text': df_test['Query_processed'].tolist()})"
      ],
      "metadata": {
        "id": "9lod65R9685x"
      },
      "execution_count": 15,
      "outputs": []
    },
    {
      "cell_type": "code",
      "source": [
        "tokenized_train = train_dataset.map(tokenize_function, batched=True)\n",
        "tokenized_val = val_dataset.map(tokenize_function, batched=True)\n",
        "tokenized_test = test_dataset_hf.map(tokenize_function, batched=True)\n",
        "\n",
        "tokenized_train.set_format('torch', columns=['input_ids', 'attention_mask', 'label'])\n",
        "tokenized_val.set_format('torch', columns=['input_ids', 'attention_mask', 'label'])\n",
        "tokenized_test.set_format('torch', columns=['input_ids', 'attention_mask'])"
      ],
      "metadata": {
        "colab": {
          "base_uri": "https://localhost:8080/",
          "height": 113,
          "referenced_widgets": [
            "0b09a048ff334566a8c4daeb81a8d9c6",
            "bf1f663579b64e93ba542173017019c7",
            "985272faa8ac408bb185433d23127a95",
            "5bcd4d5e39cd4bb1aec0e6b40107b97f",
            "65bee549fb55401e9243fe148169f765",
            "a52fa738c84b48a2b347014a203679b4",
            "402a74e6bcdf4257bfc5d39f075d07e9",
            "1d0f3e54090d45baa7560004036eed68",
            "761f2ced64ee4000b51b2dc8d59fa589",
            "9135b0736bb2443799f94ba8db5f8e16",
            "a9ba3eb3ac1b484db2930308f73b7d63",
            "bed0ef8e17694286bf7c64dc5088476f",
            "24b66057ae094131bb4bf63a6af902e5",
            "4b52592772d143acaeb38b8f321c7360",
            "03c7b4faf02f4d68952aa48bcc0d171f",
            "3b325528ef1442ef84119ab7a7b43bcd",
            "a06719b40a14499daba751cd41787ad3",
            "7121e3834aa24afca8039d789286eb56",
            "f4b6582b682f45fd9199b7aa45016ce4",
            "59b1a4c141374729b0d0095a90b8d8e9",
            "0829dc981d2d4423a21ae6e46b194d4a",
            "0ec955aa631d4bb6a5311e8fc54aea17",
            "462517b5c288448384bf13642bfb27eb",
            "53cd8778d32c414ba8784a3139bd2fd9",
            "de0ef39134ce485ea6f6f74840e70d83",
            "437d953504df442db2aec20d92cc430c",
            "96d1e77e7031408cb5dbc4c12b526d7c",
            "074ad4d23070412ca84cb7e872d5afba",
            "b7a10c3359ed4788afdedb0e45abf9e5",
            "a4c24a9105014b629069f1d04e24da9f",
            "53f5a243727a48de8f9308dcb0726ab8",
            "a006dac5aacc443898f3cb3eb5c7e18a",
            "05f2dcb1a21a4e1eae6ecfaf7126ae74"
          ]
        },
        "id": "xIauRjaY6-ur",
        "outputId": "b1a01dfb-353c-4cc4-83bf-e5ce55a6e2d3"
      },
      "execution_count": 16,
      "outputs": [
        {
          "output_type": "display_data",
          "data": {
            "text/plain": [
              "Map:   0%|          | 0/11593 [00:00<?, ? examples/s]"
            ],
            "application/vnd.jupyter.widget-view+json": {
              "version_major": 2,
              "version_minor": 0,
              "model_id": "0b09a048ff334566a8c4daeb81a8d9c6"
            }
          },
          "metadata": {}
        },
        {
          "output_type": "display_data",
          "data": {
            "text/plain": [
              "Map:   0%|          | 0/1156 [00:00<?, ? examples/s]"
            ],
            "application/vnd.jupyter.widget-view+json": {
              "version_major": 2,
              "version_minor": 0,
              "model_id": "bed0ef8e17694286bf7c64dc5088476f"
            }
          },
          "metadata": {}
        },
        {
          "output_type": "display_data",
          "data": {
            "text/plain": [
              "Map:   0%|          | 0/3899 [00:00<?, ? examples/s]"
            ],
            "application/vnd.jupyter.widget-view+json": {
              "version_major": 2,
              "version_minor": 0,
              "model_id": "462517b5c288448384bf13642bfb27eb"
            }
          },
          "metadata": {}
        }
      ]
    },
    {
      "cell_type": "code",
      "source": [
        "class_counts = pd.Series(y_train).value_counts().sort_index()\n",
        "full_class_counts = pd.Series(0, index=range(CONFIG[\"num_labels\"])) # Ensure all classes are represented\n",
        "full_class_counts.update(class_counts)"
      ],
      "metadata": {
        "id": "ph-tAyz67Bt0"
      },
      "execution_count": 20,
      "outputs": []
    },
    {
      "cell_type": "code",
      "source": [
        "num_train_samples = len(y_train)\n",
        "class_weights_values = num_train_samples / (CONFIG[\"num_labels\"] * full_class_counts + 1e-9)\n",
        "\n",
        "class_weights = torch.tensor(class_weights_values.values, dtype=torch.float)\n",
        "weights = torch.log1p(class_weights)\n",
        "class_weights = weights / weights.sum() * len(weights)\n",
        "print(f\"Class weights: {class_weights}\")"
      ],
      "metadata": {
        "colab": {
          "base_uri": "https://localhost:8080/"
        },
        "id": "f7xFw6o-7Ekq",
        "outputId": "93d04d0a-3a0b-47c3-f14f-ceb767139589"
      },
      "execution_count": 21,
      "outputs": [
        {
          "output_type": "stream",
          "name": "stdout",
          "text": [
            "Class weights: tensor([ 0.4199,  0.6847,  0.3379,  0.0878,  0.0936,  0.2216,  0.3400,  0.1038,\n",
            "         0.4215,  0.8146,  0.1606,  0.5763,  0.4852,  0.3654,  0.1476,  0.8662,\n",
            "         0.3411,  0.6579,  0.6665,  0.5795,  0.1249,  0.4149,  0.8287,  0.8584,\n",
            "         0.9646,  0.2460,  0.2979,  0.9963,  0.6800,  0.4102,  0.7519,  0.8823,\n",
            "         0.6755,  0.5293,  0.5431,  0.7089,  0.5577,  0.5293,  0.7696,  0.6579,\n",
            "         0.5668,  0.7406,  0.9855,  0.9353,  1.0678,  0.8823,  0.8432,  1.5764,\n",
            "         0.7882,  0.8507,  0.9079,  0.8359,  1.2585,  0.5240,  1.1858,  0.9855,\n",
            "         0.9353,  1.1858,  0.9353,  1.0678,  0.6755,  1.4473, 19.2041,  0.7819,\n",
            "         1.7464,  1.5411,  1.7464])\n"
          ]
        }
      ]
    },
    {
      "cell_type": "markdown",
      "source": [
        "### XLM-RoBERTa-large"
      ],
      "metadata": {
        "id": "MdIbnEaO8CJq"
      }
    },
    {
      "cell_type": "code",
      "source": [
        "model = XLMRobertaForSequenceClassification.from_pretrained(\n",
        "    CONFIG[\"model_name\"],\n",
        "    num_labels=CONFIG[\"num_labels\"],\n",
        ")"
      ],
      "metadata": {
        "colab": {
          "base_uri": "https://localhost:8080/",
          "height": 137,
          "referenced_widgets": [
            "4c5c5dbe3a9346bf86e29a9654d1fb6e",
            "7553dee9bacb4ed08185394b683762e7",
            "ee63f5a9f968456eb66cd8432709c26b",
            "0e52ef47a4e544329aed13d4fb801436",
            "2dfbedbae3ae46508b64bb0d9e4f04b0",
            "d8b55f2c84e54b59b7b369826acdfb11",
            "3f238381765d4be59ba58c21405adbee",
            "0a6ad705ed9d4d5cb15fe35915fa1a3c",
            "4282db8326e949dda0a28d0622e316cb",
            "6709b1836bb340e7b2b06e2aa1689066",
            "3f6cd2cbe54b4e77aa406e0e3518306d"
          ]
        },
        "id": "NjCloUYr7G5G",
        "outputId": "03c57251-8c62-4d90-d9ca-8a5cbc702306"
      },
      "execution_count": 22,
      "outputs": [
        {
          "output_type": "stream",
          "name": "stderr",
          "text": [
            "Xet Storage is enabled for this repo, but the 'hf_xet' package is not installed. Falling back to regular HTTP download. For better performance, install the package with: `pip install huggingface_hub[hf_xet]` or `pip install hf_xet`\n",
            "WARNING:huggingface_hub.file_download:Xet Storage is enabled for this repo, but the 'hf_xet' package is not installed. Falling back to regular HTTP download. For better performance, install the package with: `pip install huggingface_hub[hf_xet]` or `pip install hf_xet`\n"
          ]
        },
        {
          "output_type": "display_data",
          "data": {
            "text/plain": [
              "model.safetensors:   0%|          | 0.00/2.24G [00:00<?, ?B/s]"
            ],
            "application/vnd.jupyter.widget-view+json": {
              "version_major": 2,
              "version_minor": 0,
              "model_id": "4c5c5dbe3a9346bf86e29a9654d1fb6e"
            }
          },
          "metadata": {}
        },
        {
          "output_type": "stream",
          "name": "stderr",
          "text": [
            "Some weights of XLMRobertaForSequenceClassification were not initialized from the model checkpoint at xlm-roberta-large and are newly initialized: ['classifier.dense.bias', 'classifier.dense.weight', 'classifier.out_proj.bias', 'classifier.out_proj.weight']\n",
            "You should probably TRAIN this model on a down-stream task to be able to use it for predictions and inference.\n"
          ]
        }
      ]
    },
    {
      "cell_type": "code",
      "source": [
        "if CONFIG[\"apply_lora\"]:\n",
        "    print(\"Applying LoRA...\")\n",
        "    lora_config = LoraConfig(\n",
        "        r=CONFIG[\"lora_r\"],\n",
        "        lora_alpha=CONFIG[\"lora_alpha\"],\n",
        "        target_modules=[\"query\", \"value\"],\n",
        "        lora_dropout=CONFIG[\"lora_dropout\"],\n",
        "        bias=\"none\",\n",
        "        task_type=TaskType.SEQ_CLS\n",
        "    )\n",
        "    model = get_peft_model(model, lora_config)\n",
        "    model.print_trainable_parameters()\n"
      ],
      "metadata": {
        "id": "q8fnF9DM7LSH"
      },
      "execution_count": 23,
      "outputs": []
    },
    {
      "cell_type": "code",
      "source": [
        "num_training_steps = (len(tokenized_train) // (CONFIG[\"train_batch_size\"] * CONFIG[\"gradient_accumulation_steps\"])) * CONFIG[\"epochs\"]\n",
        "\n",
        "training_args = TrainingArguments(\n",
        "    output_dir=CONFIG[\"output_dir\"],\n",
        "    num_train_epochs=CONFIG[\"epochs\"],\n",
        "    per_device_train_batch_size=CONFIG[\"train_batch_size\"],\n",
        "    per_device_eval_batch_size=CONFIG[\"eval_batch_size\"],\n",
        "    gradient_accumulation_steps=CONFIG[\"gradient_accumulation_steps\"],\n",
        "    learning_rate=CONFIG[\"learning_rate\"],\n",
        "    weight_decay=CONFIG[\"weight_decay\"],\n",
        "    warmup_ratio=CONFIG[\"warmup_ratio\"],\n",
        "    logging_dir='./logs',\n",
        "    logging_steps=CONFIG[\"logging_steps\"],\n",
        "    eval_strategy=\"epoch\",\n",
        "    save_strategy=\"epoch\",\n",
        "    save_total_limit=1,\n",
        "    load_best_model_at_end=True,\n",
        "    metric_for_best_model=\"f1_macro\",\n",
        "    greater_is_better=True,\n",
        "    fp16=CONFIG[\"fp16\"],\n",
        "    report_to=\"none\",\n",
        "    dataloader_num_workers=2,\n",
        "    seed=CONFIG[\"random_state\"],\n",
        ")"
      ],
      "metadata": {
        "id": "r9qcf5PL7PcR"
      },
      "execution_count": 24,
      "outputs": []
    },
    {
      "cell_type": "markdown",
      "source": [
        "### Without Augmentations"
      ],
      "metadata": {
        "id": "99GA5_cr7cn_"
      }
    },
    {
      "cell_type": "code",
      "source": [
        "trainer = CustomFocalLossTrainer(\n",
        "    model=model,\n",
        "    args=training_args,\n",
        "    train_dataset=tokenized_train,\n",
        "    eval_dataset=tokenized_val,\n",
        "    tokenizer=tokenizer,\n",
        "    compute_metrics=compute_metrics,\n",
        "    class_weights=class_weights,\n",
        "    gamma=CONFIG[\"focal_loss_gamma\"],\n",
        "    callbacks=[EarlyStoppingCallback(early_stopping_patience=CONFIG[\"early_stopping_patience\"])]\n",
        ")\n",
        "trainer.train()"
      ],
      "metadata": {
        "colab": {
          "base_uri": "https://localhost:8080/",
          "height": 597
        },
        "id": "diqsRQTq7UoR",
        "outputId": "02459824-458d-45d0-f5fd-4381a54091b9"
      },
      "execution_count": null,
      "outputs": [
        {
          "output_type": "stream",
          "name": "stderr",
          "text": [
            "<ipython-input-47-b8df6533e877>:6: FutureWarning: `tokenizer` is deprecated and will be removed in version 5.0.0 for `CustomFocalLossTrainer.__init__`. Use `processing_class` instead.\n",
            "  super().__init__(*args, **kwargs)\n"
          ]
        },
        {
          "output_type": "display_data",
          "data": {
            "text/plain": [
              "<IPython.core.display.HTML object>"
            ],
            "text/html": [
              "\n",
              "    <div>\n",
              "      \n",
              "      <progress value='4875' max='4875' style='width:300px; height:20px; vertical-align: middle;'></progress>\n",
              "      [4875/4875 52:31, Epoch 14/15]\n",
              "    </div>\n",
              "    <table border=\"1\" class=\"dataframe\">\n",
              "  <thead>\n",
              " <tr style=\"text-align: left;\">\n",
              "      <th>Epoch</th>\n",
              "      <th>Training Loss</th>\n",
              "      <th>Validation Loss</th>\n",
              "      <th>F1 Macro</th>\n",
              "    </tr>\n",
              "  </thead>\n",
              "  <tbody>\n",
              "    <tr>\n",
              "      <td>1</td>\n",
              "      <td>0.580000</td>\n",
              "      <td>0.523561</td>\n",
              "      <td>0.150592</td>\n",
              "    </tr>\n",
              "    <tr>\n",
              "      <td>2</td>\n",
              "      <td>0.242300</td>\n",
              "      <td>0.205572</td>\n",
              "      <td>0.519699</td>\n",
              "    </tr>\n",
              "    <tr>\n",
              "      <td>3</td>\n",
              "      <td>0.147000</td>\n",
              "      <td>0.108436</td>\n",
              "      <td>0.629963</td>\n",
              "    </tr>\n",
              "    <tr>\n",
              "      <td>4</td>\n",
              "      <td>0.072100</td>\n",
              "      <td>0.076227</td>\n",
              "      <td>0.685183</td>\n",
              "    </tr>\n",
              "    <tr>\n",
              "      <td>5</td>\n",
              "      <td>0.046000</td>\n",
              "      <td>0.069114</td>\n",
              "      <td>0.720532</td>\n",
              "    </tr>\n",
              "    <tr>\n",
              "      <td>6</td>\n",
              "      <td>0.032800</td>\n",
              "      <td>0.060050</td>\n",
              "      <td>0.769868</td>\n",
              "    </tr>\n",
              "    <tr>\n",
              "      <td>7</td>\n",
              "      <td>0.016800</td>\n",
              "      <td>0.057011</td>\n",
              "      <td>0.788166</td>\n",
              "    </tr>\n",
              "    <tr>\n",
              "      <td>8</td>\n",
              "      <td>0.014600</td>\n",
              "      <td>0.059451</td>\n",
              "      <td>0.801813</td>\n",
              "    </tr>\n",
              "    <tr>\n",
              "      <td>9</td>\n",
              "      <td>0.007100</td>\n",
              "      <td>0.057574</td>\n",
              "      <td>0.820841</td>\n",
              "    </tr>\n",
              "    <tr>\n",
              "      <td>10</td>\n",
              "      <td>0.004500</td>\n",
              "      <td>0.060620</td>\n",
              "      <td>0.843606</td>\n",
              "    </tr>\n",
              "    <tr>\n",
              "      <td>11</td>\n",
              "      <td>0.006900</td>\n",
              "      <td>0.058421</td>\n",
              "      <td>0.831157</td>\n",
              "    </tr>\n",
              "    <tr>\n",
              "      <td>12</td>\n",
              "      <td>0.006200</td>\n",
              "      <td>0.061024</td>\n",
              "      <td>0.838157</td>\n",
              "    </tr>\n",
              "    <tr>\n",
              "      <td>13</td>\n",
              "      <td>0.002200</td>\n",
              "      <td>0.060498</td>\n",
              "      <td>0.849201</td>\n",
              "    </tr>\n",
              "    <tr>\n",
              "      <td>14</td>\n",
              "      <td>0.002100</td>\n",
              "      <td>0.061067</td>\n",
              "      <td>0.835939</td>\n",
              "    </tr>\n",
              "  </tbody>\n",
              "</table><p>"
            ]
          },
          "metadata": {}
        },
        {
          "output_type": "execute_result",
          "data": {
            "text/plain": [
              "TrainOutput(global_step=4875, training_loss=0.09506044032864082, metrics={'train_runtime': 3151.4196, 'train_samples_per_second': 49.511, 'train_steps_per_second': 1.547, 'total_flos': 1.02396769779456e+16, 'train_loss': 0.09506044032864082, 'epoch': 14.955453149001537})"
            ]
          },
          "metadata": {},
          "execution_count": 56
        }
      ]
    },
    {
      "cell_type": "code",
      "source": [
        "trainer = CustomFocalLossTrainer(\n",
        "    model=model,\n",
        "    args=training_args,\n",
        "    train_dataset=tokenized_train,\n",
        "    eval_dataset=tokenized_val,\n",
        "    tokenizer=tokenizer,\n",
        "    compute_metrics=compute_metrics,\n",
        "    class_weights=class_weights,\n",
        "    gamma=CONFIG[\"focal_loss_gamma\"],\n",
        "    callbacks=[EarlyStoppingCallback(early_stopping_patience=CONFIG[\"early_stopping_patience\"])]\n",
        ")\n",
        "trainer.train()"
      ],
      "metadata": {
        "colab": {
          "base_uri": "https://localhost:8080/",
          "height": 442
        },
        "id": "Rqzw3bVjOYwa",
        "outputId": "669b6d22-ee3c-462d-f250-af1fcda24dd0"
      },
      "execution_count": null,
      "outputs": [
        {
          "output_type": "stream",
          "name": "stderr",
          "text": [
            "<ipython-input-4-53d63d6e1199>:5: FutureWarning: `tokenizer` is deprecated and will be removed in version 5.0.0 for `CustomFocalLossTrainer.__init__`. Use `processing_class` instead.\n",
            "  super().__init__(*args, **kwargs)\n"
          ]
        },
        {
          "output_type": "display_data",
          "data": {
            "text/plain": [
              "<IPython.core.display.HTML object>"
            ],
            "text/html": [
              "\n",
              "    <div>\n",
              "      \n",
              "      <progress value='3096' max='5145' style='width:300px; height:20px; vertical-align: middle;'></progress>\n",
              "      [3096/5145 53:35 < 35:29, 0.96 it/s, Epoch 9/15]\n",
              "    </div>\n",
              "    <table border=\"1\" class=\"dataframe\">\n",
              "  <thead>\n",
              " <tr style=\"text-align: left;\">\n",
              "      <th>Epoch</th>\n",
              "      <th>Training Loss</th>\n",
              "      <th>Validation Loss</th>\n",
              "      <th>F1 Macro</th>\n",
              "    </tr>\n",
              "  </thead>\n",
              "  <tbody>\n",
              "    <tr>\n",
              "      <td>1</td>\n",
              "      <td>0.502900</td>\n",
              "      <td>0.311446</td>\n",
              "      <td>0.334538</td>\n",
              "    </tr>\n",
              "    <tr>\n",
              "      <td>2</td>\n",
              "      <td>0.106200</td>\n",
              "      <td>0.119605</td>\n",
              "      <td>0.657689</td>\n",
              "    </tr>\n",
              "    <tr>\n",
              "      <td>3</td>\n",
              "      <td>0.074800</td>\n",
              "      <td>0.075840</td>\n",
              "      <td>0.778961</td>\n",
              "    </tr>\n",
              "    <tr>\n",
              "      <td>4</td>\n",
              "      <td>0.051100</td>\n",
              "      <td>0.069412</td>\n",
              "      <td>0.759687</td>\n",
              "    </tr>\n",
              "    <tr>\n",
              "      <td>5</td>\n",
              "      <td>0.025400</td>\n",
              "      <td>0.059607</td>\n",
              "      <td>0.826167</td>\n",
              "    </tr>\n",
              "    <tr>\n",
              "      <td>6</td>\n",
              "      <td>0.011600</td>\n",
              "      <td>0.072444</td>\n",
              "      <td>0.835347</td>\n",
              "    </tr>\n",
              "    <tr>\n",
              "      <td>7</td>\n",
              "      <td>0.004800</td>\n",
              "      <td>0.071830</td>\n",
              "      <td>0.822881</td>\n",
              "    </tr>\n",
              "    <tr>\n",
              "      <td>8</td>\n",
              "      <td>0.004100</td>\n",
              "      <td>0.073422</td>\n",
              "      <td>0.833983</td>\n",
              "    </tr>\n",
              "    <tr>\n",
              "      <td>9</td>\n",
              "      <td>0.005500</td>\n",
              "      <td>0.069206</td>\n",
              "      <td>0.835143</td>\n",
              "    </tr>\n",
              "  </tbody>\n",
              "</table><p>"
            ]
          },
          "metadata": {}
        },
        {
          "output_type": "execute_result",
          "data": {
            "text/plain": [
              "TrainOutput(global_step=3096, training_loss=0.11098187973660247, metrics={'train_runtime': 3217.8392, 'train_samples_per_second': 51.183, 'train_steps_per_second': 1.599, 'total_flos': 2.302842075277824e+16, 'train_loss': 0.11098187973660247, 'epoch': 9.0})"
            ]
          },
          "metadata": {},
          "execution_count": 13
        }
      ]
    },
    {
      "cell_type": "code",
      "source": [
        "from sklearn.metrics import classification_report\n",
        "\n",
        "val_results = trainer.evaluate(tokenized_val)\n",
        "\n",
        "val_preds_output = trainer.predict(tokenized_val)\n",
        "val_logits = val_preds_output.predictions\n",
        "val_predictions_encoded = np.argmax(val_logits, axis=1)\n",
        "val_true_labels_encoded = val_preds_output.label_ids\n",
        "\n",
        "print(classification_report(val_true_labels_encoded, val_predictions_encoded, zero_division=0))"
      ],
      "metadata": {
        "colab": {
          "base_uri": "https://localhost:8080/",
          "height": 1000
        },
        "id": "S0987HJm7mZ9",
        "outputId": "36061f89-dfb0-40e6-daec-2695ae52dfeb"
      },
      "execution_count": null,
      "outputs": [
        {
          "output_type": "display_data",
          "data": {
            "text/plain": [
              "<IPython.core.display.HTML object>"
            ],
            "text/html": []
          },
          "metadata": {}
        },
        {
          "output_type": "stream",
          "name": "stdout",
          "text": [
            "              precision    recall  f1-score   support\n",
            "\n",
            "           0       0.83      1.00      0.91        10\n",
            "           1       0.75      0.60      0.67         5\n",
            "           2       0.75      0.86      0.80        14\n",
            "           3       1.00      0.83      0.91        65\n",
            "           4       0.88      0.97      0.92        61\n",
            "           5       1.00      1.00      1.00        23\n",
            "           6       0.93      1.00      0.97        14\n",
            "           7       1.00      0.75      0.85        55\n",
            "           8       0.67      0.80      0.73        10\n",
            "           9       0.67      1.00      0.80         4\n",
            "          10       1.00      0.94      0.97        34\n",
            "          11       1.00      0.86      0.92         7\n",
            "          12       0.67      1.00      0.80         2\n",
            "          13       1.00      0.92      0.96        12\n",
            "          14       0.84      0.86      0.85        37\n",
            "          15       1.00      1.00      1.00         3\n",
            "          16       0.92      0.86      0.89        14\n",
            "          17       1.00      1.00      1.00         1\n",
            "          18       1.00      1.00      1.00         5\n",
            "          19       1.00      1.00      1.00         2\n",
            "          20       0.95      0.91      0.93        44\n",
            "          21       1.00      1.00      1.00        11\n",
            "          22       0.67      1.00      0.80         4\n",
            "          23       1.00      1.00      1.00         3\n",
            "          24       1.00      0.33      0.50         3\n",
            "          25       0.85      0.85      0.85        20\n",
            "          26       0.94      1.00      0.97        16\n",
            "          27       0.67      0.67      0.67         3\n",
            "          28       0.83      1.00      0.91         5\n",
            "          29       1.00      0.91      0.95        11\n",
            "          30       1.00      1.00      1.00         4\n",
            "          31       0.60      1.00      0.75         3\n",
            "          32       0.62      1.00      0.77         5\n",
            "          33       1.00      0.50      0.67         2\n",
            "          34       0.67      1.00      0.80         2\n",
            "          35       0.83      1.00      0.91         5\n",
            "          36       0.67      1.00      0.80         2\n",
            "          37       1.00      0.86      0.92         7\n",
            "          38       1.00      0.75      0.86         4\n",
            "          39       1.00      1.00      1.00         1\n",
            "          40       0.88      1.00      0.93         7\n",
            "          41       1.00      1.00      1.00         4\n",
            "          42       1.00      1.00      1.00         3\n",
            "          43       0.00      0.00      0.00         1\n",
            "          44       1.00      1.00      1.00         2\n",
            "          45       0.75      1.00      0.86         3\n",
            "          46       0.80      1.00      0.89         4\n",
            "          48       1.00      1.00      1.00         4\n",
            "          49       0.60      1.00      0.75         3\n",
            "          50       0.75      1.00      0.86         3\n",
            "          51       0.00      0.00      0.00         1\n",
            "          53       1.00      1.00      1.00         2\n",
            "          55       0.40      0.67      0.50         3\n",
            "          56       1.00      1.00      1.00         1\n",
            "          58       0.00      0.00      0.00         1\n",
            "          59       0.50      1.00      0.67         1\n",
            "          60       1.00      1.00      1.00         1\n",
            "          63       1.00      1.00      1.00         1\n",
            "\n",
            "    accuracy                           0.89       578\n",
            "   macro avg       0.83      0.87      0.84       578\n",
            "weighted avg       0.91      0.89      0.89       578\n",
            "\n"
          ]
        }
      ]
    },
    {
      "cell_type": "markdown",
      "source": [
        "### With Augmentations"
      ],
      "metadata": {
        "id": "bQgGDtsY7v7M"
      }
    },
    {
      "cell_type": "code",
      "source": [
        "trainer = CustomFocalLossTrainer(\n",
        "    model=model,\n",
        "    args=training_args,\n",
        "    train_dataset=tokenized_train,\n",
        "    eval_dataset=tokenized_val,\n",
        "    tokenizer=tokenizer,\n",
        "    compute_metrics=compute_metrics,\n",
        "    class_weights=class_weights,\n",
        "    gamma=CONFIG[\"focal_loss_gamma\"],\n",
        "    callbacks=[EarlyStoppingCallback(early_stopping_patience=CONFIG[\"early_stopping_patience\"])]\n",
        ")\n",
        "trainer.train()"
      ],
      "metadata": {
        "colab": {
          "base_uri": "https://localhost:8080/",
          "height": 442
        },
        "id": "68B1o1Iru_DN",
        "outputId": "a0d17bb2-f910-4d28-c3bf-4a440129d09b"
      },
      "execution_count": 25,
      "outputs": [
        {
          "output_type": "stream",
          "name": "stderr",
          "text": [
            "<ipython-input-5-b605f3ab6f07>:5: FutureWarning: `tokenizer` is deprecated and will be removed in version 5.0.0 for `CustomFocalLossTrainer.__init__`. Use `processing_class` instead.\n",
            "  super().__init__(*args, **kwargs)\n"
          ]
        },
        {
          "output_type": "display_data",
          "data": {
            "text/plain": [
              "<IPython.core.display.HTML object>"
            ],
            "text/html": [
              "\n",
              "    <div>\n",
              "      \n",
              "      <progress value='3620' max='3620' style='width:300px; height:20px; vertical-align: middle;'></progress>\n",
              "      [3620/3620 58:48, Epoch 9/10]\n",
              "    </div>\n",
              "    <table border=\"1\" class=\"dataframe\">\n",
              "  <thead>\n",
              " <tr style=\"text-align: left;\">\n",
              "      <th>Epoch</th>\n",
              "      <th>Training Loss</th>\n",
              "      <th>Validation Loss</th>\n",
              "      <th>F1 Macro</th>\n",
              "    </tr>\n",
              "  </thead>\n",
              "  <tbody>\n",
              "    <tr>\n",
              "      <td>1</td>\n",
              "      <td>0.915300</td>\n",
              "      <td>0.586809</td>\n",
              "      <td>0.172316</td>\n",
              "    </tr>\n",
              "    <tr>\n",
              "      <td>2</td>\n",
              "      <td>0.218700</td>\n",
              "      <td>0.131614</td>\n",
              "      <td>0.589122</td>\n",
              "    </tr>\n",
              "    <tr>\n",
              "      <td>3</td>\n",
              "      <td>0.094000</td>\n",
              "      <td>0.084875</td>\n",
              "      <td>0.712879</td>\n",
              "    </tr>\n",
              "    <tr>\n",
              "      <td>4</td>\n",
              "      <td>0.048600</td>\n",
              "      <td>0.070781</td>\n",
              "      <td>0.771730</td>\n",
              "    </tr>\n",
              "    <tr>\n",
              "      <td>5</td>\n",
              "      <td>0.024600</td>\n",
              "      <td>0.066872</td>\n",
              "      <td>0.790995</td>\n",
              "    </tr>\n",
              "    <tr>\n",
              "      <td>6</td>\n",
              "      <td>0.021300</td>\n",
              "      <td>0.064268</td>\n",
              "      <td>0.836754</td>\n",
              "    </tr>\n",
              "    <tr>\n",
              "      <td>7</td>\n",
              "      <td>0.024000</td>\n",
              "      <td>0.066663</td>\n",
              "      <td>0.835884</td>\n",
              "    </tr>\n",
              "    <tr>\n",
              "      <td>8</td>\n",
              "      <td>0.011600</td>\n",
              "      <td>0.065352</td>\n",
              "      <td>0.856936</td>\n",
              "    </tr>\n",
              "    <tr>\n",
              "      <td>9</td>\n",
              "      <td>0.007900</td>\n",
              "      <td>0.066393</td>\n",
              "      <td>0.848563</td>\n",
              "    </tr>\n",
              "  </tbody>\n",
              "</table><p>"
            ]
          },
          "metadata": {}
        },
        {
          "output_type": "execute_result",
          "data": {
            "text/plain": [
              "TrainOutput(global_step=3620, training_loss=0.17595684741165757, metrics={'train_runtime': 3532.0304, 'train_samples_per_second': 32.822, 'train_steps_per_second': 1.025, 'total_flos': 2.6946421543270656e+16, 'train_loss': 0.17595684741165757, 'epoch': 9.973793103448276})"
            ]
          },
          "metadata": {},
          "execution_count": 25
        }
      ]
    },
    {
      "cell_type": "code",
      "source": [
        "from sklearn.metrics import classification_report\n",
        "\n",
        "val_results = trainer.evaluate(tokenized_val)\n",
        "\n",
        "val_preds_output = trainer.predict(tokenized_val)\n",
        "val_logits = val_preds_output.predictions\n",
        "val_predictions_encoded = np.argmax(val_logits, axis=1)\n",
        "val_true_labels_encoded = val_preds_output.label_ids\n",
        "\n",
        "print(classification_report(val_true_labels_encoded, val_predictions_encoded, zero_division=0))"
      ],
      "metadata": {
        "colab": {
          "base_uri": "https://localhost:8080/",
          "height": 1000
        },
        "id": "GA4H5sJI8ikO",
        "outputId": "bb08004e-af07-4c0b-dc23-63fdd04175b5"
      },
      "execution_count": 26,
      "outputs": [
        {
          "output_type": "display_data",
          "data": {
            "text/plain": [
              "<IPython.core.display.HTML object>"
            ],
            "text/html": []
          },
          "metadata": {}
        },
        {
          "output_type": "stream",
          "name": "stdout",
          "text": [
            "              precision    recall  f1-score   support\n",
            "\n",
            "           0       0.78      1.00      0.88        21\n",
            "           1       0.91      1.00      0.95        10\n",
            "           2       0.96      0.96      0.96        28\n",
            "           3       1.00      0.85      0.92       130\n",
            "           4       0.88      0.95      0.91       122\n",
            "           5       0.98      1.00      0.99        46\n",
            "           6       1.00      0.96      0.98        27\n",
            "           7       1.00      0.82      0.90       109\n",
            "           8       0.83      0.90      0.86        21\n",
            "           9       0.78      1.00      0.88         7\n",
            "          10       1.00      0.88      0.94        67\n",
            "          11       0.92      0.85      0.88        13\n",
            "          12       0.67      1.00      0.80         4\n",
            "          13       0.86      0.96      0.91        25\n",
            "          14       0.93      0.91      0.92        74\n",
            "          15       1.00      0.86      0.92         7\n",
            "          16       1.00      0.93      0.96        27\n",
            "          17       0.60      1.00      0.75         3\n",
            "          18       0.91      1.00      0.95        10\n",
            "          19       1.00      1.00      1.00         3\n",
            "          20       0.95      0.89      0.92        89\n",
            "          21       0.95      1.00      0.98        21\n",
            "          22       0.88      1.00      0.93         7\n",
            "          23       0.58      1.00      0.74         7\n",
            "          24       0.60      0.60      0.60         5\n",
            "          25       0.79      0.90      0.84        41\n",
            "          26       1.00      1.00      1.00        32\n",
            "          27       0.57      0.80      0.67         5\n",
            "          28       1.00      1.00      1.00        10\n",
            "          29       0.95      0.90      0.93        21\n",
            "          30       1.00      0.89      0.94         9\n",
            "          31       0.83      0.83      0.83         6\n",
            "          32       0.80      0.80      0.80        10\n",
            "          33       0.75      0.75      0.75         4\n",
            "          34       0.67      1.00      0.80         4\n",
            "          35       0.90      0.90      0.90        10\n",
            "          36       0.38      1.00      0.55         3\n",
            "          37       1.00      0.87      0.93        15\n",
            "          38       0.78      0.88      0.82         8\n",
            "          39       1.00      1.00      1.00         3\n",
            "          40       0.93      1.00      0.97        14\n",
            "          41       1.00      1.00      1.00         9\n",
            "          42       0.83      1.00      0.91         5\n",
            "          43       0.50      0.50      0.50         2\n",
            "          44       1.00      1.00      1.00         5\n",
            "          45       1.00      1.00      1.00         7\n",
            "          46       1.00      1.00      1.00         7\n",
            "          48       0.80      1.00      0.89         8\n",
            "          49       0.75      0.86      0.80         7\n",
            "          50       0.71      1.00      0.83         5\n",
            "          51       1.00      0.50      0.67         2\n",
            "          52       1.00      1.00      1.00         1\n",
            "          53       1.00      1.00      1.00         4\n",
            "          54       0.33      1.00      0.50         1\n",
            "          55       0.80      0.80      0.80         5\n",
            "          56       0.50      1.00      0.67         1\n",
            "          57       1.00      1.00      1.00         1\n",
            "          58       1.00      0.50      0.67         2\n",
            "          59       1.00      1.00      1.00         1\n",
            "          60       0.60      1.00      0.75         3\n",
            "          63       1.00      1.00      1.00         2\n",
            "          66       0.00      0.00      0.00         0\n",
            "\n",
            "    accuracy                           0.91      1156\n",
            "   macro avg       0.84      0.90      0.86      1156\n",
            "weighted avg       0.93      0.91      0.91      1156\n",
            "\n"
          ]
        }
      ]
    },
    {
      "cell_type": "code",
      "source": [
        "test_preds_output = trainer.predict(tokenized_test)\n",
        "test_logits = test_preds_output.predictions\n",
        "final_test_preds_encoded = np.argmax(test_logits, axis=1)\n",
        "final_test_preds_original = final_test_preds_encoded"
      ],
      "metadata": {
        "colab": {
          "base_uri": "https://localhost:8080/",
          "height": 17
        },
        "id": "53UR10iN7Xye",
        "outputId": "bd1583bd-ae4b-4f4b-92b7-b3d3bdfc7d0a"
      },
      "execution_count": 27,
      "outputs": [
        {
          "output_type": "display_data",
          "data": {
            "text/plain": [
              "<IPython.core.display.HTML object>"
            ],
            "text/html": []
          },
          "metadata": {}
        }
      ]
    },
    {
      "cell_type": "code",
      "source": [
        "submission_df = pd.DataFrame({'ID': df_test['ID'], 'CategoryID': final_test_preds_original})\n",
        "submission_df.to_csv('submission.csv', index=False)"
      ],
      "metadata": {
        "id": "qY-vGLHx7dei"
      },
      "execution_count": 28,
      "outputs": []
    },
    {
      "cell_type": "code",
      "source": [
        "del model, trainer, tokenized_train, tokenized_val, tokenized_test, train_dataset, val_dataset\n",
        "gc.collect()\n",
        "if torch.cuda.is_available():\n",
        "    torch.cuda.empty_cache()"
      ],
      "metadata": {
        "id": "8gx4nSxis1w_"
      },
      "execution_count": null,
      "outputs": []
    }
  ],
  "metadata": {
    "colab": {
      "provenance": [],
      "gpuType": "T4",
      "collapsed_sections": [
        "8IopVRIn3lS1",
        "C9823-ti3u_a",
        "SBQX4wqX34MC",
        "ko5-QMZ9LQS6",
        "D99boL6JoLON",
        "XsDcCs2qZ4Kx",
        "2AkzTcTW3aly",
        "GghixwKz5Wke",
        "GkbELYFi6s5w",
        "uwWCT9GX8-7J",
        "3PNWt_c28I_g",
        "MdIbnEaO8CJq",
        "99GA5_cr7cn_",
        "bQgGDtsY7v7M"
      ]
    },
    "kernelspec": {
      "display_name": "Python 3",
      "name": "python3"
    },
    "language_info": {
      "name": "python"
    },
    "widgets": {
      "application/vnd.jupyter.widget-state+json": {
        "4cc8d7cdc5bc4dd5bdb5a5c8282d4c1d": {
          "model_module": "@jupyter-widgets/controls",
          "model_name": "HBoxModel",
          "model_module_version": "1.5.0",
          "state": {
            "_dom_classes": [],
            "_model_module": "@jupyter-widgets/controls",
            "_model_module_version": "1.5.0",
            "_model_name": "HBoxModel",
            "_view_count": null,
            "_view_module": "@jupyter-widgets/controls",
            "_view_module_version": "1.5.0",
            "_view_name": "HBoxView",
            "box_style": "",
            "children": [
              "IPY_MODEL_4521b29e29cf4d2fb8d50a5d543094d2",
              "IPY_MODEL_39c0a22042f749e68fecf49499a584c0",
              "IPY_MODEL_1fe02ad36dfd46c5aecdb69e39b4cea7"
            ],
            "layout": "IPY_MODEL_b062f9f3f1cf4bce88cddad8269853c9"
          }
        },
        "4521b29e29cf4d2fb8d50a5d543094d2": {
          "model_module": "@jupyter-widgets/controls",
          "model_name": "HTMLModel",
          "model_module_version": "1.5.0",
          "state": {
            "_dom_classes": [],
            "_model_module": "@jupyter-widgets/controls",
            "_model_module_version": "1.5.0",
            "_model_name": "HTMLModel",
            "_view_count": null,
            "_view_module": "@jupyter-widgets/controls",
            "_view_module_version": "1.5.0",
            "_view_name": "HTMLView",
            "description": "",
            "description_tooltip": null,
            "layout": "IPY_MODEL_096263012f4b451f94bf249c24e58c3b",
            "placeholder": "​",
            "style": "IPY_MODEL_3ff1924dd2c746d6bf7bc78cad91a2e4",
            "value": "Writing fasttext_train.txt (pass 1): 100%"
          }
        },
        "39c0a22042f749e68fecf49499a584c0": {
          "model_module": "@jupyter-widgets/controls",
          "model_name": "FloatProgressModel",
          "model_module_version": "1.5.0",
          "state": {
            "_dom_classes": [],
            "_model_module": "@jupyter-widgets/controls",
            "_model_module_version": "1.5.0",
            "_model_name": "FloatProgressModel",
            "_view_count": null,
            "_view_module": "@jupyter-widgets/controls",
            "_view_module_version": "1.5.0",
            "_view_name": "ProgressView",
            "bar_style": "success",
            "description": "",
            "description_tooltip": null,
            "layout": "IPY_MODEL_5d7a553c1e3e46ecb539d95b0189d9ff",
            "max": 9246,
            "min": 0,
            "orientation": "horizontal",
            "style": "IPY_MODEL_0c90d1030d9944d09016c02b51028cfb",
            "value": 9246
          }
        },
        "1fe02ad36dfd46c5aecdb69e39b4cea7": {
          "model_module": "@jupyter-widgets/controls",
          "model_name": "HTMLModel",
          "model_module_version": "1.5.0",
          "state": {
            "_dom_classes": [],
            "_model_module": "@jupyter-widgets/controls",
            "_model_module_version": "1.5.0",
            "_model_name": "HTMLModel",
            "_view_count": null,
            "_view_module": "@jupyter-widgets/controls",
            "_view_module_version": "1.5.0",
            "_view_name": "HTMLView",
            "description": "",
            "description_tooltip": null,
            "layout": "IPY_MODEL_d3e33bb71c644efbb3270f41555f8521",
            "placeholder": "​",
            "style": "IPY_MODEL_e1de63d24e72498db62983b178c9934b",
            "value": " 9246/9246 [00:00&lt;00:00, 16434.92it/s]"
          }
        },
        "b062f9f3f1cf4bce88cddad8269853c9": {
          "model_module": "@jupyter-widgets/base",
          "model_name": "LayoutModel",
          "model_module_version": "1.2.0",
          "state": {
            "_model_module": "@jupyter-widgets/base",
            "_model_module_version": "1.2.0",
            "_model_name": "LayoutModel",
            "_view_count": null,
            "_view_module": "@jupyter-widgets/base",
            "_view_module_version": "1.2.0",
            "_view_name": "LayoutView",
            "align_content": null,
            "align_items": null,
            "align_self": null,
            "border": null,
            "bottom": null,
            "display": null,
            "flex": null,
            "flex_flow": null,
            "grid_area": null,
            "grid_auto_columns": null,
            "grid_auto_flow": null,
            "grid_auto_rows": null,
            "grid_column": null,
            "grid_gap": null,
            "grid_row": null,
            "grid_template_areas": null,
            "grid_template_columns": null,
            "grid_template_rows": null,
            "height": null,
            "justify_content": null,
            "justify_items": null,
            "left": null,
            "margin": null,
            "max_height": null,
            "max_width": null,
            "min_height": null,
            "min_width": null,
            "object_fit": null,
            "object_position": null,
            "order": null,
            "overflow": null,
            "overflow_x": null,
            "overflow_y": null,
            "padding": null,
            "right": null,
            "top": null,
            "visibility": null,
            "width": null
          }
        },
        "096263012f4b451f94bf249c24e58c3b": {
          "model_module": "@jupyter-widgets/base",
          "model_name": "LayoutModel",
          "model_module_version": "1.2.0",
          "state": {
            "_model_module": "@jupyter-widgets/base",
            "_model_module_version": "1.2.0",
            "_model_name": "LayoutModel",
            "_view_count": null,
            "_view_module": "@jupyter-widgets/base",
            "_view_module_version": "1.2.0",
            "_view_name": "LayoutView",
            "align_content": null,
            "align_items": null,
            "align_self": null,
            "border": null,
            "bottom": null,
            "display": null,
            "flex": null,
            "flex_flow": null,
            "grid_area": null,
            "grid_auto_columns": null,
            "grid_auto_flow": null,
            "grid_auto_rows": null,
            "grid_column": null,
            "grid_gap": null,
            "grid_row": null,
            "grid_template_areas": null,
            "grid_template_columns": null,
            "grid_template_rows": null,
            "height": null,
            "justify_content": null,
            "justify_items": null,
            "left": null,
            "margin": null,
            "max_height": null,
            "max_width": null,
            "min_height": null,
            "min_width": null,
            "object_fit": null,
            "object_position": null,
            "order": null,
            "overflow": null,
            "overflow_x": null,
            "overflow_y": null,
            "padding": null,
            "right": null,
            "top": null,
            "visibility": null,
            "width": null
          }
        },
        "3ff1924dd2c746d6bf7bc78cad91a2e4": {
          "model_module": "@jupyter-widgets/controls",
          "model_name": "DescriptionStyleModel",
          "model_module_version": "1.5.0",
          "state": {
            "_model_module": "@jupyter-widgets/controls",
            "_model_module_version": "1.5.0",
            "_model_name": "DescriptionStyleModel",
            "_view_count": null,
            "_view_module": "@jupyter-widgets/base",
            "_view_module_version": "1.2.0",
            "_view_name": "StyleView",
            "description_width": ""
          }
        },
        "5d7a553c1e3e46ecb539d95b0189d9ff": {
          "model_module": "@jupyter-widgets/base",
          "model_name": "LayoutModel",
          "model_module_version": "1.2.0",
          "state": {
            "_model_module": "@jupyter-widgets/base",
            "_model_module_version": "1.2.0",
            "_model_name": "LayoutModel",
            "_view_count": null,
            "_view_module": "@jupyter-widgets/base",
            "_view_module_version": "1.2.0",
            "_view_name": "LayoutView",
            "align_content": null,
            "align_items": null,
            "align_self": null,
            "border": null,
            "bottom": null,
            "display": null,
            "flex": null,
            "flex_flow": null,
            "grid_area": null,
            "grid_auto_columns": null,
            "grid_auto_flow": null,
            "grid_auto_rows": null,
            "grid_column": null,
            "grid_gap": null,
            "grid_row": null,
            "grid_template_areas": null,
            "grid_template_columns": null,
            "grid_template_rows": null,
            "height": null,
            "justify_content": null,
            "justify_items": null,
            "left": null,
            "margin": null,
            "max_height": null,
            "max_width": null,
            "min_height": null,
            "min_width": null,
            "object_fit": null,
            "object_position": null,
            "order": null,
            "overflow": null,
            "overflow_x": null,
            "overflow_y": null,
            "padding": null,
            "right": null,
            "top": null,
            "visibility": null,
            "width": null
          }
        },
        "0c90d1030d9944d09016c02b51028cfb": {
          "model_module": "@jupyter-widgets/controls",
          "model_name": "ProgressStyleModel",
          "model_module_version": "1.5.0",
          "state": {
            "_model_module": "@jupyter-widgets/controls",
            "_model_module_version": "1.5.0",
            "_model_name": "ProgressStyleModel",
            "_view_count": null,
            "_view_module": "@jupyter-widgets/base",
            "_view_module_version": "1.2.0",
            "_view_name": "StyleView",
            "bar_color": null,
            "description_width": ""
          }
        },
        "d3e33bb71c644efbb3270f41555f8521": {
          "model_module": "@jupyter-widgets/base",
          "model_name": "LayoutModel",
          "model_module_version": "1.2.0",
          "state": {
            "_model_module": "@jupyter-widgets/base",
            "_model_module_version": "1.2.0",
            "_model_name": "LayoutModel",
            "_view_count": null,
            "_view_module": "@jupyter-widgets/base",
            "_view_module_version": "1.2.0",
            "_view_name": "LayoutView",
            "align_content": null,
            "align_items": null,
            "align_self": null,
            "border": null,
            "bottom": null,
            "display": null,
            "flex": null,
            "flex_flow": null,
            "grid_area": null,
            "grid_auto_columns": null,
            "grid_auto_flow": null,
            "grid_auto_rows": null,
            "grid_column": null,
            "grid_gap": null,
            "grid_row": null,
            "grid_template_areas": null,
            "grid_template_columns": null,
            "grid_template_rows": null,
            "height": null,
            "justify_content": null,
            "justify_items": null,
            "left": null,
            "margin": null,
            "max_height": null,
            "max_width": null,
            "min_height": null,
            "min_width": null,
            "object_fit": null,
            "object_position": null,
            "order": null,
            "overflow": null,
            "overflow_x": null,
            "overflow_y": null,
            "padding": null,
            "right": null,
            "top": null,
            "visibility": null,
            "width": null
          }
        },
        "e1de63d24e72498db62983b178c9934b": {
          "model_module": "@jupyter-widgets/controls",
          "model_name": "DescriptionStyleModel",
          "model_module_version": "1.5.0",
          "state": {
            "_model_module": "@jupyter-widgets/controls",
            "_model_module_version": "1.5.0",
            "_model_name": "DescriptionStyleModel",
            "_view_count": null,
            "_view_module": "@jupyter-widgets/base",
            "_view_module_version": "1.2.0",
            "_view_name": "StyleView",
            "description_width": ""
          }
        },
        "3c5c89a7495f495ba6d9532cf67597d5": {
          "model_module": "@jupyter-widgets/controls",
          "model_name": "HBoxModel",
          "model_module_version": "1.5.0",
          "state": {
            "_dom_classes": [],
            "_model_module": "@jupyter-widgets/controls",
            "_model_module_version": "1.5.0",
            "_model_name": "HBoxModel",
            "_view_count": null,
            "_view_module": "@jupyter-widgets/controls",
            "_view_module_version": "1.5.0",
            "_view_name": "HBoxView",
            "box_style": "",
            "children": [
              "IPY_MODEL_c9c3bb9fed9248c6a9499a87bee28c4c",
              "IPY_MODEL_9a46a99e5e2142d5ba0be1f1a8e1ad04",
              "IPY_MODEL_a1d58989b5344d9896d7c138afd67f69"
            ],
            "layout": "IPY_MODEL_5c8da9f20aa7442f9e7076a197b1ec98"
          }
        },
        "c9c3bb9fed9248c6a9499a87bee28c4c": {
          "model_module": "@jupyter-widgets/controls",
          "model_name": "HTMLModel",
          "model_module_version": "1.5.0",
          "state": {
            "_dom_classes": [],
            "_model_module": "@jupyter-widgets/controls",
            "_model_module_version": "1.5.0",
            "_model_name": "HTMLModel",
            "_view_count": null,
            "_view_module": "@jupyter-widgets/controls",
            "_view_module_version": "1.5.0",
            "_view_name": "HTMLView",
            "description": "",
            "description_tooltip": null,
            "layout": "IPY_MODEL_03d5f4be1f63441ea7b16d2f332b054b",
            "placeholder": "​",
            "style": "IPY_MODEL_48f7b6adaf764f9fa485b4a2331a540b",
            "value": "Writing fasttext_train.txt (pass 2): 100%"
          }
        },
        "9a46a99e5e2142d5ba0be1f1a8e1ad04": {
          "model_module": "@jupyter-widgets/controls",
          "model_name": "FloatProgressModel",
          "model_module_version": "1.5.0",
          "state": {
            "_dom_classes": [],
            "_model_module": "@jupyter-widgets/controls",
            "_model_module_version": "1.5.0",
            "_model_name": "FloatProgressModel",
            "_view_count": null,
            "_view_module": "@jupyter-widgets/controls",
            "_view_module_version": "1.5.0",
            "_view_name": "ProgressView",
            "bar_style": "success",
            "description": "",
            "description_tooltip": null,
            "layout": "IPY_MODEL_ad79326937014a5e8ca8baceb9097a5f",
            "max": 9246,
            "min": 0,
            "orientation": "horizontal",
            "style": "IPY_MODEL_0bd06239f4f341dbb0bb1261b955549e",
            "value": 9246
          }
        },
        "a1d58989b5344d9896d7c138afd67f69": {
          "model_module": "@jupyter-widgets/controls",
          "model_name": "HTMLModel",
          "model_module_version": "1.5.0",
          "state": {
            "_dom_classes": [],
            "_model_module": "@jupyter-widgets/controls",
            "_model_module_version": "1.5.0",
            "_model_name": "HTMLModel",
            "_view_count": null,
            "_view_module": "@jupyter-widgets/controls",
            "_view_module_version": "1.5.0",
            "_view_name": "HTMLView",
            "description": "",
            "description_tooltip": null,
            "layout": "IPY_MODEL_e4c78f9466404d4c9698fc151e6aca32",
            "placeholder": "​",
            "style": "IPY_MODEL_a3dd3c58def84d5f8c8ce97017f32037",
            "value": " 9246/9246 [00:00&lt;00:00, 19244.54it/s]"
          }
        },
        "5c8da9f20aa7442f9e7076a197b1ec98": {
          "model_module": "@jupyter-widgets/base",
          "model_name": "LayoutModel",
          "model_module_version": "1.2.0",
          "state": {
            "_model_module": "@jupyter-widgets/base",
            "_model_module_version": "1.2.0",
            "_model_name": "LayoutModel",
            "_view_count": null,
            "_view_module": "@jupyter-widgets/base",
            "_view_module_version": "1.2.0",
            "_view_name": "LayoutView",
            "align_content": null,
            "align_items": null,
            "align_self": null,
            "border": null,
            "bottom": null,
            "display": null,
            "flex": null,
            "flex_flow": null,
            "grid_area": null,
            "grid_auto_columns": null,
            "grid_auto_flow": null,
            "grid_auto_rows": null,
            "grid_column": null,
            "grid_gap": null,
            "grid_row": null,
            "grid_template_areas": null,
            "grid_template_columns": null,
            "grid_template_rows": null,
            "height": null,
            "justify_content": null,
            "justify_items": null,
            "left": null,
            "margin": null,
            "max_height": null,
            "max_width": null,
            "min_height": null,
            "min_width": null,
            "object_fit": null,
            "object_position": null,
            "order": null,
            "overflow": null,
            "overflow_x": null,
            "overflow_y": null,
            "padding": null,
            "right": null,
            "top": null,
            "visibility": null,
            "width": null
          }
        },
        "03d5f4be1f63441ea7b16d2f332b054b": {
          "model_module": "@jupyter-widgets/base",
          "model_name": "LayoutModel",
          "model_module_version": "1.2.0",
          "state": {
            "_model_module": "@jupyter-widgets/base",
            "_model_module_version": "1.2.0",
            "_model_name": "LayoutModel",
            "_view_count": null,
            "_view_module": "@jupyter-widgets/base",
            "_view_module_version": "1.2.0",
            "_view_name": "LayoutView",
            "align_content": null,
            "align_items": null,
            "align_self": null,
            "border": null,
            "bottom": null,
            "display": null,
            "flex": null,
            "flex_flow": null,
            "grid_area": null,
            "grid_auto_columns": null,
            "grid_auto_flow": null,
            "grid_auto_rows": null,
            "grid_column": null,
            "grid_gap": null,
            "grid_row": null,
            "grid_template_areas": null,
            "grid_template_columns": null,
            "grid_template_rows": null,
            "height": null,
            "justify_content": null,
            "justify_items": null,
            "left": null,
            "margin": null,
            "max_height": null,
            "max_width": null,
            "min_height": null,
            "min_width": null,
            "object_fit": null,
            "object_position": null,
            "order": null,
            "overflow": null,
            "overflow_x": null,
            "overflow_y": null,
            "padding": null,
            "right": null,
            "top": null,
            "visibility": null,
            "width": null
          }
        },
        "48f7b6adaf764f9fa485b4a2331a540b": {
          "model_module": "@jupyter-widgets/controls",
          "model_name": "DescriptionStyleModel",
          "model_module_version": "1.5.0",
          "state": {
            "_model_module": "@jupyter-widgets/controls",
            "_model_module_version": "1.5.0",
            "_model_name": "DescriptionStyleModel",
            "_view_count": null,
            "_view_module": "@jupyter-widgets/base",
            "_view_module_version": "1.2.0",
            "_view_name": "StyleView",
            "description_width": ""
          }
        },
        "ad79326937014a5e8ca8baceb9097a5f": {
          "model_module": "@jupyter-widgets/base",
          "model_name": "LayoutModel",
          "model_module_version": "1.2.0",
          "state": {
            "_model_module": "@jupyter-widgets/base",
            "_model_module_version": "1.2.0",
            "_model_name": "LayoutModel",
            "_view_count": null,
            "_view_module": "@jupyter-widgets/base",
            "_view_module_version": "1.2.0",
            "_view_name": "LayoutView",
            "align_content": null,
            "align_items": null,
            "align_self": null,
            "border": null,
            "bottom": null,
            "display": null,
            "flex": null,
            "flex_flow": null,
            "grid_area": null,
            "grid_auto_columns": null,
            "grid_auto_flow": null,
            "grid_auto_rows": null,
            "grid_column": null,
            "grid_gap": null,
            "grid_row": null,
            "grid_template_areas": null,
            "grid_template_columns": null,
            "grid_template_rows": null,
            "height": null,
            "justify_content": null,
            "justify_items": null,
            "left": null,
            "margin": null,
            "max_height": null,
            "max_width": null,
            "min_height": null,
            "min_width": null,
            "object_fit": null,
            "object_position": null,
            "order": null,
            "overflow": null,
            "overflow_x": null,
            "overflow_y": null,
            "padding": null,
            "right": null,
            "top": null,
            "visibility": null,
            "width": null
          }
        },
        "0bd06239f4f341dbb0bb1261b955549e": {
          "model_module": "@jupyter-widgets/controls",
          "model_name": "ProgressStyleModel",
          "model_module_version": "1.5.0",
          "state": {
            "_model_module": "@jupyter-widgets/controls",
            "_model_module_version": "1.5.0",
            "_model_name": "ProgressStyleModel",
            "_view_count": null,
            "_view_module": "@jupyter-widgets/base",
            "_view_module_version": "1.2.0",
            "_view_name": "StyleView",
            "bar_color": null,
            "description_width": ""
          }
        },
        "e4c78f9466404d4c9698fc151e6aca32": {
          "model_module": "@jupyter-widgets/base",
          "model_name": "LayoutModel",
          "model_module_version": "1.2.0",
          "state": {
            "_model_module": "@jupyter-widgets/base",
            "_model_module_version": "1.2.0",
            "_model_name": "LayoutModel",
            "_view_count": null,
            "_view_module": "@jupyter-widgets/base",
            "_view_module_version": "1.2.0",
            "_view_name": "LayoutView",
            "align_content": null,
            "align_items": null,
            "align_self": null,
            "border": null,
            "bottom": null,
            "display": null,
            "flex": null,
            "flex_flow": null,
            "grid_area": null,
            "grid_auto_columns": null,
            "grid_auto_flow": null,
            "grid_auto_rows": null,
            "grid_column": null,
            "grid_gap": null,
            "grid_row": null,
            "grid_template_areas": null,
            "grid_template_columns": null,
            "grid_template_rows": null,
            "height": null,
            "justify_content": null,
            "justify_items": null,
            "left": null,
            "margin": null,
            "max_height": null,
            "max_width": null,
            "min_height": null,
            "min_width": null,
            "object_fit": null,
            "object_position": null,
            "order": null,
            "overflow": null,
            "overflow_x": null,
            "overflow_y": null,
            "padding": null,
            "right": null,
            "top": null,
            "visibility": null,
            "width": null
          }
        },
        "a3dd3c58def84d5f8c8ce97017f32037": {
          "model_module": "@jupyter-widgets/controls",
          "model_name": "DescriptionStyleModel",
          "model_module_version": "1.5.0",
          "state": {
            "_model_module": "@jupyter-widgets/controls",
            "_model_module_version": "1.5.0",
            "_model_name": "DescriptionStyleModel",
            "_view_count": null,
            "_view_module": "@jupyter-widgets/base",
            "_view_module_version": "1.2.0",
            "_view_name": "StyleView",
            "description_width": ""
          }
        },
        "474b535383e348bbba0ec7c0c0139fca": {
          "model_module": "@jupyter-widgets/controls",
          "model_name": "HBoxModel",
          "model_module_version": "1.5.0",
          "state": {
            "_dom_classes": [],
            "_model_module": "@jupyter-widgets/controls",
            "_model_module_version": "1.5.0",
            "_model_name": "HBoxModel",
            "_view_count": null,
            "_view_module": "@jupyter-widgets/controls",
            "_view_module_version": "1.5.0",
            "_view_name": "HBoxView",
            "box_style": "",
            "children": [
              "IPY_MODEL_f4e1730de67d4be3bae06460a9896e08",
              "IPY_MODEL_02bad36006484a06abbb38995bc36ee5",
              "IPY_MODEL_c15ee298f2204d068cce9230d0d2370f"
            ],
            "layout": "IPY_MODEL_26fc739351134ed79192741a149bc53e"
          }
        },
        "f4e1730de67d4be3bae06460a9896e08": {
          "model_module": "@jupyter-widgets/controls",
          "model_name": "HTMLModel",
          "model_module_version": "1.5.0",
          "state": {
            "_dom_classes": [],
            "_model_module": "@jupyter-widgets/controls",
            "_model_module_version": "1.5.0",
            "_model_name": "HTMLModel",
            "_view_count": null,
            "_view_module": "@jupyter-widgets/controls",
            "_view_module_version": "1.5.0",
            "_view_name": "HTMLView",
            "description": "",
            "description_tooltip": null,
            "layout": "IPY_MODEL_420c342e6cbb4103895bcb0a761f735d",
            "placeholder": "​",
            "style": "IPY_MODEL_3e9d9f04a7cb4e13b2054aae82e32984",
            "value": "Writing fasttext_train.txt (pass 3): 100%"
          }
        },
        "02bad36006484a06abbb38995bc36ee5": {
          "model_module": "@jupyter-widgets/controls",
          "model_name": "FloatProgressModel",
          "model_module_version": "1.5.0",
          "state": {
            "_dom_classes": [],
            "_model_module": "@jupyter-widgets/controls",
            "_model_module_version": "1.5.0",
            "_model_name": "FloatProgressModel",
            "_view_count": null,
            "_view_module": "@jupyter-widgets/controls",
            "_view_module_version": "1.5.0",
            "_view_name": "ProgressView",
            "bar_style": "success",
            "description": "",
            "description_tooltip": null,
            "layout": "IPY_MODEL_63dc2116c3fb4ee484228eac5b5ec880",
            "max": 9246,
            "min": 0,
            "orientation": "horizontal",
            "style": "IPY_MODEL_935974949efb477fab7116d56441866b",
            "value": 9246
          }
        },
        "c15ee298f2204d068cce9230d0d2370f": {
          "model_module": "@jupyter-widgets/controls",
          "model_name": "HTMLModel",
          "model_module_version": "1.5.0",
          "state": {
            "_dom_classes": [],
            "_model_module": "@jupyter-widgets/controls",
            "_model_module_version": "1.5.0",
            "_model_name": "HTMLModel",
            "_view_count": null,
            "_view_module": "@jupyter-widgets/controls",
            "_view_module_version": "1.5.0",
            "_view_name": "HTMLView",
            "description": "",
            "description_tooltip": null,
            "layout": "IPY_MODEL_9bffb315bd004c5fa707175be209e2db",
            "placeholder": "​",
            "style": "IPY_MODEL_4b426c1d4e9743d88badfac29108e0d5",
            "value": " 9246/9246 [00:00&lt;00:00, 19193.04it/s]"
          }
        },
        "26fc739351134ed79192741a149bc53e": {
          "model_module": "@jupyter-widgets/base",
          "model_name": "LayoutModel",
          "model_module_version": "1.2.0",
          "state": {
            "_model_module": "@jupyter-widgets/base",
            "_model_module_version": "1.2.0",
            "_model_name": "LayoutModel",
            "_view_count": null,
            "_view_module": "@jupyter-widgets/base",
            "_view_module_version": "1.2.0",
            "_view_name": "LayoutView",
            "align_content": null,
            "align_items": null,
            "align_self": null,
            "border": null,
            "bottom": null,
            "display": null,
            "flex": null,
            "flex_flow": null,
            "grid_area": null,
            "grid_auto_columns": null,
            "grid_auto_flow": null,
            "grid_auto_rows": null,
            "grid_column": null,
            "grid_gap": null,
            "grid_row": null,
            "grid_template_areas": null,
            "grid_template_columns": null,
            "grid_template_rows": null,
            "height": null,
            "justify_content": null,
            "justify_items": null,
            "left": null,
            "margin": null,
            "max_height": null,
            "max_width": null,
            "min_height": null,
            "min_width": null,
            "object_fit": null,
            "object_position": null,
            "order": null,
            "overflow": null,
            "overflow_x": null,
            "overflow_y": null,
            "padding": null,
            "right": null,
            "top": null,
            "visibility": null,
            "width": null
          }
        },
        "420c342e6cbb4103895bcb0a761f735d": {
          "model_module": "@jupyter-widgets/base",
          "model_name": "LayoutModel",
          "model_module_version": "1.2.0",
          "state": {
            "_model_module": "@jupyter-widgets/base",
            "_model_module_version": "1.2.0",
            "_model_name": "LayoutModel",
            "_view_count": null,
            "_view_module": "@jupyter-widgets/base",
            "_view_module_version": "1.2.0",
            "_view_name": "LayoutView",
            "align_content": null,
            "align_items": null,
            "align_self": null,
            "border": null,
            "bottom": null,
            "display": null,
            "flex": null,
            "flex_flow": null,
            "grid_area": null,
            "grid_auto_columns": null,
            "grid_auto_flow": null,
            "grid_auto_rows": null,
            "grid_column": null,
            "grid_gap": null,
            "grid_row": null,
            "grid_template_areas": null,
            "grid_template_columns": null,
            "grid_template_rows": null,
            "height": null,
            "justify_content": null,
            "justify_items": null,
            "left": null,
            "margin": null,
            "max_height": null,
            "max_width": null,
            "min_height": null,
            "min_width": null,
            "object_fit": null,
            "object_position": null,
            "order": null,
            "overflow": null,
            "overflow_x": null,
            "overflow_y": null,
            "padding": null,
            "right": null,
            "top": null,
            "visibility": null,
            "width": null
          }
        },
        "3e9d9f04a7cb4e13b2054aae82e32984": {
          "model_module": "@jupyter-widgets/controls",
          "model_name": "DescriptionStyleModel",
          "model_module_version": "1.5.0",
          "state": {
            "_model_module": "@jupyter-widgets/controls",
            "_model_module_version": "1.5.0",
            "_model_name": "DescriptionStyleModel",
            "_view_count": null,
            "_view_module": "@jupyter-widgets/base",
            "_view_module_version": "1.2.0",
            "_view_name": "StyleView",
            "description_width": ""
          }
        },
        "63dc2116c3fb4ee484228eac5b5ec880": {
          "model_module": "@jupyter-widgets/base",
          "model_name": "LayoutModel",
          "model_module_version": "1.2.0",
          "state": {
            "_model_module": "@jupyter-widgets/base",
            "_model_module_version": "1.2.0",
            "_model_name": "LayoutModel",
            "_view_count": null,
            "_view_module": "@jupyter-widgets/base",
            "_view_module_version": "1.2.0",
            "_view_name": "LayoutView",
            "align_content": null,
            "align_items": null,
            "align_self": null,
            "border": null,
            "bottom": null,
            "display": null,
            "flex": null,
            "flex_flow": null,
            "grid_area": null,
            "grid_auto_columns": null,
            "grid_auto_flow": null,
            "grid_auto_rows": null,
            "grid_column": null,
            "grid_gap": null,
            "grid_row": null,
            "grid_template_areas": null,
            "grid_template_columns": null,
            "grid_template_rows": null,
            "height": null,
            "justify_content": null,
            "justify_items": null,
            "left": null,
            "margin": null,
            "max_height": null,
            "max_width": null,
            "min_height": null,
            "min_width": null,
            "object_fit": null,
            "object_position": null,
            "order": null,
            "overflow": null,
            "overflow_x": null,
            "overflow_y": null,
            "padding": null,
            "right": null,
            "top": null,
            "visibility": null,
            "width": null
          }
        },
        "935974949efb477fab7116d56441866b": {
          "model_module": "@jupyter-widgets/controls",
          "model_name": "ProgressStyleModel",
          "model_module_version": "1.5.0",
          "state": {
            "_model_module": "@jupyter-widgets/controls",
            "_model_module_version": "1.5.0",
            "_model_name": "ProgressStyleModel",
            "_view_count": null,
            "_view_module": "@jupyter-widgets/base",
            "_view_module_version": "1.2.0",
            "_view_name": "StyleView",
            "bar_color": null,
            "description_width": ""
          }
        },
        "9bffb315bd004c5fa707175be209e2db": {
          "model_module": "@jupyter-widgets/base",
          "model_name": "LayoutModel",
          "model_module_version": "1.2.0",
          "state": {
            "_model_module": "@jupyter-widgets/base",
            "_model_module_version": "1.2.0",
            "_model_name": "LayoutModel",
            "_view_count": null,
            "_view_module": "@jupyter-widgets/base",
            "_view_module_version": "1.2.0",
            "_view_name": "LayoutView",
            "align_content": null,
            "align_items": null,
            "align_self": null,
            "border": null,
            "bottom": null,
            "display": null,
            "flex": null,
            "flex_flow": null,
            "grid_area": null,
            "grid_auto_columns": null,
            "grid_auto_flow": null,
            "grid_auto_rows": null,
            "grid_column": null,
            "grid_gap": null,
            "grid_row": null,
            "grid_template_areas": null,
            "grid_template_columns": null,
            "grid_template_rows": null,
            "height": null,
            "justify_content": null,
            "justify_items": null,
            "left": null,
            "margin": null,
            "max_height": null,
            "max_width": null,
            "min_height": null,
            "min_width": null,
            "object_fit": null,
            "object_position": null,
            "order": null,
            "overflow": null,
            "overflow_x": null,
            "overflow_y": null,
            "padding": null,
            "right": null,
            "top": null,
            "visibility": null,
            "width": null
          }
        },
        "4b426c1d4e9743d88badfac29108e0d5": {
          "model_module": "@jupyter-widgets/controls",
          "model_name": "DescriptionStyleModel",
          "model_module_version": "1.5.0",
          "state": {
            "_model_module": "@jupyter-widgets/controls",
            "_model_module_version": "1.5.0",
            "_model_name": "DescriptionStyleModel",
            "_view_count": null,
            "_view_module": "@jupyter-widgets/base",
            "_view_module_version": "1.2.0",
            "_view_name": "StyleView",
            "description_width": ""
          }
        },
        "46b4974b8dff4efe98f3ded85c3324d4": {
          "model_module": "@jupyter-widgets/controls",
          "model_name": "HBoxModel",
          "model_module_version": "1.5.0",
          "state": {
            "_dom_classes": [],
            "_model_module": "@jupyter-widgets/controls",
            "_model_module_version": "1.5.0",
            "_model_name": "HBoxModel",
            "_view_count": null,
            "_view_module": "@jupyter-widgets/controls",
            "_view_module_version": "1.5.0",
            "_view_name": "HBoxView",
            "box_style": "",
            "children": [
              "IPY_MODEL_ffa0ebd36044497cb64aa8200e4cf6c7",
              "IPY_MODEL_8d3af1feb6fe4cce97ccd3b436666461",
              "IPY_MODEL_cecf1ae73bda4a1e939074505c82c645"
            ],
            "layout": "IPY_MODEL_11e905c4f9ed4dddbd88ed5aaa9db6df"
          }
        },
        "ffa0ebd36044497cb64aa8200e4cf6c7": {
          "model_module": "@jupyter-widgets/controls",
          "model_name": "HTMLModel",
          "model_module_version": "1.5.0",
          "state": {
            "_dom_classes": [],
            "_model_module": "@jupyter-widgets/controls",
            "_model_module_version": "1.5.0",
            "_model_name": "HTMLModel",
            "_view_count": null,
            "_view_module": "@jupyter-widgets/controls",
            "_view_module_version": "1.5.0",
            "_view_name": "HTMLView",
            "description": "",
            "description_tooltip": null,
            "layout": "IPY_MODEL_483940cb72c64a159ebd712adf65dff9",
            "placeholder": "​",
            "style": "IPY_MODEL_07bfebe0850c4f4c8e1d6b8b6f1cae19",
            "value": "Map: 100%"
          }
        },
        "8d3af1feb6fe4cce97ccd3b436666461": {
          "model_module": "@jupyter-widgets/controls",
          "model_name": "FloatProgressModel",
          "model_module_version": "1.5.0",
          "state": {
            "_dom_classes": [],
            "_model_module": "@jupyter-widgets/controls",
            "_model_module_version": "1.5.0",
            "_model_name": "FloatProgressModel",
            "_view_count": null,
            "_view_module": "@jupyter-widgets/controls",
            "_view_module_version": "1.5.0",
            "_view_name": "ProgressView",
            "bar_style": "success",
            "description": "",
            "description_tooltip": null,
            "layout": "IPY_MODEL_15e3ea31fa204ef0be3690d2a20800f1",
            "max": 9246,
            "min": 0,
            "orientation": "horizontal",
            "style": "IPY_MODEL_7f4fd959b2bb488eb0310d4434c95433",
            "value": 9246
          }
        },
        "cecf1ae73bda4a1e939074505c82c645": {
          "model_module": "@jupyter-widgets/controls",
          "model_name": "HTMLModel",
          "model_module_version": "1.5.0",
          "state": {
            "_dom_classes": [],
            "_model_module": "@jupyter-widgets/controls",
            "_model_module_version": "1.5.0",
            "_model_name": "HTMLModel",
            "_view_count": null,
            "_view_module": "@jupyter-widgets/controls",
            "_view_module_version": "1.5.0",
            "_view_name": "HTMLView",
            "description": "",
            "description_tooltip": null,
            "layout": "IPY_MODEL_f68e052b1b074f6ab51c5c8b6a859443",
            "placeholder": "​",
            "style": "IPY_MODEL_c927df039dcf4d4e86ffb553ca1e35e7",
            "value": " 9246/9246 [00:01&lt;00:00, 7778.82 examples/s]"
          }
        },
        "11e905c4f9ed4dddbd88ed5aaa9db6df": {
          "model_module": "@jupyter-widgets/base",
          "model_name": "LayoutModel",
          "model_module_version": "1.2.0",
          "state": {
            "_model_module": "@jupyter-widgets/base",
            "_model_module_version": "1.2.0",
            "_model_name": "LayoutModel",
            "_view_count": null,
            "_view_module": "@jupyter-widgets/base",
            "_view_module_version": "1.2.0",
            "_view_name": "LayoutView",
            "align_content": null,
            "align_items": null,
            "align_self": null,
            "border": null,
            "bottom": null,
            "display": null,
            "flex": null,
            "flex_flow": null,
            "grid_area": null,
            "grid_auto_columns": null,
            "grid_auto_flow": null,
            "grid_auto_rows": null,
            "grid_column": null,
            "grid_gap": null,
            "grid_row": null,
            "grid_template_areas": null,
            "grid_template_columns": null,
            "grid_template_rows": null,
            "height": null,
            "justify_content": null,
            "justify_items": null,
            "left": null,
            "margin": null,
            "max_height": null,
            "max_width": null,
            "min_height": null,
            "min_width": null,
            "object_fit": null,
            "object_position": null,
            "order": null,
            "overflow": null,
            "overflow_x": null,
            "overflow_y": null,
            "padding": null,
            "right": null,
            "top": null,
            "visibility": null,
            "width": null
          }
        },
        "483940cb72c64a159ebd712adf65dff9": {
          "model_module": "@jupyter-widgets/base",
          "model_name": "LayoutModel",
          "model_module_version": "1.2.0",
          "state": {
            "_model_module": "@jupyter-widgets/base",
            "_model_module_version": "1.2.0",
            "_model_name": "LayoutModel",
            "_view_count": null,
            "_view_module": "@jupyter-widgets/base",
            "_view_module_version": "1.2.0",
            "_view_name": "LayoutView",
            "align_content": null,
            "align_items": null,
            "align_self": null,
            "border": null,
            "bottom": null,
            "display": null,
            "flex": null,
            "flex_flow": null,
            "grid_area": null,
            "grid_auto_columns": null,
            "grid_auto_flow": null,
            "grid_auto_rows": null,
            "grid_column": null,
            "grid_gap": null,
            "grid_row": null,
            "grid_template_areas": null,
            "grid_template_columns": null,
            "grid_template_rows": null,
            "height": null,
            "justify_content": null,
            "justify_items": null,
            "left": null,
            "margin": null,
            "max_height": null,
            "max_width": null,
            "min_height": null,
            "min_width": null,
            "object_fit": null,
            "object_position": null,
            "order": null,
            "overflow": null,
            "overflow_x": null,
            "overflow_y": null,
            "padding": null,
            "right": null,
            "top": null,
            "visibility": null,
            "width": null
          }
        },
        "07bfebe0850c4f4c8e1d6b8b6f1cae19": {
          "model_module": "@jupyter-widgets/controls",
          "model_name": "DescriptionStyleModel",
          "model_module_version": "1.5.0",
          "state": {
            "_model_module": "@jupyter-widgets/controls",
            "_model_module_version": "1.5.0",
            "_model_name": "DescriptionStyleModel",
            "_view_count": null,
            "_view_module": "@jupyter-widgets/base",
            "_view_module_version": "1.2.0",
            "_view_name": "StyleView",
            "description_width": ""
          }
        },
        "15e3ea31fa204ef0be3690d2a20800f1": {
          "model_module": "@jupyter-widgets/base",
          "model_name": "LayoutModel",
          "model_module_version": "1.2.0",
          "state": {
            "_model_module": "@jupyter-widgets/base",
            "_model_module_version": "1.2.0",
            "_model_name": "LayoutModel",
            "_view_count": null,
            "_view_module": "@jupyter-widgets/base",
            "_view_module_version": "1.2.0",
            "_view_name": "LayoutView",
            "align_content": null,
            "align_items": null,
            "align_self": null,
            "border": null,
            "bottom": null,
            "display": null,
            "flex": null,
            "flex_flow": null,
            "grid_area": null,
            "grid_auto_columns": null,
            "grid_auto_flow": null,
            "grid_auto_rows": null,
            "grid_column": null,
            "grid_gap": null,
            "grid_row": null,
            "grid_template_areas": null,
            "grid_template_columns": null,
            "grid_template_rows": null,
            "height": null,
            "justify_content": null,
            "justify_items": null,
            "left": null,
            "margin": null,
            "max_height": null,
            "max_width": null,
            "min_height": null,
            "min_width": null,
            "object_fit": null,
            "object_position": null,
            "order": null,
            "overflow": null,
            "overflow_x": null,
            "overflow_y": null,
            "padding": null,
            "right": null,
            "top": null,
            "visibility": null,
            "width": null
          }
        },
        "7f4fd959b2bb488eb0310d4434c95433": {
          "model_module": "@jupyter-widgets/controls",
          "model_name": "ProgressStyleModel",
          "model_module_version": "1.5.0",
          "state": {
            "_model_module": "@jupyter-widgets/controls",
            "_model_module_version": "1.5.0",
            "_model_name": "ProgressStyleModel",
            "_view_count": null,
            "_view_module": "@jupyter-widgets/base",
            "_view_module_version": "1.2.0",
            "_view_name": "StyleView",
            "bar_color": null,
            "description_width": ""
          }
        },
        "f68e052b1b074f6ab51c5c8b6a859443": {
          "model_module": "@jupyter-widgets/base",
          "model_name": "LayoutModel",
          "model_module_version": "1.2.0",
          "state": {
            "_model_module": "@jupyter-widgets/base",
            "_model_module_version": "1.2.0",
            "_model_name": "LayoutModel",
            "_view_count": null,
            "_view_module": "@jupyter-widgets/base",
            "_view_module_version": "1.2.0",
            "_view_name": "LayoutView",
            "align_content": null,
            "align_items": null,
            "align_self": null,
            "border": null,
            "bottom": null,
            "display": null,
            "flex": null,
            "flex_flow": null,
            "grid_area": null,
            "grid_auto_columns": null,
            "grid_auto_flow": null,
            "grid_auto_rows": null,
            "grid_column": null,
            "grid_gap": null,
            "grid_row": null,
            "grid_template_areas": null,
            "grid_template_columns": null,
            "grid_template_rows": null,
            "height": null,
            "justify_content": null,
            "justify_items": null,
            "left": null,
            "margin": null,
            "max_height": null,
            "max_width": null,
            "min_height": null,
            "min_width": null,
            "object_fit": null,
            "object_position": null,
            "order": null,
            "overflow": null,
            "overflow_x": null,
            "overflow_y": null,
            "padding": null,
            "right": null,
            "top": null,
            "visibility": null,
            "width": null
          }
        },
        "c927df039dcf4d4e86ffb553ca1e35e7": {
          "model_module": "@jupyter-widgets/controls",
          "model_name": "DescriptionStyleModel",
          "model_module_version": "1.5.0",
          "state": {
            "_model_module": "@jupyter-widgets/controls",
            "_model_module_version": "1.5.0",
            "_model_name": "DescriptionStyleModel",
            "_view_count": null,
            "_view_module": "@jupyter-widgets/base",
            "_view_module_version": "1.2.0",
            "_view_name": "StyleView",
            "description_width": ""
          }
        },
        "d7f353c286074aabb5b381635294f409": {
          "model_module": "@jupyter-widgets/controls",
          "model_name": "HBoxModel",
          "model_module_version": "1.5.0",
          "state": {
            "_dom_classes": [],
            "_model_module": "@jupyter-widgets/controls",
            "_model_module_version": "1.5.0",
            "_model_name": "HBoxModel",
            "_view_count": null,
            "_view_module": "@jupyter-widgets/controls",
            "_view_module_version": "1.5.0",
            "_view_name": "HBoxView",
            "box_style": "",
            "children": [
              "IPY_MODEL_e1476748cee24a9ea7eaeff73fa7fbc4",
              "IPY_MODEL_56ca8ec3353140b78da0067901455b6d",
              "IPY_MODEL_42fb48d250fd46338b25df3d8f0aca19"
            ],
            "layout": "IPY_MODEL_346cae636e584ec091126523457b4ce3"
          }
        },
        "e1476748cee24a9ea7eaeff73fa7fbc4": {
          "model_module": "@jupyter-widgets/controls",
          "model_name": "HTMLModel",
          "model_module_version": "1.5.0",
          "state": {
            "_dom_classes": [],
            "_model_module": "@jupyter-widgets/controls",
            "_model_module_version": "1.5.0",
            "_model_name": "HTMLModel",
            "_view_count": null,
            "_view_module": "@jupyter-widgets/controls",
            "_view_module_version": "1.5.0",
            "_view_name": "HTMLView",
            "description": "",
            "description_tooltip": null,
            "layout": "IPY_MODEL_a8410d9349474b1790ba0fdbc4d21345",
            "placeholder": "​",
            "style": "IPY_MODEL_6fcc233ea31d40c0af6c44ddb866df52",
            "value": "Map: 100%"
          }
        },
        "56ca8ec3353140b78da0067901455b6d": {
          "model_module": "@jupyter-widgets/controls",
          "model_name": "FloatProgressModel",
          "model_module_version": "1.5.0",
          "state": {
            "_dom_classes": [],
            "_model_module": "@jupyter-widgets/controls",
            "_model_module_version": "1.5.0",
            "_model_name": "FloatProgressModel",
            "_view_count": null,
            "_view_module": "@jupyter-widgets/controls",
            "_view_module_version": "1.5.0",
            "_view_name": "ProgressView",
            "bar_style": "success",
            "description": "",
            "description_tooltip": null,
            "layout": "IPY_MODEL_121d520519a947bbb8e3e15710306962",
            "max": 2312,
            "min": 0,
            "orientation": "horizontal",
            "style": "IPY_MODEL_115817559be64b2cb8cfd5b32a569a80",
            "value": 2312
          }
        },
        "42fb48d250fd46338b25df3d8f0aca19": {
          "model_module": "@jupyter-widgets/controls",
          "model_name": "HTMLModel",
          "model_module_version": "1.5.0",
          "state": {
            "_dom_classes": [],
            "_model_module": "@jupyter-widgets/controls",
            "_model_module_version": "1.5.0",
            "_model_name": "HTMLModel",
            "_view_count": null,
            "_view_module": "@jupyter-widgets/controls",
            "_view_module_version": "1.5.0",
            "_view_name": "HTMLView",
            "description": "",
            "description_tooltip": null,
            "layout": "IPY_MODEL_1783135d71ed4386bdb962d0544b8fef",
            "placeholder": "​",
            "style": "IPY_MODEL_821b3384311d4ba6b5cbf57f8ce9f826",
            "value": " 2312/2312 [00:00&lt;00:00, 7713.96 examples/s]"
          }
        },
        "346cae636e584ec091126523457b4ce3": {
          "model_module": "@jupyter-widgets/base",
          "model_name": "LayoutModel",
          "model_module_version": "1.2.0",
          "state": {
            "_model_module": "@jupyter-widgets/base",
            "_model_module_version": "1.2.0",
            "_model_name": "LayoutModel",
            "_view_count": null,
            "_view_module": "@jupyter-widgets/base",
            "_view_module_version": "1.2.0",
            "_view_name": "LayoutView",
            "align_content": null,
            "align_items": null,
            "align_self": null,
            "border": null,
            "bottom": null,
            "display": null,
            "flex": null,
            "flex_flow": null,
            "grid_area": null,
            "grid_auto_columns": null,
            "grid_auto_flow": null,
            "grid_auto_rows": null,
            "grid_column": null,
            "grid_gap": null,
            "grid_row": null,
            "grid_template_areas": null,
            "grid_template_columns": null,
            "grid_template_rows": null,
            "height": null,
            "justify_content": null,
            "justify_items": null,
            "left": null,
            "margin": null,
            "max_height": null,
            "max_width": null,
            "min_height": null,
            "min_width": null,
            "object_fit": null,
            "object_position": null,
            "order": null,
            "overflow": null,
            "overflow_x": null,
            "overflow_y": null,
            "padding": null,
            "right": null,
            "top": null,
            "visibility": null,
            "width": null
          }
        },
        "a8410d9349474b1790ba0fdbc4d21345": {
          "model_module": "@jupyter-widgets/base",
          "model_name": "LayoutModel",
          "model_module_version": "1.2.0",
          "state": {
            "_model_module": "@jupyter-widgets/base",
            "_model_module_version": "1.2.0",
            "_model_name": "LayoutModel",
            "_view_count": null,
            "_view_module": "@jupyter-widgets/base",
            "_view_module_version": "1.2.0",
            "_view_name": "LayoutView",
            "align_content": null,
            "align_items": null,
            "align_self": null,
            "border": null,
            "bottom": null,
            "display": null,
            "flex": null,
            "flex_flow": null,
            "grid_area": null,
            "grid_auto_columns": null,
            "grid_auto_flow": null,
            "grid_auto_rows": null,
            "grid_column": null,
            "grid_gap": null,
            "grid_row": null,
            "grid_template_areas": null,
            "grid_template_columns": null,
            "grid_template_rows": null,
            "height": null,
            "justify_content": null,
            "justify_items": null,
            "left": null,
            "margin": null,
            "max_height": null,
            "max_width": null,
            "min_height": null,
            "min_width": null,
            "object_fit": null,
            "object_position": null,
            "order": null,
            "overflow": null,
            "overflow_x": null,
            "overflow_y": null,
            "padding": null,
            "right": null,
            "top": null,
            "visibility": null,
            "width": null
          }
        },
        "6fcc233ea31d40c0af6c44ddb866df52": {
          "model_module": "@jupyter-widgets/controls",
          "model_name": "DescriptionStyleModel",
          "model_module_version": "1.5.0",
          "state": {
            "_model_module": "@jupyter-widgets/controls",
            "_model_module_version": "1.5.0",
            "_model_name": "DescriptionStyleModel",
            "_view_count": null,
            "_view_module": "@jupyter-widgets/base",
            "_view_module_version": "1.2.0",
            "_view_name": "StyleView",
            "description_width": ""
          }
        },
        "121d520519a947bbb8e3e15710306962": {
          "model_module": "@jupyter-widgets/base",
          "model_name": "LayoutModel",
          "model_module_version": "1.2.0",
          "state": {
            "_model_module": "@jupyter-widgets/base",
            "_model_module_version": "1.2.0",
            "_model_name": "LayoutModel",
            "_view_count": null,
            "_view_module": "@jupyter-widgets/base",
            "_view_module_version": "1.2.0",
            "_view_name": "LayoutView",
            "align_content": null,
            "align_items": null,
            "align_self": null,
            "border": null,
            "bottom": null,
            "display": null,
            "flex": null,
            "flex_flow": null,
            "grid_area": null,
            "grid_auto_columns": null,
            "grid_auto_flow": null,
            "grid_auto_rows": null,
            "grid_column": null,
            "grid_gap": null,
            "grid_row": null,
            "grid_template_areas": null,
            "grid_template_columns": null,
            "grid_template_rows": null,
            "height": null,
            "justify_content": null,
            "justify_items": null,
            "left": null,
            "margin": null,
            "max_height": null,
            "max_width": null,
            "min_height": null,
            "min_width": null,
            "object_fit": null,
            "object_position": null,
            "order": null,
            "overflow": null,
            "overflow_x": null,
            "overflow_y": null,
            "padding": null,
            "right": null,
            "top": null,
            "visibility": null,
            "width": null
          }
        },
        "115817559be64b2cb8cfd5b32a569a80": {
          "model_module": "@jupyter-widgets/controls",
          "model_name": "ProgressStyleModel",
          "model_module_version": "1.5.0",
          "state": {
            "_model_module": "@jupyter-widgets/controls",
            "_model_module_version": "1.5.0",
            "_model_name": "ProgressStyleModel",
            "_view_count": null,
            "_view_module": "@jupyter-widgets/base",
            "_view_module_version": "1.2.0",
            "_view_name": "StyleView",
            "bar_color": null,
            "description_width": ""
          }
        },
        "1783135d71ed4386bdb962d0544b8fef": {
          "model_module": "@jupyter-widgets/base",
          "model_name": "LayoutModel",
          "model_module_version": "1.2.0",
          "state": {
            "_model_module": "@jupyter-widgets/base",
            "_model_module_version": "1.2.0",
            "_model_name": "LayoutModel",
            "_view_count": null,
            "_view_module": "@jupyter-widgets/base",
            "_view_module_version": "1.2.0",
            "_view_name": "LayoutView",
            "align_content": null,
            "align_items": null,
            "align_self": null,
            "border": null,
            "bottom": null,
            "display": null,
            "flex": null,
            "flex_flow": null,
            "grid_area": null,
            "grid_auto_columns": null,
            "grid_auto_flow": null,
            "grid_auto_rows": null,
            "grid_column": null,
            "grid_gap": null,
            "grid_row": null,
            "grid_template_areas": null,
            "grid_template_columns": null,
            "grid_template_rows": null,
            "height": null,
            "justify_content": null,
            "justify_items": null,
            "left": null,
            "margin": null,
            "max_height": null,
            "max_width": null,
            "min_height": null,
            "min_width": null,
            "object_fit": null,
            "object_position": null,
            "order": null,
            "overflow": null,
            "overflow_x": null,
            "overflow_y": null,
            "padding": null,
            "right": null,
            "top": null,
            "visibility": null,
            "width": null
          }
        },
        "821b3384311d4ba6b5cbf57f8ce9f826": {
          "model_module": "@jupyter-widgets/controls",
          "model_name": "DescriptionStyleModel",
          "model_module_version": "1.5.0",
          "state": {
            "_model_module": "@jupyter-widgets/controls",
            "_model_module_version": "1.5.0",
            "_model_name": "DescriptionStyleModel",
            "_view_count": null,
            "_view_module": "@jupyter-widgets/base",
            "_view_module_version": "1.2.0",
            "_view_name": "StyleView",
            "description_width": ""
          }
        },
        "4e27088857b141bc81835d6a4a3f01ac": {
          "model_module": "@jupyter-widgets/controls",
          "model_name": "HBoxModel",
          "model_module_version": "1.5.0",
          "state": {
            "_dom_classes": [],
            "_model_module": "@jupyter-widgets/controls",
            "_model_module_version": "1.5.0",
            "_model_name": "HBoxModel",
            "_view_count": null,
            "_view_module": "@jupyter-widgets/controls",
            "_view_module_version": "1.5.0",
            "_view_name": "HBoxView",
            "box_style": "",
            "children": [
              "IPY_MODEL_9f49718f3cf44192a549b2e5524e2560",
              "IPY_MODEL_623017aa9872451b9966ecec1f2be28e",
              "IPY_MODEL_b2420f13ea0a461499ab83977d2b3f8a"
            ],
            "layout": "IPY_MODEL_b18b3b5131124f72ba24874b56ae2cb3"
          }
        },
        "9f49718f3cf44192a549b2e5524e2560": {
          "model_module": "@jupyter-widgets/controls",
          "model_name": "HTMLModel",
          "model_module_version": "1.5.0",
          "state": {
            "_dom_classes": [],
            "_model_module": "@jupyter-widgets/controls",
            "_model_module_version": "1.5.0",
            "_model_name": "HTMLModel",
            "_view_count": null,
            "_view_module": "@jupyter-widgets/controls",
            "_view_module_version": "1.5.0",
            "_view_name": "HTMLView",
            "description": "",
            "description_tooltip": null,
            "layout": "IPY_MODEL_9d6b8db078f24bb1b6bdb73beeded3f5",
            "placeholder": "​",
            "style": "IPY_MODEL_e0a2b34ced2545ccaa6ae54d41c3ff45",
            "value": "Map: 100%"
          }
        },
        "623017aa9872451b9966ecec1f2be28e": {
          "model_module": "@jupyter-widgets/controls",
          "model_name": "FloatProgressModel",
          "model_module_version": "1.5.0",
          "state": {
            "_dom_classes": [],
            "_model_module": "@jupyter-widgets/controls",
            "_model_module_version": "1.5.0",
            "_model_name": "FloatProgressModel",
            "_view_count": null,
            "_view_module": "@jupyter-widgets/controls",
            "_view_module_version": "1.5.0",
            "_view_name": "ProgressView",
            "bar_style": "success",
            "description": "",
            "description_tooltip": null,
            "layout": "IPY_MODEL_02dbe08f165c45b09e3c316b4f0e8ac3",
            "max": 3899,
            "min": 0,
            "orientation": "horizontal",
            "style": "IPY_MODEL_b9820f3f5c304f67bddf984c7667d808",
            "value": 3899
          }
        },
        "b2420f13ea0a461499ab83977d2b3f8a": {
          "model_module": "@jupyter-widgets/controls",
          "model_name": "HTMLModel",
          "model_module_version": "1.5.0",
          "state": {
            "_dom_classes": [],
            "_model_module": "@jupyter-widgets/controls",
            "_model_module_version": "1.5.0",
            "_model_name": "HTMLModel",
            "_view_count": null,
            "_view_module": "@jupyter-widgets/controls",
            "_view_module_version": "1.5.0",
            "_view_name": "HTMLView",
            "description": "",
            "description_tooltip": null,
            "layout": "IPY_MODEL_990cb1cd9be74c5fbef684535ae4905c",
            "placeholder": "​",
            "style": "IPY_MODEL_7b64ccaa57974bd5b49a02902cd77d58",
            "value": " 3899/3899 [00:00&lt;00:00, 8276.97 examples/s]"
          }
        },
        "b18b3b5131124f72ba24874b56ae2cb3": {
          "model_module": "@jupyter-widgets/base",
          "model_name": "LayoutModel",
          "model_module_version": "1.2.0",
          "state": {
            "_model_module": "@jupyter-widgets/base",
            "_model_module_version": "1.2.0",
            "_model_name": "LayoutModel",
            "_view_count": null,
            "_view_module": "@jupyter-widgets/base",
            "_view_module_version": "1.2.0",
            "_view_name": "LayoutView",
            "align_content": null,
            "align_items": null,
            "align_self": null,
            "border": null,
            "bottom": null,
            "display": null,
            "flex": null,
            "flex_flow": null,
            "grid_area": null,
            "grid_auto_columns": null,
            "grid_auto_flow": null,
            "grid_auto_rows": null,
            "grid_column": null,
            "grid_gap": null,
            "grid_row": null,
            "grid_template_areas": null,
            "grid_template_columns": null,
            "grid_template_rows": null,
            "height": null,
            "justify_content": null,
            "justify_items": null,
            "left": null,
            "margin": null,
            "max_height": null,
            "max_width": null,
            "min_height": null,
            "min_width": null,
            "object_fit": null,
            "object_position": null,
            "order": null,
            "overflow": null,
            "overflow_x": null,
            "overflow_y": null,
            "padding": null,
            "right": null,
            "top": null,
            "visibility": null,
            "width": null
          }
        },
        "9d6b8db078f24bb1b6bdb73beeded3f5": {
          "model_module": "@jupyter-widgets/base",
          "model_name": "LayoutModel",
          "model_module_version": "1.2.0",
          "state": {
            "_model_module": "@jupyter-widgets/base",
            "_model_module_version": "1.2.0",
            "_model_name": "LayoutModel",
            "_view_count": null,
            "_view_module": "@jupyter-widgets/base",
            "_view_module_version": "1.2.0",
            "_view_name": "LayoutView",
            "align_content": null,
            "align_items": null,
            "align_self": null,
            "border": null,
            "bottom": null,
            "display": null,
            "flex": null,
            "flex_flow": null,
            "grid_area": null,
            "grid_auto_columns": null,
            "grid_auto_flow": null,
            "grid_auto_rows": null,
            "grid_column": null,
            "grid_gap": null,
            "grid_row": null,
            "grid_template_areas": null,
            "grid_template_columns": null,
            "grid_template_rows": null,
            "height": null,
            "justify_content": null,
            "justify_items": null,
            "left": null,
            "margin": null,
            "max_height": null,
            "max_width": null,
            "min_height": null,
            "min_width": null,
            "object_fit": null,
            "object_position": null,
            "order": null,
            "overflow": null,
            "overflow_x": null,
            "overflow_y": null,
            "padding": null,
            "right": null,
            "top": null,
            "visibility": null,
            "width": null
          }
        },
        "e0a2b34ced2545ccaa6ae54d41c3ff45": {
          "model_module": "@jupyter-widgets/controls",
          "model_name": "DescriptionStyleModel",
          "model_module_version": "1.5.0",
          "state": {
            "_model_module": "@jupyter-widgets/controls",
            "_model_module_version": "1.5.0",
            "_model_name": "DescriptionStyleModel",
            "_view_count": null,
            "_view_module": "@jupyter-widgets/base",
            "_view_module_version": "1.2.0",
            "_view_name": "StyleView",
            "description_width": ""
          }
        },
        "02dbe08f165c45b09e3c316b4f0e8ac3": {
          "model_module": "@jupyter-widgets/base",
          "model_name": "LayoutModel",
          "model_module_version": "1.2.0",
          "state": {
            "_model_module": "@jupyter-widgets/base",
            "_model_module_version": "1.2.0",
            "_model_name": "LayoutModel",
            "_view_count": null,
            "_view_module": "@jupyter-widgets/base",
            "_view_module_version": "1.2.0",
            "_view_name": "LayoutView",
            "align_content": null,
            "align_items": null,
            "align_self": null,
            "border": null,
            "bottom": null,
            "display": null,
            "flex": null,
            "flex_flow": null,
            "grid_area": null,
            "grid_auto_columns": null,
            "grid_auto_flow": null,
            "grid_auto_rows": null,
            "grid_column": null,
            "grid_gap": null,
            "grid_row": null,
            "grid_template_areas": null,
            "grid_template_columns": null,
            "grid_template_rows": null,
            "height": null,
            "justify_content": null,
            "justify_items": null,
            "left": null,
            "margin": null,
            "max_height": null,
            "max_width": null,
            "min_height": null,
            "min_width": null,
            "object_fit": null,
            "object_position": null,
            "order": null,
            "overflow": null,
            "overflow_x": null,
            "overflow_y": null,
            "padding": null,
            "right": null,
            "top": null,
            "visibility": null,
            "width": null
          }
        },
        "b9820f3f5c304f67bddf984c7667d808": {
          "model_module": "@jupyter-widgets/controls",
          "model_name": "ProgressStyleModel",
          "model_module_version": "1.5.0",
          "state": {
            "_model_module": "@jupyter-widgets/controls",
            "_model_module_version": "1.5.0",
            "_model_name": "ProgressStyleModel",
            "_view_count": null,
            "_view_module": "@jupyter-widgets/base",
            "_view_module_version": "1.2.0",
            "_view_name": "StyleView",
            "bar_color": null,
            "description_width": ""
          }
        },
        "990cb1cd9be74c5fbef684535ae4905c": {
          "model_module": "@jupyter-widgets/base",
          "model_name": "LayoutModel",
          "model_module_version": "1.2.0",
          "state": {
            "_model_module": "@jupyter-widgets/base",
            "_model_module_version": "1.2.0",
            "_model_name": "LayoutModel",
            "_view_count": null,
            "_view_module": "@jupyter-widgets/base",
            "_view_module_version": "1.2.0",
            "_view_name": "LayoutView",
            "align_content": null,
            "align_items": null,
            "align_self": null,
            "border": null,
            "bottom": null,
            "display": null,
            "flex": null,
            "flex_flow": null,
            "grid_area": null,
            "grid_auto_columns": null,
            "grid_auto_flow": null,
            "grid_auto_rows": null,
            "grid_column": null,
            "grid_gap": null,
            "grid_row": null,
            "grid_template_areas": null,
            "grid_template_columns": null,
            "grid_template_rows": null,
            "height": null,
            "justify_content": null,
            "justify_items": null,
            "left": null,
            "margin": null,
            "max_height": null,
            "max_width": null,
            "min_height": null,
            "min_width": null,
            "object_fit": null,
            "object_position": null,
            "order": null,
            "overflow": null,
            "overflow_x": null,
            "overflow_y": null,
            "padding": null,
            "right": null,
            "top": null,
            "visibility": null,
            "width": null
          }
        },
        "7b64ccaa57974bd5b49a02902cd77d58": {
          "model_module": "@jupyter-widgets/controls",
          "model_name": "DescriptionStyleModel",
          "model_module_version": "1.5.0",
          "state": {
            "_model_module": "@jupyter-widgets/controls",
            "_model_module_version": "1.5.0",
            "_model_name": "DescriptionStyleModel",
            "_view_count": null,
            "_view_module": "@jupyter-widgets/base",
            "_view_module_version": "1.2.0",
            "_view_name": "StyleView",
            "description_width": ""
          }
        },
        "eb575ee5bbc04735be2c2575538ce58d": {
          "model_module": "@jupyter-widgets/controls",
          "model_name": "HBoxModel",
          "model_module_version": "1.5.0",
          "state": {
            "_dom_classes": [],
            "_model_module": "@jupyter-widgets/controls",
            "_model_module_version": "1.5.0",
            "_model_name": "HBoxModel",
            "_view_count": null,
            "_view_module": "@jupyter-widgets/controls",
            "_view_module_version": "1.5.0",
            "_view_name": "HBoxView",
            "box_style": "",
            "children": [
              "IPY_MODEL_9ade73f96e974f728ae770a881fe49d5",
              "IPY_MODEL_469fb810a7d64d64abcc50f2cdd0e13d",
              "IPY_MODEL_786bf952f73c4ee2b1572f86d688752e"
            ],
            "layout": "IPY_MODEL_2acbe088ad234f05b5e2d702c0c1dd83"
          }
        },
        "9ade73f96e974f728ae770a881fe49d5": {
          "model_module": "@jupyter-widgets/controls",
          "model_name": "HTMLModel",
          "model_module_version": "1.5.0",
          "state": {
            "_dom_classes": [],
            "_model_module": "@jupyter-widgets/controls",
            "_model_module_version": "1.5.0",
            "_model_name": "HTMLModel",
            "_view_count": null,
            "_view_module": "@jupyter-widgets/controls",
            "_view_module_version": "1.5.0",
            "_view_name": "HTMLView",
            "description": "",
            "description_tooltip": null,
            "layout": "IPY_MODEL_76f9f981c0b04da1b950e93956ee4d00",
            "placeholder": "​",
            "style": "IPY_MODEL_d654c735121d4c8aaa50ea6de36ca133",
            "value": "100%"
          }
        },
        "469fb810a7d64d64abcc50f2cdd0e13d": {
          "model_module": "@jupyter-widgets/controls",
          "model_name": "FloatProgressModel",
          "model_module_version": "1.5.0",
          "state": {
            "_dom_classes": [],
            "_model_module": "@jupyter-widgets/controls",
            "_model_module_version": "1.5.0",
            "_model_name": "FloatProgressModel",
            "_view_count": null,
            "_view_module": "@jupyter-widgets/controls",
            "_view_module_version": "1.5.0",
            "_view_name": "ProgressView",
            "bar_style": "success",
            "description": "",
            "description_tooltip": null,
            "layout": "IPY_MODEL_1b9a486ea4454d5fa3ced9c312ca971c",
            "max": 398,
            "min": 0,
            "orientation": "horizontal",
            "style": "IPY_MODEL_d0a30e6e4f5a4eac8aeceb30c3eb26f7",
            "value": 398
          }
        },
        "786bf952f73c4ee2b1572f86d688752e": {
          "model_module": "@jupyter-widgets/controls",
          "model_name": "HTMLModel",
          "model_module_version": "1.5.0",
          "state": {
            "_dom_classes": [],
            "_model_module": "@jupyter-widgets/controls",
            "_model_module_version": "1.5.0",
            "_model_name": "HTMLModel",
            "_view_count": null,
            "_view_module": "@jupyter-widgets/controls",
            "_view_module_version": "1.5.0",
            "_view_name": "HTMLView",
            "description": "",
            "description_tooltip": null,
            "layout": "IPY_MODEL_6816270d5f834b8eb47ecb5fb4e260df",
            "placeholder": "​",
            "style": "IPY_MODEL_fc452e0f869a4f48ba9db05f42b2c0c7",
            "value": " 398/398 [12:38&lt;00:00,  1.37s/it]"
          }
        },
        "2acbe088ad234f05b5e2d702c0c1dd83": {
          "model_module": "@jupyter-widgets/base",
          "model_name": "LayoutModel",
          "model_module_version": "1.2.0",
          "state": {
            "_model_module": "@jupyter-widgets/base",
            "_model_module_version": "1.2.0",
            "_model_name": "LayoutModel",
            "_view_count": null,
            "_view_module": "@jupyter-widgets/base",
            "_view_module_version": "1.2.0",
            "_view_name": "LayoutView",
            "align_content": null,
            "align_items": null,
            "align_self": null,
            "border": null,
            "bottom": null,
            "display": null,
            "flex": null,
            "flex_flow": null,
            "grid_area": null,
            "grid_auto_columns": null,
            "grid_auto_flow": null,
            "grid_auto_rows": null,
            "grid_column": null,
            "grid_gap": null,
            "grid_row": null,
            "grid_template_areas": null,
            "grid_template_columns": null,
            "grid_template_rows": null,
            "height": null,
            "justify_content": null,
            "justify_items": null,
            "left": null,
            "margin": null,
            "max_height": null,
            "max_width": null,
            "min_height": null,
            "min_width": null,
            "object_fit": null,
            "object_position": null,
            "order": null,
            "overflow": null,
            "overflow_x": null,
            "overflow_y": null,
            "padding": null,
            "right": null,
            "top": null,
            "visibility": null,
            "width": null
          }
        },
        "76f9f981c0b04da1b950e93956ee4d00": {
          "model_module": "@jupyter-widgets/base",
          "model_name": "LayoutModel",
          "model_module_version": "1.2.0",
          "state": {
            "_model_module": "@jupyter-widgets/base",
            "_model_module_version": "1.2.0",
            "_model_name": "LayoutModel",
            "_view_count": null,
            "_view_module": "@jupyter-widgets/base",
            "_view_module_version": "1.2.0",
            "_view_name": "LayoutView",
            "align_content": null,
            "align_items": null,
            "align_self": null,
            "border": null,
            "bottom": null,
            "display": null,
            "flex": null,
            "flex_flow": null,
            "grid_area": null,
            "grid_auto_columns": null,
            "grid_auto_flow": null,
            "grid_auto_rows": null,
            "grid_column": null,
            "grid_gap": null,
            "grid_row": null,
            "grid_template_areas": null,
            "grid_template_columns": null,
            "grid_template_rows": null,
            "height": null,
            "justify_content": null,
            "justify_items": null,
            "left": null,
            "margin": null,
            "max_height": null,
            "max_width": null,
            "min_height": null,
            "min_width": null,
            "object_fit": null,
            "object_position": null,
            "order": null,
            "overflow": null,
            "overflow_x": null,
            "overflow_y": null,
            "padding": null,
            "right": null,
            "top": null,
            "visibility": null,
            "width": null
          }
        },
        "d654c735121d4c8aaa50ea6de36ca133": {
          "model_module": "@jupyter-widgets/controls",
          "model_name": "DescriptionStyleModel",
          "model_module_version": "1.5.0",
          "state": {
            "_model_module": "@jupyter-widgets/controls",
            "_model_module_version": "1.5.0",
            "_model_name": "DescriptionStyleModel",
            "_view_count": null,
            "_view_module": "@jupyter-widgets/base",
            "_view_module_version": "1.2.0",
            "_view_name": "StyleView",
            "description_width": ""
          }
        },
        "1b9a486ea4454d5fa3ced9c312ca971c": {
          "model_module": "@jupyter-widgets/base",
          "model_name": "LayoutModel",
          "model_module_version": "1.2.0",
          "state": {
            "_model_module": "@jupyter-widgets/base",
            "_model_module_version": "1.2.0",
            "_model_name": "LayoutModel",
            "_view_count": null,
            "_view_module": "@jupyter-widgets/base",
            "_view_module_version": "1.2.0",
            "_view_name": "LayoutView",
            "align_content": null,
            "align_items": null,
            "align_self": null,
            "border": null,
            "bottom": null,
            "display": null,
            "flex": null,
            "flex_flow": null,
            "grid_area": null,
            "grid_auto_columns": null,
            "grid_auto_flow": null,
            "grid_auto_rows": null,
            "grid_column": null,
            "grid_gap": null,
            "grid_row": null,
            "grid_template_areas": null,
            "grid_template_columns": null,
            "grid_template_rows": null,
            "height": null,
            "justify_content": null,
            "justify_items": null,
            "left": null,
            "margin": null,
            "max_height": null,
            "max_width": null,
            "min_height": null,
            "min_width": null,
            "object_fit": null,
            "object_position": null,
            "order": null,
            "overflow": null,
            "overflow_x": null,
            "overflow_y": null,
            "padding": null,
            "right": null,
            "top": null,
            "visibility": null,
            "width": null
          }
        },
        "d0a30e6e4f5a4eac8aeceb30c3eb26f7": {
          "model_module": "@jupyter-widgets/controls",
          "model_name": "ProgressStyleModel",
          "model_module_version": "1.5.0",
          "state": {
            "_model_module": "@jupyter-widgets/controls",
            "_model_module_version": "1.5.0",
            "_model_name": "ProgressStyleModel",
            "_view_count": null,
            "_view_module": "@jupyter-widgets/base",
            "_view_module_version": "1.2.0",
            "_view_name": "StyleView",
            "bar_color": null,
            "description_width": ""
          }
        },
        "6816270d5f834b8eb47ecb5fb4e260df": {
          "model_module": "@jupyter-widgets/base",
          "model_name": "LayoutModel",
          "model_module_version": "1.2.0",
          "state": {
            "_model_module": "@jupyter-widgets/base",
            "_model_module_version": "1.2.0",
            "_model_name": "LayoutModel",
            "_view_count": null,
            "_view_module": "@jupyter-widgets/base",
            "_view_module_version": "1.2.0",
            "_view_name": "LayoutView",
            "align_content": null,
            "align_items": null,
            "align_self": null,
            "border": null,
            "bottom": null,
            "display": null,
            "flex": null,
            "flex_flow": null,
            "grid_area": null,
            "grid_auto_columns": null,
            "grid_auto_flow": null,
            "grid_auto_rows": null,
            "grid_column": null,
            "grid_gap": null,
            "grid_row": null,
            "grid_template_areas": null,
            "grid_template_columns": null,
            "grid_template_rows": null,
            "height": null,
            "justify_content": null,
            "justify_items": null,
            "left": null,
            "margin": null,
            "max_height": null,
            "max_width": null,
            "min_height": null,
            "min_width": null,
            "object_fit": null,
            "object_position": null,
            "order": null,
            "overflow": null,
            "overflow_x": null,
            "overflow_y": null,
            "padding": null,
            "right": null,
            "top": null,
            "visibility": null,
            "width": null
          }
        },
        "fc452e0f869a4f48ba9db05f42b2c0c7": {
          "model_module": "@jupyter-widgets/controls",
          "model_name": "DescriptionStyleModel",
          "model_module_version": "1.5.0",
          "state": {
            "_model_module": "@jupyter-widgets/controls",
            "_model_module_version": "1.5.0",
            "_model_name": "DescriptionStyleModel",
            "_view_count": null,
            "_view_module": "@jupyter-widgets/base",
            "_view_module_version": "1.2.0",
            "_view_name": "StyleView",
            "description_width": ""
          }
        },
        "0b09a048ff334566a8c4daeb81a8d9c6": {
          "model_module": "@jupyter-widgets/controls",
          "model_name": "HBoxModel",
          "model_module_version": "1.5.0",
          "state": {
            "_dom_classes": [],
            "_model_module": "@jupyter-widgets/controls",
            "_model_module_version": "1.5.0",
            "_model_name": "HBoxModel",
            "_view_count": null,
            "_view_module": "@jupyter-widgets/controls",
            "_view_module_version": "1.5.0",
            "_view_name": "HBoxView",
            "box_style": "",
            "children": [
              "IPY_MODEL_bf1f663579b64e93ba542173017019c7",
              "IPY_MODEL_985272faa8ac408bb185433d23127a95",
              "IPY_MODEL_5bcd4d5e39cd4bb1aec0e6b40107b97f"
            ],
            "layout": "IPY_MODEL_65bee549fb55401e9243fe148169f765"
          }
        },
        "bf1f663579b64e93ba542173017019c7": {
          "model_module": "@jupyter-widgets/controls",
          "model_name": "HTMLModel",
          "model_module_version": "1.5.0",
          "state": {
            "_dom_classes": [],
            "_model_module": "@jupyter-widgets/controls",
            "_model_module_version": "1.5.0",
            "_model_name": "HTMLModel",
            "_view_count": null,
            "_view_module": "@jupyter-widgets/controls",
            "_view_module_version": "1.5.0",
            "_view_name": "HTMLView",
            "description": "",
            "description_tooltip": null,
            "layout": "IPY_MODEL_a52fa738c84b48a2b347014a203679b4",
            "placeholder": "​",
            "style": "IPY_MODEL_402a74e6bcdf4257bfc5d39f075d07e9",
            "value": "Map: 100%"
          }
        },
        "985272faa8ac408bb185433d23127a95": {
          "model_module": "@jupyter-widgets/controls",
          "model_name": "FloatProgressModel",
          "model_module_version": "1.5.0",
          "state": {
            "_dom_classes": [],
            "_model_module": "@jupyter-widgets/controls",
            "_model_module_version": "1.5.0",
            "_model_name": "FloatProgressModel",
            "_view_count": null,
            "_view_module": "@jupyter-widgets/controls",
            "_view_module_version": "1.5.0",
            "_view_name": "ProgressView",
            "bar_style": "success",
            "description": "",
            "description_tooltip": null,
            "layout": "IPY_MODEL_1d0f3e54090d45baa7560004036eed68",
            "max": 11593,
            "min": 0,
            "orientation": "horizontal",
            "style": "IPY_MODEL_761f2ced64ee4000b51b2dc8d59fa589",
            "value": 11593
          }
        },
        "5bcd4d5e39cd4bb1aec0e6b40107b97f": {
          "model_module": "@jupyter-widgets/controls",
          "model_name": "HTMLModel",
          "model_module_version": "1.5.0",
          "state": {
            "_dom_classes": [],
            "_model_module": "@jupyter-widgets/controls",
            "_model_module_version": "1.5.0",
            "_model_name": "HTMLModel",
            "_view_count": null,
            "_view_module": "@jupyter-widgets/controls",
            "_view_module_version": "1.5.0",
            "_view_name": "HTMLView",
            "description": "",
            "description_tooltip": null,
            "layout": "IPY_MODEL_9135b0736bb2443799f94ba8db5f8e16",
            "placeholder": "​",
            "style": "IPY_MODEL_a9ba3eb3ac1b484db2930308f73b7d63",
            "value": " 11593/11593 [00:01&lt;00:00, 8287.03 examples/s]"
          }
        },
        "65bee549fb55401e9243fe148169f765": {
          "model_module": "@jupyter-widgets/base",
          "model_name": "LayoutModel",
          "model_module_version": "1.2.0",
          "state": {
            "_model_module": "@jupyter-widgets/base",
            "_model_module_version": "1.2.0",
            "_model_name": "LayoutModel",
            "_view_count": null,
            "_view_module": "@jupyter-widgets/base",
            "_view_module_version": "1.2.0",
            "_view_name": "LayoutView",
            "align_content": null,
            "align_items": null,
            "align_self": null,
            "border": null,
            "bottom": null,
            "display": null,
            "flex": null,
            "flex_flow": null,
            "grid_area": null,
            "grid_auto_columns": null,
            "grid_auto_flow": null,
            "grid_auto_rows": null,
            "grid_column": null,
            "grid_gap": null,
            "grid_row": null,
            "grid_template_areas": null,
            "grid_template_columns": null,
            "grid_template_rows": null,
            "height": null,
            "justify_content": null,
            "justify_items": null,
            "left": null,
            "margin": null,
            "max_height": null,
            "max_width": null,
            "min_height": null,
            "min_width": null,
            "object_fit": null,
            "object_position": null,
            "order": null,
            "overflow": null,
            "overflow_x": null,
            "overflow_y": null,
            "padding": null,
            "right": null,
            "top": null,
            "visibility": null,
            "width": null
          }
        },
        "a52fa738c84b48a2b347014a203679b4": {
          "model_module": "@jupyter-widgets/base",
          "model_name": "LayoutModel",
          "model_module_version": "1.2.0",
          "state": {
            "_model_module": "@jupyter-widgets/base",
            "_model_module_version": "1.2.0",
            "_model_name": "LayoutModel",
            "_view_count": null,
            "_view_module": "@jupyter-widgets/base",
            "_view_module_version": "1.2.0",
            "_view_name": "LayoutView",
            "align_content": null,
            "align_items": null,
            "align_self": null,
            "border": null,
            "bottom": null,
            "display": null,
            "flex": null,
            "flex_flow": null,
            "grid_area": null,
            "grid_auto_columns": null,
            "grid_auto_flow": null,
            "grid_auto_rows": null,
            "grid_column": null,
            "grid_gap": null,
            "grid_row": null,
            "grid_template_areas": null,
            "grid_template_columns": null,
            "grid_template_rows": null,
            "height": null,
            "justify_content": null,
            "justify_items": null,
            "left": null,
            "margin": null,
            "max_height": null,
            "max_width": null,
            "min_height": null,
            "min_width": null,
            "object_fit": null,
            "object_position": null,
            "order": null,
            "overflow": null,
            "overflow_x": null,
            "overflow_y": null,
            "padding": null,
            "right": null,
            "top": null,
            "visibility": null,
            "width": null
          }
        },
        "402a74e6bcdf4257bfc5d39f075d07e9": {
          "model_module": "@jupyter-widgets/controls",
          "model_name": "DescriptionStyleModel",
          "model_module_version": "1.5.0",
          "state": {
            "_model_module": "@jupyter-widgets/controls",
            "_model_module_version": "1.5.0",
            "_model_name": "DescriptionStyleModel",
            "_view_count": null,
            "_view_module": "@jupyter-widgets/base",
            "_view_module_version": "1.2.0",
            "_view_name": "StyleView",
            "description_width": ""
          }
        },
        "1d0f3e54090d45baa7560004036eed68": {
          "model_module": "@jupyter-widgets/base",
          "model_name": "LayoutModel",
          "model_module_version": "1.2.0",
          "state": {
            "_model_module": "@jupyter-widgets/base",
            "_model_module_version": "1.2.0",
            "_model_name": "LayoutModel",
            "_view_count": null,
            "_view_module": "@jupyter-widgets/base",
            "_view_module_version": "1.2.0",
            "_view_name": "LayoutView",
            "align_content": null,
            "align_items": null,
            "align_self": null,
            "border": null,
            "bottom": null,
            "display": null,
            "flex": null,
            "flex_flow": null,
            "grid_area": null,
            "grid_auto_columns": null,
            "grid_auto_flow": null,
            "grid_auto_rows": null,
            "grid_column": null,
            "grid_gap": null,
            "grid_row": null,
            "grid_template_areas": null,
            "grid_template_columns": null,
            "grid_template_rows": null,
            "height": null,
            "justify_content": null,
            "justify_items": null,
            "left": null,
            "margin": null,
            "max_height": null,
            "max_width": null,
            "min_height": null,
            "min_width": null,
            "object_fit": null,
            "object_position": null,
            "order": null,
            "overflow": null,
            "overflow_x": null,
            "overflow_y": null,
            "padding": null,
            "right": null,
            "top": null,
            "visibility": null,
            "width": null
          }
        },
        "761f2ced64ee4000b51b2dc8d59fa589": {
          "model_module": "@jupyter-widgets/controls",
          "model_name": "ProgressStyleModel",
          "model_module_version": "1.5.0",
          "state": {
            "_model_module": "@jupyter-widgets/controls",
            "_model_module_version": "1.5.0",
            "_model_name": "ProgressStyleModel",
            "_view_count": null,
            "_view_module": "@jupyter-widgets/base",
            "_view_module_version": "1.2.0",
            "_view_name": "StyleView",
            "bar_color": null,
            "description_width": ""
          }
        },
        "9135b0736bb2443799f94ba8db5f8e16": {
          "model_module": "@jupyter-widgets/base",
          "model_name": "LayoutModel",
          "model_module_version": "1.2.0",
          "state": {
            "_model_module": "@jupyter-widgets/base",
            "_model_module_version": "1.2.0",
            "_model_name": "LayoutModel",
            "_view_count": null,
            "_view_module": "@jupyter-widgets/base",
            "_view_module_version": "1.2.0",
            "_view_name": "LayoutView",
            "align_content": null,
            "align_items": null,
            "align_self": null,
            "border": null,
            "bottom": null,
            "display": null,
            "flex": null,
            "flex_flow": null,
            "grid_area": null,
            "grid_auto_columns": null,
            "grid_auto_flow": null,
            "grid_auto_rows": null,
            "grid_column": null,
            "grid_gap": null,
            "grid_row": null,
            "grid_template_areas": null,
            "grid_template_columns": null,
            "grid_template_rows": null,
            "height": null,
            "justify_content": null,
            "justify_items": null,
            "left": null,
            "margin": null,
            "max_height": null,
            "max_width": null,
            "min_height": null,
            "min_width": null,
            "object_fit": null,
            "object_position": null,
            "order": null,
            "overflow": null,
            "overflow_x": null,
            "overflow_y": null,
            "padding": null,
            "right": null,
            "top": null,
            "visibility": null,
            "width": null
          }
        },
        "a9ba3eb3ac1b484db2930308f73b7d63": {
          "model_module": "@jupyter-widgets/controls",
          "model_name": "DescriptionStyleModel",
          "model_module_version": "1.5.0",
          "state": {
            "_model_module": "@jupyter-widgets/controls",
            "_model_module_version": "1.5.0",
            "_model_name": "DescriptionStyleModel",
            "_view_count": null,
            "_view_module": "@jupyter-widgets/base",
            "_view_module_version": "1.2.0",
            "_view_name": "StyleView",
            "description_width": ""
          }
        },
        "bed0ef8e17694286bf7c64dc5088476f": {
          "model_module": "@jupyter-widgets/controls",
          "model_name": "HBoxModel",
          "model_module_version": "1.5.0",
          "state": {
            "_dom_classes": [],
            "_model_module": "@jupyter-widgets/controls",
            "_model_module_version": "1.5.0",
            "_model_name": "HBoxModel",
            "_view_count": null,
            "_view_module": "@jupyter-widgets/controls",
            "_view_module_version": "1.5.0",
            "_view_name": "HBoxView",
            "box_style": "",
            "children": [
              "IPY_MODEL_24b66057ae094131bb4bf63a6af902e5",
              "IPY_MODEL_4b52592772d143acaeb38b8f321c7360",
              "IPY_MODEL_03c7b4faf02f4d68952aa48bcc0d171f"
            ],
            "layout": "IPY_MODEL_3b325528ef1442ef84119ab7a7b43bcd"
          }
        },
        "24b66057ae094131bb4bf63a6af902e5": {
          "model_module": "@jupyter-widgets/controls",
          "model_name": "HTMLModel",
          "model_module_version": "1.5.0",
          "state": {
            "_dom_classes": [],
            "_model_module": "@jupyter-widgets/controls",
            "_model_module_version": "1.5.0",
            "_model_name": "HTMLModel",
            "_view_count": null,
            "_view_module": "@jupyter-widgets/controls",
            "_view_module_version": "1.5.0",
            "_view_name": "HTMLView",
            "description": "",
            "description_tooltip": null,
            "layout": "IPY_MODEL_a06719b40a14499daba751cd41787ad3",
            "placeholder": "​",
            "style": "IPY_MODEL_7121e3834aa24afca8039d789286eb56",
            "value": "Map: 100%"
          }
        },
        "4b52592772d143acaeb38b8f321c7360": {
          "model_module": "@jupyter-widgets/controls",
          "model_name": "FloatProgressModel",
          "model_module_version": "1.5.0",
          "state": {
            "_dom_classes": [],
            "_model_module": "@jupyter-widgets/controls",
            "_model_module_version": "1.5.0",
            "_model_name": "FloatProgressModel",
            "_view_count": null,
            "_view_module": "@jupyter-widgets/controls",
            "_view_module_version": "1.5.0",
            "_view_name": "ProgressView",
            "bar_style": "success",
            "description": "",
            "description_tooltip": null,
            "layout": "IPY_MODEL_f4b6582b682f45fd9199b7aa45016ce4",
            "max": 1156,
            "min": 0,
            "orientation": "horizontal",
            "style": "IPY_MODEL_59b1a4c141374729b0d0095a90b8d8e9",
            "value": 1156
          }
        },
        "03c7b4faf02f4d68952aa48bcc0d171f": {
          "model_module": "@jupyter-widgets/controls",
          "model_name": "HTMLModel",
          "model_module_version": "1.5.0",
          "state": {
            "_dom_classes": [],
            "_model_module": "@jupyter-widgets/controls",
            "_model_module_version": "1.5.0",
            "_model_name": "HTMLModel",
            "_view_count": null,
            "_view_module": "@jupyter-widgets/controls",
            "_view_module_version": "1.5.0",
            "_view_name": "HTMLView",
            "description": "",
            "description_tooltip": null,
            "layout": "IPY_MODEL_0829dc981d2d4423a21ae6e46b194d4a",
            "placeholder": "​",
            "style": "IPY_MODEL_0ec955aa631d4bb6a5311e8fc54aea17",
            "value": " 1156/1156 [00:00&lt;00:00, 7136.88 examples/s]"
          }
        },
        "3b325528ef1442ef84119ab7a7b43bcd": {
          "model_module": "@jupyter-widgets/base",
          "model_name": "LayoutModel",
          "model_module_version": "1.2.0",
          "state": {
            "_model_module": "@jupyter-widgets/base",
            "_model_module_version": "1.2.0",
            "_model_name": "LayoutModel",
            "_view_count": null,
            "_view_module": "@jupyter-widgets/base",
            "_view_module_version": "1.2.0",
            "_view_name": "LayoutView",
            "align_content": null,
            "align_items": null,
            "align_self": null,
            "border": null,
            "bottom": null,
            "display": null,
            "flex": null,
            "flex_flow": null,
            "grid_area": null,
            "grid_auto_columns": null,
            "grid_auto_flow": null,
            "grid_auto_rows": null,
            "grid_column": null,
            "grid_gap": null,
            "grid_row": null,
            "grid_template_areas": null,
            "grid_template_columns": null,
            "grid_template_rows": null,
            "height": null,
            "justify_content": null,
            "justify_items": null,
            "left": null,
            "margin": null,
            "max_height": null,
            "max_width": null,
            "min_height": null,
            "min_width": null,
            "object_fit": null,
            "object_position": null,
            "order": null,
            "overflow": null,
            "overflow_x": null,
            "overflow_y": null,
            "padding": null,
            "right": null,
            "top": null,
            "visibility": null,
            "width": null
          }
        },
        "a06719b40a14499daba751cd41787ad3": {
          "model_module": "@jupyter-widgets/base",
          "model_name": "LayoutModel",
          "model_module_version": "1.2.0",
          "state": {
            "_model_module": "@jupyter-widgets/base",
            "_model_module_version": "1.2.0",
            "_model_name": "LayoutModel",
            "_view_count": null,
            "_view_module": "@jupyter-widgets/base",
            "_view_module_version": "1.2.0",
            "_view_name": "LayoutView",
            "align_content": null,
            "align_items": null,
            "align_self": null,
            "border": null,
            "bottom": null,
            "display": null,
            "flex": null,
            "flex_flow": null,
            "grid_area": null,
            "grid_auto_columns": null,
            "grid_auto_flow": null,
            "grid_auto_rows": null,
            "grid_column": null,
            "grid_gap": null,
            "grid_row": null,
            "grid_template_areas": null,
            "grid_template_columns": null,
            "grid_template_rows": null,
            "height": null,
            "justify_content": null,
            "justify_items": null,
            "left": null,
            "margin": null,
            "max_height": null,
            "max_width": null,
            "min_height": null,
            "min_width": null,
            "object_fit": null,
            "object_position": null,
            "order": null,
            "overflow": null,
            "overflow_x": null,
            "overflow_y": null,
            "padding": null,
            "right": null,
            "top": null,
            "visibility": null,
            "width": null
          }
        },
        "7121e3834aa24afca8039d789286eb56": {
          "model_module": "@jupyter-widgets/controls",
          "model_name": "DescriptionStyleModel",
          "model_module_version": "1.5.0",
          "state": {
            "_model_module": "@jupyter-widgets/controls",
            "_model_module_version": "1.5.0",
            "_model_name": "DescriptionStyleModel",
            "_view_count": null,
            "_view_module": "@jupyter-widgets/base",
            "_view_module_version": "1.2.0",
            "_view_name": "StyleView",
            "description_width": ""
          }
        },
        "f4b6582b682f45fd9199b7aa45016ce4": {
          "model_module": "@jupyter-widgets/base",
          "model_name": "LayoutModel",
          "model_module_version": "1.2.0",
          "state": {
            "_model_module": "@jupyter-widgets/base",
            "_model_module_version": "1.2.0",
            "_model_name": "LayoutModel",
            "_view_count": null,
            "_view_module": "@jupyter-widgets/base",
            "_view_module_version": "1.2.0",
            "_view_name": "LayoutView",
            "align_content": null,
            "align_items": null,
            "align_self": null,
            "border": null,
            "bottom": null,
            "display": null,
            "flex": null,
            "flex_flow": null,
            "grid_area": null,
            "grid_auto_columns": null,
            "grid_auto_flow": null,
            "grid_auto_rows": null,
            "grid_column": null,
            "grid_gap": null,
            "grid_row": null,
            "grid_template_areas": null,
            "grid_template_columns": null,
            "grid_template_rows": null,
            "height": null,
            "justify_content": null,
            "justify_items": null,
            "left": null,
            "margin": null,
            "max_height": null,
            "max_width": null,
            "min_height": null,
            "min_width": null,
            "object_fit": null,
            "object_position": null,
            "order": null,
            "overflow": null,
            "overflow_x": null,
            "overflow_y": null,
            "padding": null,
            "right": null,
            "top": null,
            "visibility": null,
            "width": null
          }
        },
        "59b1a4c141374729b0d0095a90b8d8e9": {
          "model_module": "@jupyter-widgets/controls",
          "model_name": "ProgressStyleModel",
          "model_module_version": "1.5.0",
          "state": {
            "_model_module": "@jupyter-widgets/controls",
            "_model_module_version": "1.5.0",
            "_model_name": "ProgressStyleModel",
            "_view_count": null,
            "_view_module": "@jupyter-widgets/base",
            "_view_module_version": "1.2.0",
            "_view_name": "StyleView",
            "bar_color": null,
            "description_width": ""
          }
        },
        "0829dc981d2d4423a21ae6e46b194d4a": {
          "model_module": "@jupyter-widgets/base",
          "model_name": "LayoutModel",
          "model_module_version": "1.2.0",
          "state": {
            "_model_module": "@jupyter-widgets/base",
            "_model_module_version": "1.2.0",
            "_model_name": "LayoutModel",
            "_view_count": null,
            "_view_module": "@jupyter-widgets/base",
            "_view_module_version": "1.2.0",
            "_view_name": "LayoutView",
            "align_content": null,
            "align_items": null,
            "align_self": null,
            "border": null,
            "bottom": null,
            "display": null,
            "flex": null,
            "flex_flow": null,
            "grid_area": null,
            "grid_auto_columns": null,
            "grid_auto_flow": null,
            "grid_auto_rows": null,
            "grid_column": null,
            "grid_gap": null,
            "grid_row": null,
            "grid_template_areas": null,
            "grid_template_columns": null,
            "grid_template_rows": null,
            "height": null,
            "justify_content": null,
            "justify_items": null,
            "left": null,
            "margin": null,
            "max_height": null,
            "max_width": null,
            "min_height": null,
            "min_width": null,
            "object_fit": null,
            "object_position": null,
            "order": null,
            "overflow": null,
            "overflow_x": null,
            "overflow_y": null,
            "padding": null,
            "right": null,
            "top": null,
            "visibility": null,
            "width": null
          }
        },
        "0ec955aa631d4bb6a5311e8fc54aea17": {
          "model_module": "@jupyter-widgets/controls",
          "model_name": "DescriptionStyleModel",
          "model_module_version": "1.5.0",
          "state": {
            "_model_module": "@jupyter-widgets/controls",
            "_model_module_version": "1.5.0",
            "_model_name": "DescriptionStyleModel",
            "_view_count": null,
            "_view_module": "@jupyter-widgets/base",
            "_view_module_version": "1.2.0",
            "_view_name": "StyleView",
            "description_width": ""
          }
        },
        "462517b5c288448384bf13642bfb27eb": {
          "model_module": "@jupyter-widgets/controls",
          "model_name": "HBoxModel",
          "model_module_version": "1.5.0",
          "state": {
            "_dom_classes": [],
            "_model_module": "@jupyter-widgets/controls",
            "_model_module_version": "1.5.0",
            "_model_name": "HBoxModel",
            "_view_count": null,
            "_view_module": "@jupyter-widgets/controls",
            "_view_module_version": "1.5.0",
            "_view_name": "HBoxView",
            "box_style": "",
            "children": [
              "IPY_MODEL_53cd8778d32c414ba8784a3139bd2fd9",
              "IPY_MODEL_de0ef39134ce485ea6f6f74840e70d83",
              "IPY_MODEL_437d953504df442db2aec20d92cc430c"
            ],
            "layout": "IPY_MODEL_96d1e77e7031408cb5dbc4c12b526d7c"
          }
        },
        "53cd8778d32c414ba8784a3139bd2fd9": {
          "model_module": "@jupyter-widgets/controls",
          "model_name": "HTMLModel",
          "model_module_version": "1.5.0",
          "state": {
            "_dom_classes": [],
            "_model_module": "@jupyter-widgets/controls",
            "_model_module_version": "1.5.0",
            "_model_name": "HTMLModel",
            "_view_count": null,
            "_view_module": "@jupyter-widgets/controls",
            "_view_module_version": "1.5.0",
            "_view_name": "HTMLView",
            "description": "",
            "description_tooltip": null,
            "layout": "IPY_MODEL_074ad4d23070412ca84cb7e872d5afba",
            "placeholder": "​",
            "style": "IPY_MODEL_b7a10c3359ed4788afdedb0e45abf9e5",
            "value": "Map: 100%"
          }
        },
        "de0ef39134ce485ea6f6f74840e70d83": {
          "model_module": "@jupyter-widgets/controls",
          "model_name": "FloatProgressModel",
          "model_module_version": "1.5.0",
          "state": {
            "_dom_classes": [],
            "_model_module": "@jupyter-widgets/controls",
            "_model_module_version": "1.5.0",
            "_model_name": "FloatProgressModel",
            "_view_count": null,
            "_view_module": "@jupyter-widgets/controls",
            "_view_module_version": "1.5.0",
            "_view_name": "ProgressView",
            "bar_style": "success",
            "description": "",
            "description_tooltip": null,
            "layout": "IPY_MODEL_a4c24a9105014b629069f1d04e24da9f",
            "max": 3899,
            "min": 0,
            "orientation": "horizontal",
            "style": "IPY_MODEL_53f5a243727a48de8f9308dcb0726ab8",
            "value": 3899
          }
        },
        "437d953504df442db2aec20d92cc430c": {
          "model_module": "@jupyter-widgets/controls",
          "model_name": "HTMLModel",
          "model_module_version": "1.5.0",
          "state": {
            "_dom_classes": [],
            "_model_module": "@jupyter-widgets/controls",
            "_model_module_version": "1.5.0",
            "_model_name": "HTMLModel",
            "_view_count": null,
            "_view_module": "@jupyter-widgets/controls",
            "_view_module_version": "1.5.0",
            "_view_name": "HTMLView",
            "description": "",
            "description_tooltip": null,
            "layout": "IPY_MODEL_a006dac5aacc443898f3cb3eb5c7e18a",
            "placeholder": "​",
            "style": "IPY_MODEL_05f2dcb1a21a4e1eae6ecfaf7126ae74",
            "value": " 3899/3899 [00:00&lt;00:00, 8136.85 examples/s]"
          }
        },
        "96d1e77e7031408cb5dbc4c12b526d7c": {
          "model_module": "@jupyter-widgets/base",
          "model_name": "LayoutModel",
          "model_module_version": "1.2.0",
          "state": {
            "_model_module": "@jupyter-widgets/base",
            "_model_module_version": "1.2.0",
            "_model_name": "LayoutModel",
            "_view_count": null,
            "_view_module": "@jupyter-widgets/base",
            "_view_module_version": "1.2.0",
            "_view_name": "LayoutView",
            "align_content": null,
            "align_items": null,
            "align_self": null,
            "border": null,
            "bottom": null,
            "display": null,
            "flex": null,
            "flex_flow": null,
            "grid_area": null,
            "grid_auto_columns": null,
            "grid_auto_flow": null,
            "grid_auto_rows": null,
            "grid_column": null,
            "grid_gap": null,
            "grid_row": null,
            "grid_template_areas": null,
            "grid_template_columns": null,
            "grid_template_rows": null,
            "height": null,
            "justify_content": null,
            "justify_items": null,
            "left": null,
            "margin": null,
            "max_height": null,
            "max_width": null,
            "min_height": null,
            "min_width": null,
            "object_fit": null,
            "object_position": null,
            "order": null,
            "overflow": null,
            "overflow_x": null,
            "overflow_y": null,
            "padding": null,
            "right": null,
            "top": null,
            "visibility": null,
            "width": null
          }
        },
        "074ad4d23070412ca84cb7e872d5afba": {
          "model_module": "@jupyter-widgets/base",
          "model_name": "LayoutModel",
          "model_module_version": "1.2.0",
          "state": {
            "_model_module": "@jupyter-widgets/base",
            "_model_module_version": "1.2.0",
            "_model_name": "LayoutModel",
            "_view_count": null,
            "_view_module": "@jupyter-widgets/base",
            "_view_module_version": "1.2.0",
            "_view_name": "LayoutView",
            "align_content": null,
            "align_items": null,
            "align_self": null,
            "border": null,
            "bottom": null,
            "display": null,
            "flex": null,
            "flex_flow": null,
            "grid_area": null,
            "grid_auto_columns": null,
            "grid_auto_flow": null,
            "grid_auto_rows": null,
            "grid_column": null,
            "grid_gap": null,
            "grid_row": null,
            "grid_template_areas": null,
            "grid_template_columns": null,
            "grid_template_rows": null,
            "height": null,
            "justify_content": null,
            "justify_items": null,
            "left": null,
            "margin": null,
            "max_height": null,
            "max_width": null,
            "min_height": null,
            "min_width": null,
            "object_fit": null,
            "object_position": null,
            "order": null,
            "overflow": null,
            "overflow_x": null,
            "overflow_y": null,
            "padding": null,
            "right": null,
            "top": null,
            "visibility": null,
            "width": null
          }
        },
        "b7a10c3359ed4788afdedb0e45abf9e5": {
          "model_module": "@jupyter-widgets/controls",
          "model_name": "DescriptionStyleModel",
          "model_module_version": "1.5.0",
          "state": {
            "_model_module": "@jupyter-widgets/controls",
            "_model_module_version": "1.5.0",
            "_model_name": "DescriptionStyleModel",
            "_view_count": null,
            "_view_module": "@jupyter-widgets/base",
            "_view_module_version": "1.2.0",
            "_view_name": "StyleView",
            "description_width": ""
          }
        },
        "a4c24a9105014b629069f1d04e24da9f": {
          "model_module": "@jupyter-widgets/base",
          "model_name": "LayoutModel",
          "model_module_version": "1.2.0",
          "state": {
            "_model_module": "@jupyter-widgets/base",
            "_model_module_version": "1.2.0",
            "_model_name": "LayoutModel",
            "_view_count": null,
            "_view_module": "@jupyter-widgets/base",
            "_view_module_version": "1.2.0",
            "_view_name": "LayoutView",
            "align_content": null,
            "align_items": null,
            "align_self": null,
            "border": null,
            "bottom": null,
            "display": null,
            "flex": null,
            "flex_flow": null,
            "grid_area": null,
            "grid_auto_columns": null,
            "grid_auto_flow": null,
            "grid_auto_rows": null,
            "grid_column": null,
            "grid_gap": null,
            "grid_row": null,
            "grid_template_areas": null,
            "grid_template_columns": null,
            "grid_template_rows": null,
            "height": null,
            "justify_content": null,
            "justify_items": null,
            "left": null,
            "margin": null,
            "max_height": null,
            "max_width": null,
            "min_height": null,
            "min_width": null,
            "object_fit": null,
            "object_position": null,
            "order": null,
            "overflow": null,
            "overflow_x": null,
            "overflow_y": null,
            "padding": null,
            "right": null,
            "top": null,
            "visibility": null,
            "width": null
          }
        },
        "53f5a243727a48de8f9308dcb0726ab8": {
          "model_module": "@jupyter-widgets/controls",
          "model_name": "ProgressStyleModel",
          "model_module_version": "1.5.0",
          "state": {
            "_model_module": "@jupyter-widgets/controls",
            "_model_module_version": "1.5.0",
            "_model_name": "ProgressStyleModel",
            "_view_count": null,
            "_view_module": "@jupyter-widgets/base",
            "_view_module_version": "1.2.0",
            "_view_name": "StyleView",
            "bar_color": null,
            "description_width": ""
          }
        },
        "a006dac5aacc443898f3cb3eb5c7e18a": {
          "model_module": "@jupyter-widgets/base",
          "model_name": "LayoutModel",
          "model_module_version": "1.2.0",
          "state": {
            "_model_module": "@jupyter-widgets/base",
            "_model_module_version": "1.2.0",
            "_model_name": "LayoutModel",
            "_view_count": null,
            "_view_module": "@jupyter-widgets/base",
            "_view_module_version": "1.2.0",
            "_view_name": "LayoutView",
            "align_content": null,
            "align_items": null,
            "align_self": null,
            "border": null,
            "bottom": null,
            "display": null,
            "flex": null,
            "flex_flow": null,
            "grid_area": null,
            "grid_auto_columns": null,
            "grid_auto_flow": null,
            "grid_auto_rows": null,
            "grid_column": null,
            "grid_gap": null,
            "grid_row": null,
            "grid_template_areas": null,
            "grid_template_columns": null,
            "grid_template_rows": null,
            "height": null,
            "justify_content": null,
            "justify_items": null,
            "left": null,
            "margin": null,
            "max_height": null,
            "max_width": null,
            "min_height": null,
            "min_width": null,
            "object_fit": null,
            "object_position": null,
            "order": null,
            "overflow": null,
            "overflow_x": null,
            "overflow_y": null,
            "padding": null,
            "right": null,
            "top": null,
            "visibility": null,
            "width": null
          }
        },
        "05f2dcb1a21a4e1eae6ecfaf7126ae74": {
          "model_module": "@jupyter-widgets/controls",
          "model_name": "DescriptionStyleModel",
          "model_module_version": "1.5.0",
          "state": {
            "_model_module": "@jupyter-widgets/controls",
            "_model_module_version": "1.5.0",
            "_model_name": "DescriptionStyleModel",
            "_view_count": null,
            "_view_module": "@jupyter-widgets/base",
            "_view_module_version": "1.2.0",
            "_view_name": "StyleView",
            "description_width": ""
          }
        },
        "4c5c5dbe3a9346bf86e29a9654d1fb6e": {
          "model_module": "@jupyter-widgets/controls",
          "model_name": "HBoxModel",
          "model_module_version": "1.5.0",
          "state": {
            "_dom_classes": [],
            "_model_module": "@jupyter-widgets/controls",
            "_model_module_version": "1.5.0",
            "_model_name": "HBoxModel",
            "_view_count": null,
            "_view_module": "@jupyter-widgets/controls",
            "_view_module_version": "1.5.0",
            "_view_name": "HBoxView",
            "box_style": "",
            "children": [
              "IPY_MODEL_7553dee9bacb4ed08185394b683762e7",
              "IPY_MODEL_ee63f5a9f968456eb66cd8432709c26b",
              "IPY_MODEL_0e52ef47a4e544329aed13d4fb801436"
            ],
            "layout": "IPY_MODEL_2dfbedbae3ae46508b64bb0d9e4f04b0"
          }
        },
        "7553dee9bacb4ed08185394b683762e7": {
          "model_module": "@jupyter-widgets/controls",
          "model_name": "HTMLModel",
          "model_module_version": "1.5.0",
          "state": {
            "_dom_classes": [],
            "_model_module": "@jupyter-widgets/controls",
            "_model_module_version": "1.5.0",
            "_model_name": "HTMLModel",
            "_view_count": null,
            "_view_module": "@jupyter-widgets/controls",
            "_view_module_version": "1.5.0",
            "_view_name": "HTMLView",
            "description": "",
            "description_tooltip": null,
            "layout": "IPY_MODEL_d8b55f2c84e54b59b7b369826acdfb11",
            "placeholder": "​",
            "style": "IPY_MODEL_3f238381765d4be59ba58c21405adbee",
            "value": "model.safetensors: 100%"
          }
        },
        "ee63f5a9f968456eb66cd8432709c26b": {
          "model_module": "@jupyter-widgets/controls",
          "model_name": "FloatProgressModel",
          "model_module_version": "1.5.0",
          "state": {
            "_dom_classes": [],
            "_model_module": "@jupyter-widgets/controls",
            "_model_module_version": "1.5.0",
            "_model_name": "FloatProgressModel",
            "_view_count": null,
            "_view_module": "@jupyter-widgets/controls",
            "_view_module_version": "1.5.0",
            "_view_name": "ProgressView",
            "bar_style": "success",
            "description": "",
            "description_tooltip": null,
            "layout": "IPY_MODEL_0a6ad705ed9d4d5cb15fe35915fa1a3c",
            "max": 2244817354,
            "min": 0,
            "orientation": "horizontal",
            "style": "IPY_MODEL_4282db8326e949dda0a28d0622e316cb",
            "value": 2244817354
          }
        },
        "0e52ef47a4e544329aed13d4fb801436": {
          "model_module": "@jupyter-widgets/controls",
          "model_name": "HTMLModel",
          "model_module_version": "1.5.0",
          "state": {
            "_dom_classes": [],
            "_model_module": "@jupyter-widgets/controls",
            "_model_module_version": "1.5.0",
            "_model_name": "HTMLModel",
            "_view_count": null,
            "_view_module": "@jupyter-widgets/controls",
            "_view_module_version": "1.5.0",
            "_view_name": "HTMLView",
            "description": "",
            "description_tooltip": null,
            "layout": "IPY_MODEL_6709b1836bb340e7b2b06e2aa1689066",
            "placeholder": "​",
            "style": "IPY_MODEL_3f6cd2cbe54b4e77aa406e0e3518306d",
            "value": " 2.24G/2.24G [00:16&lt;00:00, 189MB/s]"
          }
        },
        "2dfbedbae3ae46508b64bb0d9e4f04b0": {
          "model_module": "@jupyter-widgets/base",
          "model_name": "LayoutModel",
          "model_module_version": "1.2.0",
          "state": {
            "_model_module": "@jupyter-widgets/base",
            "_model_module_version": "1.2.0",
            "_model_name": "LayoutModel",
            "_view_count": null,
            "_view_module": "@jupyter-widgets/base",
            "_view_module_version": "1.2.0",
            "_view_name": "LayoutView",
            "align_content": null,
            "align_items": null,
            "align_self": null,
            "border": null,
            "bottom": null,
            "display": null,
            "flex": null,
            "flex_flow": null,
            "grid_area": null,
            "grid_auto_columns": null,
            "grid_auto_flow": null,
            "grid_auto_rows": null,
            "grid_column": null,
            "grid_gap": null,
            "grid_row": null,
            "grid_template_areas": null,
            "grid_template_columns": null,
            "grid_template_rows": null,
            "height": null,
            "justify_content": null,
            "justify_items": null,
            "left": null,
            "margin": null,
            "max_height": null,
            "max_width": null,
            "min_height": null,
            "min_width": null,
            "object_fit": null,
            "object_position": null,
            "order": null,
            "overflow": null,
            "overflow_x": null,
            "overflow_y": null,
            "padding": null,
            "right": null,
            "top": null,
            "visibility": null,
            "width": null
          }
        },
        "d8b55f2c84e54b59b7b369826acdfb11": {
          "model_module": "@jupyter-widgets/base",
          "model_name": "LayoutModel",
          "model_module_version": "1.2.0",
          "state": {
            "_model_module": "@jupyter-widgets/base",
            "_model_module_version": "1.2.0",
            "_model_name": "LayoutModel",
            "_view_count": null,
            "_view_module": "@jupyter-widgets/base",
            "_view_module_version": "1.2.0",
            "_view_name": "LayoutView",
            "align_content": null,
            "align_items": null,
            "align_self": null,
            "border": null,
            "bottom": null,
            "display": null,
            "flex": null,
            "flex_flow": null,
            "grid_area": null,
            "grid_auto_columns": null,
            "grid_auto_flow": null,
            "grid_auto_rows": null,
            "grid_column": null,
            "grid_gap": null,
            "grid_row": null,
            "grid_template_areas": null,
            "grid_template_columns": null,
            "grid_template_rows": null,
            "height": null,
            "justify_content": null,
            "justify_items": null,
            "left": null,
            "margin": null,
            "max_height": null,
            "max_width": null,
            "min_height": null,
            "min_width": null,
            "object_fit": null,
            "object_position": null,
            "order": null,
            "overflow": null,
            "overflow_x": null,
            "overflow_y": null,
            "padding": null,
            "right": null,
            "top": null,
            "visibility": null,
            "width": null
          }
        },
        "3f238381765d4be59ba58c21405adbee": {
          "model_module": "@jupyter-widgets/controls",
          "model_name": "DescriptionStyleModel",
          "model_module_version": "1.5.0",
          "state": {
            "_model_module": "@jupyter-widgets/controls",
            "_model_module_version": "1.5.0",
            "_model_name": "DescriptionStyleModel",
            "_view_count": null,
            "_view_module": "@jupyter-widgets/base",
            "_view_module_version": "1.2.0",
            "_view_name": "StyleView",
            "description_width": ""
          }
        },
        "0a6ad705ed9d4d5cb15fe35915fa1a3c": {
          "model_module": "@jupyter-widgets/base",
          "model_name": "LayoutModel",
          "model_module_version": "1.2.0",
          "state": {
            "_model_module": "@jupyter-widgets/base",
            "_model_module_version": "1.2.0",
            "_model_name": "LayoutModel",
            "_view_count": null,
            "_view_module": "@jupyter-widgets/base",
            "_view_module_version": "1.2.0",
            "_view_name": "LayoutView",
            "align_content": null,
            "align_items": null,
            "align_self": null,
            "border": null,
            "bottom": null,
            "display": null,
            "flex": null,
            "flex_flow": null,
            "grid_area": null,
            "grid_auto_columns": null,
            "grid_auto_flow": null,
            "grid_auto_rows": null,
            "grid_column": null,
            "grid_gap": null,
            "grid_row": null,
            "grid_template_areas": null,
            "grid_template_columns": null,
            "grid_template_rows": null,
            "height": null,
            "justify_content": null,
            "justify_items": null,
            "left": null,
            "margin": null,
            "max_height": null,
            "max_width": null,
            "min_height": null,
            "min_width": null,
            "object_fit": null,
            "object_position": null,
            "order": null,
            "overflow": null,
            "overflow_x": null,
            "overflow_y": null,
            "padding": null,
            "right": null,
            "top": null,
            "visibility": null,
            "width": null
          }
        },
        "4282db8326e949dda0a28d0622e316cb": {
          "model_module": "@jupyter-widgets/controls",
          "model_name": "ProgressStyleModel",
          "model_module_version": "1.5.0",
          "state": {
            "_model_module": "@jupyter-widgets/controls",
            "_model_module_version": "1.5.0",
            "_model_name": "ProgressStyleModel",
            "_view_count": null,
            "_view_module": "@jupyter-widgets/base",
            "_view_module_version": "1.2.0",
            "_view_name": "StyleView",
            "bar_color": null,
            "description_width": ""
          }
        },
        "6709b1836bb340e7b2b06e2aa1689066": {
          "model_module": "@jupyter-widgets/base",
          "model_name": "LayoutModel",
          "model_module_version": "1.2.0",
          "state": {
            "_model_module": "@jupyter-widgets/base",
            "_model_module_version": "1.2.0",
            "_model_name": "LayoutModel",
            "_view_count": null,
            "_view_module": "@jupyter-widgets/base",
            "_view_module_version": "1.2.0",
            "_view_name": "LayoutView",
            "align_content": null,
            "align_items": null,
            "align_self": null,
            "border": null,
            "bottom": null,
            "display": null,
            "flex": null,
            "flex_flow": null,
            "grid_area": null,
            "grid_auto_columns": null,
            "grid_auto_flow": null,
            "grid_auto_rows": null,
            "grid_column": null,
            "grid_gap": null,
            "grid_row": null,
            "grid_template_areas": null,
            "grid_template_columns": null,
            "grid_template_rows": null,
            "height": null,
            "justify_content": null,
            "justify_items": null,
            "left": null,
            "margin": null,
            "max_height": null,
            "max_width": null,
            "min_height": null,
            "min_width": null,
            "object_fit": null,
            "object_position": null,
            "order": null,
            "overflow": null,
            "overflow_x": null,
            "overflow_y": null,
            "padding": null,
            "right": null,
            "top": null,
            "visibility": null,
            "width": null
          }
        },
        "3f6cd2cbe54b4e77aa406e0e3518306d": {
          "model_module": "@jupyter-widgets/controls",
          "model_name": "DescriptionStyleModel",
          "model_module_version": "1.5.0",
          "state": {
            "_model_module": "@jupyter-widgets/controls",
            "_model_module_version": "1.5.0",
            "_model_name": "DescriptionStyleModel",
            "_view_count": null,
            "_view_module": "@jupyter-widgets/base",
            "_view_module_version": "1.2.0",
            "_view_name": "StyleView",
            "description_width": ""
          }
        }
      }
    },
    "accelerator": "GPU"
  },
  "nbformat": 4,
  "nbformat_minor": 0
}